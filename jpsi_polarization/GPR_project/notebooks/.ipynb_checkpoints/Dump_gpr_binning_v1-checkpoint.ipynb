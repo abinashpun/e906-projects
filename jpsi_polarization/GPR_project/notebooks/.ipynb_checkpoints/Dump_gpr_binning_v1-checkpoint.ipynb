{
 "cells": [
  {
   "cell_type": "code",
   "execution_count": 1,
   "id": "bf95b63d-1b59-4b6f-8dc9-42be6564c1b2",
   "metadata": {},
   "outputs": [
    {
     "name": "stdout",
     "output_type": "stream",
     "text": [
      "Welcome to JupyROOT 6.24/06\n"
     ]
    }
   ],
   "source": [
    "import uproot\n",
    "import numpy as np\n",
    "import numba\n",
    "import matplotlib.pyplot as plt\n",
    "import hist as hephist\n",
    "from matplotlib.ticker import MaxNLocator,AutoMinorLocator # for minor ticks\n",
    "from lmfit.models import PolynomialModel, GaussianModel # for the signal and background fits\n",
    "from sklearn.gaussian_process import GaussianProcessRegressor \n",
    "import scipy.optimize\n",
    "from sklearn.gaussian_process.kernels import RBF, Matern, RationalQuadratic, ExpSineSquared, DotProduct, WhiteKernel, ConstantKernel as C\n",
    "from sklearn.preprocessing import StandardScaler, Normalizer\n",
    "from sklearn.pipeline import Pipeline\n",
    "import pandas as pd\n",
    "import scipy.stats\n",
    "from scipy import integrate as intg \n",
    "from scipy.integrate import trapz, simps, quad\n",
    "import math\n",
    "from uncertainties import ufloat\n",
    "import seaborn as sns\n",
    "#sns.set_theme()\n",
    "#df = sns.load_dataset(\"penguins\")\n",
    "from numba import njit\n",
    "import random\n",
    "\n",
    "#%matplotlib inline\n",
    "%matplotlib widget\n",
    "\n",
    "import ROOT\n",
    "from ROOT import TH1D, TCanvas,TH2D"
   ]
  },
  {
   "cell_type": "code",
   "execution_count": 2,
   "id": "d82665ca-bfea-430c-ae06-d51a6e6107a0",
   "metadata": {},
   "outputs": [],
   "source": [
    "from  help_class.model import gpr_model\n",
    "# class gpr_model:\n",
    "#     data_train = []#3D array 0:- bin center (X), 1:-bin value (Y), 2: bin error Y_error\n",
    "#     data = []\n",
    "#     def __init__(self):\n",
    "#         self\n",
    "\n",
    "#     #sb:[left_band_start, left_band_end, right_band_start, right_band_end],\n",
    "#     #data: 3D array 0:- bin center (X), 1:-bin value (Y), 2: bin error Y_error\n",
    "#     def set_sideband(self, sideband, data): \n",
    "#         self.data = data\n",
    "#         mask = (((sideband[0] <= data[:,0]) & (data[:,0] <= sideband[1])) | ((sideband[2] <= data[:,0]) & (data[:,0] <= sideband[3])))\n",
    "#         self.data_train = data[mask]\n",
    "        \n",
    "#     # use RBF kernel(only for now)\n",
    "#     # range1 && range2 are tuples\n",
    "#     def set_kernel(self, val1, range1, length_scale, range2):\n",
    "#         self.kernel = C(val1, range1)* RBF(length_scale, range2)\n",
    "        \n",
    "#     def predict(self, niter):\n",
    "\n",
    "#         kernel = self.kernel\n",
    "#         data_train = self.data_train\n",
    "#         data = self.data\n",
    "#         M = GaussianProcessRegressor(kernel=kernel, alpha=data_train[:, 2]**2, n_restarts_optimizer=niter)\n",
    "#         M.fit(np.atleast_2d(data_train[:, 0]).T, data_train[:, 1])\n",
    "\n",
    "#         print(\"kernel : \", M.kernel_)\n",
    "#         print(\"score = \", M.score(np.atleast_2d(data[:, 0]).T, data[:, 1]))\n",
    "#         print(f\"Log-likelihood: {M.log_marginal_likelihood(M.kernel_.theta):.3f}\")\n",
    "        \n",
    "#         y_pred, sigma = M.predict(np.atleast_2d(data[:, 0]).T, return_std=True)\n",
    "#         Y_pred, cov_matrix = M.predict(np.atleast_2d(data[:, 0]).T, return_cov=True)\n",
    "#         sigma2 = np.sum(cov_matrix, axis=0)\n",
    "#         gpr_error = np.sqrt(abs(sigma2))\n",
    "#         return y_pred,sigma, gpr_error\n",
    "      "
   ]
  },
  {
   "cell_type": "markdown",
   "id": "d8317cfd-a39a-42cf-a9ef-3283e820a076",
   "metadata": {},
   "source": [
    "## Read the files "
   ]
  },
  {
   "cell_type": "code",
   "execution_count": 3,
   "id": "5691efb4-68e3-40ed-9b15-2cbcfa409247",
   "metadata": {},
   "outputs": [],
   "source": [
    "#file_path = \"../../root_files\"\n",
    "#file = uproot.open(\"../../root_files/merged_RS67_3089LD2.root\",object_cache=1000)\n",
    "file = uproot.open(\"/Users/abinashpun/E906_projects/root_files/merged_RS67_3087all_target.root\",object_cache=1000)\n",
    "#file = uproot.open(\"../../root_files/reduced_RS67_3087all_target_looseDumpcut_unmixed.root\",object_cache=1000)\n",
    "\n",
    "result_tree = file['result']\n",
    "\n"
   ]
  },
  {
   "cell_type": "code",
   "execution_count": 4,
   "id": "7e408e82-1651-4728-bd53-c3d9da3ebcfd",
   "metadata": {},
   "outputs": [],
   "source": [
    "#file_mix = uproot.open(\"../../root_files/reduced_RS67_3087all_target_looseDumpcut_mixed.root\",object_cache=1000)\n",
    "#result_mix_tree = file_mix['result_mix']\n",
    "result_mix_tree = file['result_mix']"
   ]
  },
  {
   "cell_type": "code",
   "execution_count": 5,
   "id": "5f06ce80-524a-49d1-871f-d56444c7ac66",
   "metadata": {},
   "outputs": [],
   "source": [
    "#MonteCarlo files\n",
    "\n",
    "jpsi_file = uproot.open(\"/Users/abinashpun/E906_projects/root_files/mc_jpsi_dump_M026_S002_messy_all_0_mix1_pT_D.root\")\n",
    "jpsi_tree = jpsi_file['Tree']\n",
    "#jpsi_branches = jpsi_tree.arrays()\n",
    "\n",
    "\n",
    "psiprime_file = uproot.open(\"/Users/abinashpun/E906_projects/root_files/mc_psiprime_dump_M026_S002_messy_all_0_mix1_pT_D.root\")\n",
    "psiprime_tree = psiprime_file['Tree']\n",
    "#psiprime_branches = psiprime_tree.arrays()"
   ]
  },
  {
   "cell_type": "code",
   "execution_count": 6,
   "id": "ccb7fb64-f2c6-4171-add8-ce4bcac5f435",
   "metadata": {},
   "outputs": [
    {
     "data": {
      "text/html": [
       "<div>\n",
       "<style scoped>\n",
       "    .dataframe tbody tr th:only-of-type {\n",
       "        vertical-align: middle;\n",
       "    }\n",
       "\n",
       "    .dataframe tbody tr th {\n",
       "        vertical-align: top;\n",
       "    }\n",
       "\n",
       "    .dataframe thead th {\n",
       "        text-align: right;\n",
       "    }\n",
       "</style>\n",
       "<table border=\"1\" class=\"dataframe\">\n",
       "  <thead>\n",
       "    <tr style=\"text-align: right;\">\n",
       "      <th></th>\n",
       "      <th>runID</th>\n",
       "      <th>spillID</th>\n",
       "      <th>eventID</th>\n",
       "      <th>D1</th>\n",
       "      <th>D2</th>\n",
       "      <th>D3</th>\n",
       "      <th>occuD3m</th>\n",
       "      <th>occuD3p</th>\n",
       "      <th>rfp00c</th>\n",
       "      <th>pot_p00</th>\n",
       "      <th>...</th>\n",
       "      <th>nHits2St2</th>\n",
       "      <th>nHits2St3</th>\n",
       "      <th>chisq1</th>\n",
       "      <th>chisq1_upstream</th>\n",
       "      <th>chisq1_target</th>\n",
       "      <th>chisq1_dump</th>\n",
       "      <th>chisq2</th>\n",
       "      <th>chisq2_upstream</th>\n",
       "      <th>chisq2_target</th>\n",
       "      <th>chisq2_dump</th>\n",
       "    </tr>\n",
       "  </thead>\n",
       "  <tbody>\n",
       "    <tr>\n",
       "      <th>0</th>\n",
       "      <td>12525</td>\n",
       "      <td>485007</td>\n",
       "      <td>146438</td>\n",
       "      <td>719</td>\n",
       "      <td>806</td>\n",
       "      <td>952</td>\n",
       "      <td>438</td>\n",
       "      <td>514</td>\n",
       "      <td>1530.630005</td>\n",
       "      <td>26480.400391</td>\n",
       "      <td>...</td>\n",
       "      <td>4</td>\n",
       "      <td>5</td>\n",
       "      <td>3.578541</td>\n",
       "      <td>71.281677</td>\n",
       "      <td>30.915342</td>\n",
       "      <td>3.781781</td>\n",
       "      <td>0.112139</td>\n",
       "      <td>5.566748</td>\n",
       "      <td>13.477578</td>\n",
       "      <td>149.046280</td>\n",
       "    </tr>\n",
       "    <tr>\n",
       "      <th>1</th>\n",
       "      <td>12525</td>\n",
       "      <td>484980</td>\n",
       "      <td>87282</td>\n",
       "      <td>708</td>\n",
       "      <td>601</td>\n",
       "      <td>667</td>\n",
       "      <td>378</td>\n",
       "      <td>289</td>\n",
       "      <td>2234.629883</td>\n",
       "      <td>38549.203125</td>\n",
       "      <td>...</td>\n",
       "      <td>5</td>\n",
       "      <td>5</td>\n",
       "      <td>2.916970</td>\n",
       "      <td>65.637802</td>\n",
       "      <td>32.038200</td>\n",
       "      <td>5.515533</td>\n",
       "      <td>1.236574</td>\n",
       "      <td>32.024467</td>\n",
       "      <td>15.649112</td>\n",
       "      <td>2.037855</td>\n",
       "    </tr>\n",
       "    <tr>\n",
       "      <th>2</th>\n",
       "      <td>12525</td>\n",
       "      <td>485000</td>\n",
       "      <td>128195</td>\n",
       "      <td>594</td>\n",
       "      <td>349</td>\n",
       "      <td>394</td>\n",
       "      <td>248</td>\n",
       "      <td>146</td>\n",
       "      <td>2938.629883</td>\n",
       "      <td>50774.175781</td>\n",
       "      <td>...</td>\n",
       "      <td>5</td>\n",
       "      <td>6</td>\n",
       "      <td>1.381539</td>\n",
       "      <td>101.921661</td>\n",
       "      <td>76.685783</td>\n",
       "      <td>46.323097</td>\n",
       "      <td>0.440945</td>\n",
       "      <td>0.812212</td>\n",
       "      <td>0.074278</td>\n",
       "      <td>0.172446</td>\n",
       "    </tr>\n",
       "    <tr>\n",
       "      <th>3</th>\n",
       "      <td>12525</td>\n",
       "      <td>485000</td>\n",
       "      <td>128195</td>\n",
       "      <td>594</td>\n",
       "      <td>349</td>\n",
       "      <td>394</td>\n",
       "      <td>248</td>\n",
       "      <td>146</td>\n",
       "      <td>2938.629883</td>\n",
       "      <td>50774.175781</td>\n",
       "      <td>...</td>\n",
       "      <td>5</td>\n",
       "      <td>5</td>\n",
       "      <td>1.381539</td>\n",
       "      <td>101.921661</td>\n",
       "      <td>76.685783</td>\n",
       "      <td>46.323097</td>\n",
       "      <td>2.753839</td>\n",
       "      <td>105.044228</td>\n",
       "      <td>28.610647</td>\n",
       "      <td>5.392654</td>\n",
       "    </tr>\n",
       "    <tr>\n",
       "      <th>4</th>\n",
       "      <td>12525</td>\n",
       "      <td>484975</td>\n",
       "      <td>74553</td>\n",
       "      <td>586</td>\n",
       "      <td>740</td>\n",
       "      <td>747</td>\n",
       "      <td>373</td>\n",
       "      <td>374</td>\n",
       "      <td>858.630005</td>\n",
       "      <td>14821.538086</td>\n",
       "      <td>...</td>\n",
       "      <td>5</td>\n",
       "      <td>5</td>\n",
       "      <td>11.963326</td>\n",
       "      <td>81.599571</td>\n",
       "      <td>59.740093</td>\n",
       "      <td>36.749580</td>\n",
       "      <td>0.402625</td>\n",
       "      <td>17.412228</td>\n",
       "      <td>2.856654</td>\n",
       "      <td>1.795740</td>\n",
       "    </tr>\n",
       "  </tbody>\n",
       "</table>\n",
       "<p>5 rows × 80 columns</p>\n",
       "</div>"
      ],
      "text/plain": [
       "   runID  spillID  eventID   D1   D2   D3  occuD3m  occuD3p       rfp00c  \\\n",
       "0  12525   485007   146438  719  806  952      438      514  1530.630005   \n",
       "1  12525   484980    87282  708  601  667      378      289  2234.629883   \n",
       "2  12525   485000   128195  594  349  394      248      146  2938.629883   \n",
       "3  12525   485000   128195  594  349  394      248      146  2938.629883   \n",
       "4  12525   484975    74553  586  740  747      373      374   858.630005   \n",
       "\n",
       "        pot_p00  ...  nHits2St2  nHits2St3     chisq1  chisq1_upstream  \\\n",
       "0  26480.400391  ...          4          5   3.578541        71.281677   \n",
       "1  38549.203125  ...          5          5   2.916970        65.637802   \n",
       "2  50774.175781  ...          5          6   1.381539       101.921661   \n",
       "3  50774.175781  ...          5          5   1.381539       101.921661   \n",
       "4  14821.538086  ...          5          5  11.963326        81.599571   \n",
       "\n",
       "   chisq1_target  chisq1_dump    chisq2  chisq2_upstream  chisq2_target  \\\n",
       "0      30.915342     3.781781  0.112139         5.566748      13.477578   \n",
       "1      32.038200     5.515533  1.236574        32.024467      15.649112   \n",
       "2      76.685783    46.323097  0.440945         0.812212       0.074278   \n",
       "3      76.685783    46.323097  2.753839       105.044228      28.610647   \n",
       "4      59.740093    36.749580  0.402625        17.412228       2.856654   \n",
       "\n",
       "   chisq2_dump  \n",
       "0   149.046280  \n",
       "1     2.037855  \n",
       "2     0.172446  \n",
       "3     5.392654  \n",
       "4     1.795740  \n",
       "\n",
       "[5 rows x 80 columns]"
      ]
     },
     "execution_count": 6,
     "metadata": {},
     "output_type": "execute_result"
    }
   ],
   "source": [
    "df_real = result_tree.arrays(library=\"pd\") #to get as pandas data frame\n",
    "df_real.head()\n",
    "\n"
   ]
  },
  {
   "cell_type": "code",
   "execution_count": 7,
   "id": "1dc87b0d-d4a3-41bf-aa65-df53289d551b",
   "metadata": {},
   "outputs": [
    {
     "data": {
      "text/html": [
       "<div>\n",
       "<style scoped>\n",
       "    .dataframe tbody tr th:only-of-type {\n",
       "        vertical-align: middle;\n",
       "    }\n",
       "\n",
       "    .dataframe tbody tr th {\n",
       "        vertical-align: top;\n",
       "    }\n",
       "\n",
       "    .dataframe thead th {\n",
       "        text-align: right;\n",
       "    }\n",
       "</style>\n",
       "<table border=\"1\" class=\"dataframe\">\n",
       "  <thead>\n",
       "    <tr style=\"text-align: right;\">\n",
       "      <th></th>\n",
       "      <th>runID</th>\n",
       "      <th>spillID</th>\n",
       "      <th>D1</th>\n",
       "      <th>D2</th>\n",
       "      <th>D3</th>\n",
       "      <th>ptrk_D1</th>\n",
       "      <th>ptrk_D2</th>\n",
       "      <th>ptrk_occuD3m</th>\n",
       "      <th>ptrk_occuD3p</th>\n",
       "      <th>ptrk_rfp00c</th>\n",
       "      <th>...</th>\n",
       "      <th>nHits2St2</th>\n",
       "      <th>nHits2St3</th>\n",
       "      <th>chisq1</th>\n",
       "      <th>chisq1_upstream</th>\n",
       "      <th>chisq1_target</th>\n",
       "      <th>chisq1_dump</th>\n",
       "      <th>chisq2</th>\n",
       "      <th>chisq2_upstream</th>\n",
       "      <th>chisq2_target</th>\n",
       "      <th>chisq2_dump</th>\n",
       "    </tr>\n",
       "  </thead>\n",
       "  <tbody>\n",
       "    <tr>\n",
       "      <th>0</th>\n",
       "      <td>12525</td>\n",
       "      <td>0</td>\n",
       "      <td>583</td>\n",
       "      <td>675</td>\n",
       "      <td>847</td>\n",
       "      <td>583</td>\n",
       "      <td>757</td>\n",
       "      <td>469</td>\n",
       "      <td>465</td>\n",
       "      <td>-32.369999</td>\n",
       "      <td>...</td>\n",
       "      <td>5</td>\n",
       "      <td>4</td>\n",
       "      <td>0.300416</td>\n",
       "      <td>0.607049</td>\n",
       "      <td>51.581818</td>\n",
       "      <td>341.175232</td>\n",
       "      <td>10.847273</td>\n",
       "      <td>17.380821</td>\n",
       "      <td>10.696171</td>\n",
       "      <td>63.126820</td>\n",
       "    </tr>\n",
       "    <tr>\n",
       "      <th>1</th>\n",
       "      <td>12525</td>\n",
       "      <td>0</td>\n",
       "      <td>583</td>\n",
       "      <td>675</td>\n",
       "      <td>847</td>\n",
       "      <td>583</td>\n",
       "      <td>757</td>\n",
       "      <td>469</td>\n",
       "      <td>465</td>\n",
       "      <td>-32.369999</td>\n",
       "      <td>...</td>\n",
       "      <td>5</td>\n",
       "      <td>4</td>\n",
       "      <td>4.810805</td>\n",
       "      <td>21.921455</td>\n",
       "      <td>3.990668</td>\n",
       "      <td>26.767950</td>\n",
       "      <td>10.847273</td>\n",
       "      <td>17.380821</td>\n",
       "      <td>10.696171</td>\n",
       "      <td>63.126820</td>\n",
       "    </tr>\n",
       "    <tr>\n",
       "      <th>2</th>\n",
       "      <td>12525</td>\n",
       "      <td>0</td>\n",
       "      <td>539</td>\n",
       "      <td>481</td>\n",
       "      <td>547</td>\n",
       "      <td>539</td>\n",
       "      <td>330</td>\n",
       "      <td>245</td>\n",
       "      <td>206</td>\n",
       "      <td>4218.629883</td>\n",
       "      <td>...</td>\n",
       "      <td>4</td>\n",
       "      <td>5</td>\n",
       "      <td>42.873497</td>\n",
       "      <td>89.747673</td>\n",
       "      <td>66.826385</td>\n",
       "      <td>45.930878</td>\n",
       "      <td>1.513134</td>\n",
       "      <td>174.036285</td>\n",
       "      <td>113.027443</td>\n",
       "      <td>48.298931</td>\n",
       "    </tr>\n",
       "    <tr>\n",
       "      <th>3</th>\n",
       "      <td>12525</td>\n",
       "      <td>0</td>\n",
       "      <td>533</td>\n",
       "      <td>278</td>\n",
       "      <td>381</td>\n",
       "      <td>533</td>\n",
       "      <td>284</td>\n",
       "      <td>153</td>\n",
       "      <td>224</td>\n",
       "      <td>986.630005</td>\n",
       "      <td>...</td>\n",
       "      <td>4</td>\n",
       "      <td>5</td>\n",
       "      <td>10.999554</td>\n",
       "      <td>20.256880</td>\n",
       "      <td>8.667981</td>\n",
       "      <td>66.890396</td>\n",
       "      <td>25.264532</td>\n",
       "      <td>177.403290</td>\n",
       "      <td>116.857994</td>\n",
       "      <td>55.233116</td>\n",
       "    </tr>\n",
       "    <tr>\n",
       "      <th>4</th>\n",
       "      <td>12525</td>\n",
       "      <td>0</td>\n",
       "      <td>480</td>\n",
       "      <td>197</td>\n",
       "      <td>223</td>\n",
       "      <td>480</td>\n",
       "      <td>198</td>\n",
       "      <td>125</td>\n",
       "      <td>103</td>\n",
       "      <td>1850.630005</td>\n",
       "      <td>...</td>\n",
       "      <td>6</td>\n",
       "      <td>5</td>\n",
       "      <td>21.058973</td>\n",
       "      <td>69.367920</td>\n",
       "      <td>43.318829</td>\n",
       "      <td>23.155361</td>\n",
       "      <td>0.746363</td>\n",
       "      <td>14.419147</td>\n",
       "      <td>6.070827</td>\n",
       "      <td>1.092052</td>\n",
       "    </tr>\n",
       "  </tbody>\n",
       "</table>\n",
       "<p>5 rows × 90 columns</p>\n",
       "</div>"
      ],
      "text/plain": [
       "   runID  spillID   D1   D2   D3  ptrk_D1  ptrk_D2  ptrk_occuD3m  \\\n",
       "0  12525        0  583  675  847      583      757           469   \n",
       "1  12525        0  583  675  847      583      757           469   \n",
       "2  12525        0  539  481  547      539      330           245   \n",
       "3  12525        0  533  278  381      533      284           153   \n",
       "4  12525        0  480  197  223      480      198           125   \n",
       "\n",
       "   ptrk_occuD3p  ptrk_rfp00c  ...  nHits2St2  nHits2St3     chisq1  \\\n",
       "0           465   -32.369999  ...          5          4   0.300416   \n",
       "1           465   -32.369999  ...          5          4   4.810805   \n",
       "2           206  4218.629883  ...          4          5  42.873497   \n",
       "3           224   986.630005  ...          4          5  10.999554   \n",
       "4           103  1850.630005  ...          6          5  21.058973   \n",
       "\n",
       "   chisq1_upstream  chisq1_target  chisq1_dump     chisq2  chisq2_upstream  \\\n",
       "0         0.607049      51.581818   341.175232  10.847273        17.380821   \n",
       "1        21.921455       3.990668    26.767950  10.847273        17.380821   \n",
       "2        89.747673      66.826385    45.930878   1.513134       174.036285   \n",
       "3        20.256880       8.667981    66.890396  25.264532       177.403290   \n",
       "4        69.367920      43.318829    23.155361   0.746363        14.419147   \n",
       "\n",
       "   chisq2_target  chisq2_dump  \n",
       "0      10.696171    63.126820  \n",
       "1      10.696171    63.126820  \n",
       "2     113.027443    48.298931  \n",
       "3     116.857994    55.233116  \n",
       "4       6.070827     1.092052  \n",
       "\n",
       "[5 rows x 90 columns]"
      ]
     },
     "execution_count": 7,
     "metadata": {},
     "output_type": "execute_result"
    }
   ],
   "source": [
    "df_mix = result_mix_tree.arrays(library=\"pd\")\n",
    "df_mix.head()\n",
    "\n",
    "\n"
   ]
  },
  {
   "cell_type": "code",
   "execution_count": 8,
   "id": "ecd63a7b-5fc8-452d-910c-e60b39f1ac61",
   "metadata": {},
   "outputs": [
    {
     "data": {
      "text/html": [
       "<div>\n",
       "<style scoped>\n",
       "    .dataframe tbody tr th:only-of-type {\n",
       "        vertical-align: middle;\n",
       "    }\n",
       "\n",
       "    .dataframe tbody tr th {\n",
       "        vertical-align: top;\n",
       "    }\n",
       "\n",
       "    .dataframe thead th {\n",
       "        text-align: right;\n",
       "    }\n",
       "</style>\n",
       "<table border=\"1\" class=\"dataframe\">\n",
       "  <thead>\n",
       "    <tr style=\"text-align: right;\">\n",
       "      <th></th>\n",
       "      <th>runN</th>\n",
       "      <th>spillID</th>\n",
       "      <th>eventID</th>\n",
       "      <th>mass</th>\n",
       "      <th>px1</th>\n",
       "      <th>py1</th>\n",
       "      <th>pz1</th>\n",
       "      <th>px2</th>\n",
       "      <th>py2</th>\n",
       "      <th>pz2</th>\n",
       "      <th>...</th>\n",
       "      <th>xFMC</th>\n",
       "      <th>xBMC</th>\n",
       "      <th>DmxMC</th>\n",
       "      <th>DmyMC</th>\n",
       "      <th>DmzMC</th>\n",
       "      <th>DmpxMC</th>\n",
       "      <th>DmpyMC</th>\n",
       "      <th>DmpzMC</th>\n",
       "      <th>pT</th>\n",
       "      <th>pTMC</th>\n",
       "    </tr>\n",
       "  </thead>\n",
       "  <tbody>\n",
       "    <tr>\n",
       "      <th>0</th>\n",
       "      <td>9999999.0</td>\n",
       "      <td>1.0</td>\n",
       "      <td>21.0</td>\n",
       "      <td>3.116348</td>\n",
       "      <td>-1.358030</td>\n",
       "      <td>0.496523</td>\n",
       "      <td>45.531330</td>\n",
       "      <td>1.632815</td>\n",
       "      <td>0.963589</td>\n",
       "      <td>36.121407</td>\n",
       "      <td>...</td>\n",
       "      <td>0.640394</td>\n",
       "      <td>0.678252</td>\n",
       "      <td>0.173805</td>\n",
       "      <td>1.513720</td>\n",
       "      <td>36.021835</td>\n",
       "      <td>-0.163249</td>\n",
       "      <td>0.882976</td>\n",
       "      <td>81.965698</td>\n",
       "      <td>1.485744</td>\n",
       "      <td>0.897940</td>\n",
       "    </tr>\n",
       "    <tr>\n",
       "      <th>1</th>\n",
       "      <td>9999999.0</td>\n",
       "      <td>1.0</td>\n",
       "      <td>30.0</td>\n",
       "      <td>2.972875</td>\n",
       "      <td>-1.472008</td>\n",
       "      <td>0.426493</td>\n",
       "      <td>61.485676</td>\n",
       "      <td>1.367287</td>\n",
       "      <td>-0.041117</td>\n",
       "      <td>33.266380</td>\n",
       "      <td>...</td>\n",
       "      <td>0.768293</td>\n",
       "      <td>0.788018</td>\n",
       "      <td>0.239960</td>\n",
       "      <td>1.777705</td>\n",
       "      <td>158.189056</td>\n",
       "      <td>-0.148429</td>\n",
       "      <td>0.519086</td>\n",
       "      <td>95.252548</td>\n",
       "      <td>0.399350</td>\n",
       "      <td>0.539890</td>\n",
       "    </tr>\n",
       "    <tr>\n",
       "      <th>2</th>\n",
       "      <td>9999999.0</td>\n",
       "      <td>1.0</td>\n",
       "      <td>47.0</td>\n",
       "      <td>2.858258</td>\n",
       "      <td>-1.428714</td>\n",
       "      <td>-1.058981</td>\n",
       "      <td>48.673313</td>\n",
       "      <td>1.400619</td>\n",
       "      <td>-0.926581</td>\n",
       "      <td>55.770000</td>\n",
       "      <td>...</td>\n",
       "      <td>0.848889</td>\n",
       "      <td>0.871367</td>\n",
       "      <td>-0.311408</td>\n",
       "      <td>1.332886</td>\n",
       "      <td>51.261780</td>\n",
       "      <td>0.053299</td>\n",
       "      <td>-1.617451</td>\n",
       "      <td>105.326920</td>\n",
       "      <td>1.985761</td>\n",
       "      <td>1.618329</td>\n",
       "    </tr>\n",
       "    <tr>\n",
       "      <th>3</th>\n",
       "      <td>9999999.0</td>\n",
       "      <td>1.0</td>\n",
       "      <td>52.0</td>\n",
       "      <td>3.278536</td>\n",
       "      <td>-0.838017</td>\n",
       "      <td>-0.637284</td>\n",
       "      <td>74.176071</td>\n",
       "      <td>1.462656</td>\n",
       "      <td>-1.186166</td>\n",
       "      <td>28.158257</td>\n",
       "      <td>...</td>\n",
       "      <td>0.809563</td>\n",
       "      <td>0.840532</td>\n",
       "      <td>-0.617051</td>\n",
       "      <td>1.029569</td>\n",
       "      <td>26.010904</td>\n",
       "      <td>0.979097</td>\n",
       "      <td>-1.583324</td>\n",
       "      <td>101.591293</td>\n",
       "      <td>1.927471</td>\n",
       "      <td>1.861598</td>\n",
       "    </tr>\n",
       "    <tr>\n",
       "      <th>4</th>\n",
       "      <td>9999999.0</td>\n",
       "      <td>1.0</td>\n",
       "      <td>58.0</td>\n",
       "      <td>3.243264</td>\n",
       "      <td>-1.554793</td>\n",
       "      <td>0.491832</td>\n",
       "      <td>31.377087</td>\n",
       "      <td>1.375291</td>\n",
       "      <td>-0.179212</td>\n",
       "      <td>58.932350</td>\n",
       "      <td>...</td>\n",
       "      <td>0.708763</td>\n",
       "      <td>0.734765</td>\n",
       "      <td>-0.771225</td>\n",
       "      <td>1.312855</td>\n",
       "      <td>62.331604</td>\n",
       "      <td>-0.092728</td>\n",
       "      <td>0.454776</td>\n",
       "      <td>88.808693</td>\n",
       "      <td>0.360489</td>\n",
       "      <td>0.464133</td>\n",
       "    </tr>\n",
       "  </tbody>\n",
       "</table>\n",
       "<p>5 rows × 118 columns</p>\n",
       "</div>"
      ],
      "text/plain": [
       "        runN  spillID  eventID      mass       px1       py1        pz1  \\\n",
       "0  9999999.0      1.0     21.0  3.116348 -1.358030  0.496523  45.531330   \n",
       "1  9999999.0      1.0     30.0  2.972875 -1.472008  0.426493  61.485676   \n",
       "2  9999999.0      1.0     47.0  2.858258 -1.428714 -1.058981  48.673313   \n",
       "3  9999999.0      1.0     52.0  3.278536 -0.838017 -0.637284  74.176071   \n",
       "4  9999999.0      1.0     58.0  3.243264 -1.554793  0.491832  31.377087   \n",
       "\n",
       "        px2       py2        pz2  ...      xFMC      xBMC     DmxMC     DmyMC  \\\n",
       "0  1.632815  0.963589  36.121407  ...  0.640394  0.678252  0.173805  1.513720   \n",
       "1  1.367287 -0.041117  33.266380  ...  0.768293  0.788018  0.239960  1.777705   \n",
       "2  1.400619 -0.926581  55.770000  ...  0.848889  0.871367 -0.311408  1.332886   \n",
       "3  1.462656 -1.186166  28.158257  ...  0.809563  0.840532 -0.617051  1.029569   \n",
       "4  1.375291 -0.179212  58.932350  ...  0.708763  0.734765 -0.771225  1.312855   \n",
       "\n",
       "        DmzMC    DmpxMC    DmpyMC      DmpzMC        pT      pTMC  \n",
       "0   36.021835 -0.163249  0.882976   81.965698  1.485744  0.897940  \n",
       "1  158.189056 -0.148429  0.519086   95.252548  0.399350  0.539890  \n",
       "2   51.261780  0.053299 -1.617451  105.326920  1.985761  1.618329  \n",
       "3   26.010904  0.979097 -1.583324  101.591293  1.927471  1.861598  \n",
       "4   62.331604 -0.092728  0.454776   88.808693  0.360489  0.464133  \n",
       "\n",
       "[5 rows x 118 columns]"
      ]
     },
     "execution_count": 8,
     "metadata": {},
     "output_type": "execute_result"
    }
   ],
   "source": [
    "df_jpsi = jpsi_tree.arrays(library=\"pd\")\n",
    "df_psip = psiprime_tree.arrays(library=\"pd\")\n",
    "df_jpsi.head()"
   ]
  },
  {
   "cell_type": "markdown",
   "id": "ecb0a897-05fc-46c5-826d-d7a5bdf5fe09",
   "metadata": {},
   "source": [
    "## Dump Data Cuts"
   ]
  },
  {
   "cell_type": "code",
   "execution_count": 9,
   "id": "207ff20d-833d-45d3-9fd9-b869ee97259a",
   "metadata": {},
   "outputs": [],
   "source": [
    "def Dump_PosTrk_cut(df_p):\n",
    "    ptrk_chisq_mask = (df_p['chisq1_dump']<40.) & (df_p['chisq1_dump']>0.) &\\\n",
    "                        (df_p['chisq1_target'] >5.) & (df_p['chisq1_upstream']>20.)&\\\n",
    "                        (df_p['nHits1'] > 13)\n",
    "    ptrk_mom_mask = (df_p['pz1_st1'] > 10) & (df_p['pz1_st1'] < 80) &\\\n",
    "                    (np.fabs(df_p['py1_st1']-df_p['py1_st3']) < 0.008) & (np.fabs(df_p['pz1_st1']-df_p['pz1_st3']) < 0.05) \n",
    "    \n",
    "    ptrk_mom_mask = ((df_p['y1_st1']/df_p['y1_st3'])<1) & (df_p['z1_v'] < 250) & (df_p['z1_v'] > -50) &\\\n",
    "                    ((df_p['x1_t']**2 + (df_p['y1_t']-1.6)**2) < 1500) & ((df_p['x1_t']**2 + (df_p['y1_t']-1.6)**2) > 15) &\\\n",
    "                    ((df_p['x1_d']**2 + (df_p['y1_d']-1.6)**2) < 300) \n",
    "                   \n",
    "    return (ptrk_chisq_mask) & (ptrk_mom_mask) & (ptrk_mom_mask)\n",
    "    \n",
    "\n",
    "def Dump_NegTrk_cut(df_n):    \n",
    "    ntrk_chisq_mask = (df_n['chisq2_dump']<40.) & (df_n['chisq2_dump']>0.) &\\\n",
    "                        (df_n['chisq2_target'] >5.) & (df_n['chisq2_upstream']>20.)&\\\n",
    "                        (df_n['nHits2'] > 13)\n",
    "    ntrk_mom_mask = (df_n['pz2_st1'] > 10) & (df_n['pz2_st1'] < 80) &\\\n",
    "                    (np.fabs(df_n['py2_st1']-df_n['py2_st3']) < 0.008) & (np.fabs(df_n['pz2_st1']-df_n['pz2_st3']) < 0.05) \n",
    "    \n",
    "    ntrk_mom_mask = ((df_n['y2_st1']/df_n['y2_st3'])<1) & (df_n['z2_v'] < 250) & (df_n['z2_v'] > -50) &\\\n",
    "                    ((df_n['x2_t']**2 + (df_n['y2_t']-1.6)**2) < 1500) & ((df_n['x2_t']**2 + (df_n['y2_t']-1.6)**2) > 15) &\\\n",
    "                    ((df_n['x2_d']**2 + (df_n['y2_d']-1.6)**2) < 300) \n",
    "                   \n",
    "    return (ntrk_chisq_mask) & (ntrk_mom_mask) & (ntrk_mom_mask)\n",
    "\n",
    "def Dump_dim_cut(df_d): \n",
    "    vtx_mask =   (df_d['dz'] > -10.) & (df_d['dz'] < 250.) & (np.fabs(df_d['dx']) < 0.45) &\\\n",
    "                (np.fabs(df_d['dy']-1.6) < 0.40) & ((df_d['dx']**2 + (df_d['dy']-1.6)**2) < 0.20)\n",
    "    \n",
    "    mom_mask = (np.fabs(df_d['dpx']) < 1.5) & (np.fabs(df_d['dpy']) < 3.5) & ((df_d['dpx']**2 + df_d['dpy']**2) < 5) &\\\n",
    "                (df_d['dpz'] > 35) & (df_d['dpz'] < 118)\n",
    "    \n",
    "    both_trk_mask = (np.fabs(df_d['trackSeparation']) < 200.) &\\\n",
    "                    (np.fabs(df_d['x1_st1']+df_d['x2_st1'])<20.) &\\\n",
    "                    ((df_d['nHits1'] + df_d['nHits2']) > 29) & ((df_d['nHits1St1']+df_d['nHits2St1']) >8) \n",
    "\n",
    "    chisq_mask = (df_d['chisq_dimuon'] < 20.) & (df_d['chisq_dimuon']>0.)\n",
    "                \n",
    "\n",
    "    return (vtx_mask) & (both_trk_mask) & (chisq_mask)\n",
    "    \n",
    "def Dump_Physics_cut(df_ph):\n",
    "    phycs_mask =  (np.fabs(df_ph['costh'])<0.5) &\\\n",
    "                    (df_ph['xF'] > 0.2) & (df_ph['xF'] < .95) &\\\n",
    "                    (df_ph['mass']<10.) & (df_ph['mass']>0.1)\n",
    "    return phycs_mask\n",
    "    \n",
    "    \n",
    "def Dump_Occu_cut(df_):                   \n",
    "    occu_mask = (df_['D1']<100) & (df_['D2']<400) & ((df_['D3'])<400) &\\\n",
    "            ((df_['D1']+df_['D2'] + df_['D3']) <1000) &\\\n",
    "            (df_['pot_p00']<80000.) & (df_['pot_p00']>0.)\n",
    "    return occu_mask"
   ]
  },
  {
   "cell_type": "markdown",
   "id": "5b1fe724-2d02-4929-88da-873a7b8a9000",
   "metadata": {},
   "source": [
    "## Dump GMC Cuts"
   ]
  },
  {
   "cell_type": "code",
   "execution_count": 10,
   "id": "f3e4f6f7-b852-4b24-af15-ba62507642a1",
   "metadata": {},
   "outputs": [],
   "source": [
    "def DumpGMC_PosTrk_cut(df_p):\n",
    "    ptrk_chisq_mask = (df_p['TpChiDp']<40.) & (df_p['TpChiDp']>0.) &\\\n",
    "                         (df_p['TpChiTg'] >5.) & (df_p['TpChiUp']>20.) &\\\n",
    "                        (df_p['TpnHit'] > 13)\n",
    "    \n",
    "    ptrk_mom_mask = (df_p['TpPz1'] > 10) & (df_p['TpPz1'] < 80) &\\\n",
    "                    (np.fabs(df_p['TpPy1']-df_p['TpPy3']) < 0.008) & (np.fabs(df_p['TpPz1']-df_p['TpPz3']) < 0.05) \n",
    "    \n",
    "    ptrk_mom_mask = ((df_p['Tpy1']/df_p['Tpy3'])<1) & (df_p['Tpz0'] < 250) & (df_p['Tpz0'] > -50) &\\\n",
    "                    ((df_p['TpxT']**2 + (df_p['TpyT']-1.6)**2) < 1500) & ((df_p['TpxT']**2 + (df_p['TpyT']-1.6)**2) > 15) &\\\n",
    "                    ((df_p['TpxD']**2 + (df_p['TpyD']-1.6)**2) < 300)     \n",
    "                   \n",
    "    return (ptrk_chisq_mask) & (ptrk_mom_mask) & (ptrk_mom_mask)\n",
    "    \n",
    "def DumpGMC_NegTrk_cut(df_):\n",
    "    \n",
    "    ntrk_chisq_mask = (df_['TnChiDp']<40.) & (df_['TnChiDp']>0.) &\\\n",
    "                         (df_['TnChiTg'] >5.) & (df_['TnChiUp']>20.) &\\\n",
    "                        (df_['TnnHit'] > 13)\n",
    "    \n",
    "    ntrk_mom_mask = (df_['TnPz1'] > 10) & (df_['TnPz1'] < 80) &\\\n",
    "                    (np.fabs(df_['TnPy1']-df_['TnPy3']) < 0.008) & (np.fabs(df_['TnPz1']-df_['TnPz3']) < 0.05) \n",
    "    \n",
    "    ntrk_mom_mask = ((df_['Tny1']/df_['Tny3'])<1) & (df_['Tnz0'] < 250) & (df_['Tnz0'] > -50) &\\\n",
    "                    ((df_['TnxT']**2 + (df_['TnyT']-1.6)**2) < 1500) & ((df_['TnxT']**2 + (df_['TnyT']-1.6)**2) > 15) &\\\n",
    "                    ((df_['TnxD']**2 + (df_['TnyD']-1.6)**2) < 300)     \n",
    "                   \n",
    "    return (ntrk_chisq_mask) & (ntrk_mom_mask) & (ntrk_mom_mask)\n",
    "\n",
    "def DumpGMC_dim_cut(df_d): \n",
    "    vtx_mask =   (df_d['Dmz'] > 0.) & (df_d['Dmz'] < 500.)\n",
    "    \n",
    "    both_trk_mask = (np.fabs(df_d['Tnz0']-df_d['Tpz0']) < 270.) &\\\n",
    "                    (np.fabs(df_d['Tpx1']+df_d['Tnx1'])<13.)\n",
    "\n",
    "    chisq_mask = (df_d['Dmchisq'] < 17.) & (df_d['Dmchisq']>0.)\n",
    "                \n",
    "\n",
    "    return (vtx_mask) & (both_trk_mask) & (chisq_mask)\n",
    "    \n",
    "def DumpGMC_Physics_cut(df_ph):\n",
    "    phycs_mask =  (np.fabs(df_ph['Dmcosth'])<0.5) &\\\n",
    "                    (df_ph['DmxF'] > 0.2) & (df_ph['DmxF'] < .95) &\\\n",
    "                    (df_ph['mass']<10.) & (df_ph['mass']>0.1) &\\\n",
    "                    (df_ph['MATRIX1']>0) & ( (df_ph['TprdID']*df_ph['TnrdID'])<0.)\n",
    "    return phycs_mask\n",
    "    \n",
    "    \n",
    "def DumpGMC_Occu_cut(df_):                   \n",
    "    occu_mask = (df_['D1']<400) & (df_['D2']<400) & ((df_['D3'])<400) &\\\n",
    "            ((df_['D1']+df_['D2'] + df_['D3']) <1000) &\\\n",
    "            (df_['pot_p00']<80000.) & (df_['pot_p00']>0.)\n",
    "    return occu_mask\n"
   ]
  },
  {
   "cell_type": "markdown",
   "id": "b81fe9db-a4ba-43b2-8601-29ad4cacbb81",
   "metadata": {},
   "source": [
    "### Fill Data Histogram"
   ]
  },
  {
   "cell_type": "code",
   "execution_count": 11,
   "id": "ef4d705b-4f99-4f0b-abe6-7ee324b53c98",
   "metadata": {},
   "outputs": [],
   "source": [
    "xmin = 1. # GeV\n",
    "xmax = 9. # GeV\n",
    "step_size = 0.1 # GeV\n",
    "    \n",
    "bin_edges = np.arange(start=xmin, # The interval includes this value\n",
    "                     stop=xmax+step_size, # The interval doesn't include this value\n",
    "                     step=step_size ) # Spacing between values\n",
    "bin_centres = np.arange(start=xmin+step_size/2, # The interval includes this value\n",
    "                            stop=xmax+step_size/2, # The interval doesn't include this value\n",
    "                            step=step_size ) # Spacing between values\n",
    "def fill_hist(data):\n",
    "    data_x,_ = np.histogram(data, \n",
    "                               bins=bin_edges ) # histogram the data\n",
    "    data_x_errors = np.sqrt(data_x) # statistical error on the data\n",
    "    \n",
    "    return data_x, data_x_errors"
   ]
  },
  {
   "cell_type": "code",
   "execution_count": 12,
   "id": "bd09c7d9-2b33-4895-9d73-c6a39dd0592e",
   "metadata": {},
   "outputs": [],
   "source": [
    "def plot_gpr(bin_centres, m, m_err, gpr_predict, gpr_sigma):\n",
    "    fig = plt.figure(figsize=(10,6))\n",
    "\n",
    "    plt.errorbar(x=bin_centres, y = m, yerr=m_err, fmt='o', color=\"blue\",label=\"Real Data\")\n",
    "\n",
    "    pred_axes = plt.gca()\n",
    "    pred_axes.plot(bin_centres,gpr_predict, label=\"Mean prediction from GPR\",color='orange',linestyle='--',linewidth=2)\n",
    "\n",
    "    pred_axes.fill_between(\n",
    "        bin_centres.ravel(),\n",
    "        gpr_predict - 1.96 * gpr_sigma,\n",
    "        gpr_predict + 1.96 * gpr_sigma,\n",
    "        alpha=0.5,\n",
    "        label=r\"95% confidence interval\",\n",
    "        color='orange'\n",
    "    )\n",
    "    plt.legend()\n",
    "    plt.legend(prop={'size':15})\n",
    "    plt.xticks(np.arange(xmin, xmax+1, 1.0))\n",
    "    plt.xlabel('Dimuon Mass $[GeV/c^2]$',\n",
    "                            x=1, horizontalalignment='right', \n",
    "                            fontsize=18 ) \n",
    "    plt.axvspan(sideband[0], sideband[1], alpha=0.2, color='red')\n",
    "    plt.axvspan(sideband[2], sideband[3], alpha=0.2, color='red')\n",
    "    plt.ylim(bottom=-20000.0)\n",
    "    plt.grid(True)\n",
    "    plt.show()"
   ]
  },
  {
   "cell_type": "markdown",
   "id": "9e4390a1-74cf-43d5-9dce-1e2f486966a7",
   "metadata": {},
   "source": [
    "### Implment Cuts"
   ]
  },
  {
   "cell_type": "code",
   "execution_count": 13,
   "id": "bf8a5ddb-d4ab-4522-af0c-11eb557dc012",
   "metadata": {},
   "outputs": [],
   "source": [
    "Dump_real_PosTrk_cut = Dump_PosTrk_cut(df_real)\n",
    "Dump_real_NegTrk_cut = Dump_NegTrk_cut(df_real)\n",
    "Dump_real_Physics_cut = Dump_Physics_cut(df_real)\n",
    "Dump_real_Occu_cut = Dump_Occu_cut(df_real)\n",
    "Dump_real_dim_cut = Dump_dim_cut(df_real)\n",
    "\n",
    "Dump_real_data_cut = (Dump_real_PosTrk_cut) & (Dump_real_NegTrk_cut) & (Dump_real_Physics_cut) & (Dump_real_dim_cut) & (Dump_real_Occu_cut)\n",
    "\n",
    "\n",
    "Dump_mix_PosTrk_cut = Dump_PosTrk_cut(df_mix)\n",
    "Dump_mix_NegTrk_cut = Dump_NegTrk_cut(df_mix)\n",
    "Dump_mix_Physics_cut = Dump_Physics_cut(df_mix)\n",
    "Dump_mix_Occu_cut = Dump_Occu_cut(df_mix)\n",
    "Dump_mix_dim_cut = Dump_dim_cut(df_mix)\n",
    "\n",
    "Dump_mix_data_cut = (Dump_mix_PosTrk_cut) & (Dump_mix_NegTrk_cut) & (Dump_mix_Physics_cut)  & (Dump_mix_dim_cut) & (Dump_mix_Occu_cut )\n",
    "\n",
    "\n"
   ]
  },
  {
   "cell_type": "code",
   "execution_count": 14,
   "id": "d708052b-2214-483a-a949-e41c6d003630",
   "metadata": {},
   "outputs": [],
   "source": [
    "DumpGMC_jpsi_PosTrk_cut = DumpGMC_PosTrk_cut(df_jpsi)\n",
    "DumpGMC_jpsi_NegTrk_cut = DumpGMC_NegTrk_cut(df_jpsi)\n",
    "DumpGMC_jpsi_Physics_cut = DumpGMC_Physics_cut(df_jpsi)\n",
    "DumpGMC_jpsi_dim_cut = DumpGMC_dim_cut(df_jpsi)\n",
    "\n",
    "jpsi_mask = (DumpGMC_jpsi_PosTrk_cut) & (DumpGMC_jpsi_NegTrk_cut) & (DumpGMC_jpsi_Physics_cut) & (DumpGMC_jpsi_dim_cut)\n",
    "\n",
    "\n",
    "DumpGMC_psip_PosTrk_cut = DumpGMC_PosTrk_cut(df_psip)\n",
    "DumpGMC_psip_NegTrk_cut = DumpGMC_NegTrk_cut(df_psip)\n",
    "DumpGMC_psip_Physics_cut = DumpGMC_Physics_cut(df_psip)\n",
    "DumpGMC_psip_dim_cut = DumpGMC_dim_cut(df_psip)\n",
    "psip_mask = (DumpGMC_psip_PosTrk_cut) & (DumpGMC_psip_NegTrk_cut) & (DumpGMC_psip_Physics_cut) & (DumpGMC_psip_dim_cut)\n",
    "\n",
    "\n",
    "# #jpsi_tree.show()\n",
    "jpsi_mass=0.99*df_jpsi['mass'][jpsi_mask]\n",
    "psip_mass=0.99*df_psip['mass'][psip_mask]"
   ]
  },
  {
   "cell_type": "code",
   "execution_count": 15,
   "id": "e7c0792c-b0ea-44e2-8f32-431d165f3f11",
   "metadata": {},
   "outputs": [],
   "source": [
    "#making pdf for j/psi and psi'\n",
    "\n",
    "jpsi_hist = np.histogram(jpsi_mass, weights= df_jpsi['sigWeight'][jpsi_mask], range=(1.,9.), \n",
    "                           bins=80)\n",
    "\n",
    "jpsi_dist = scipy.stats.rv_histogram(jpsi_hist)\n",
    "\n",
    "psiprime_hist = np.histogram(psip_mass, weights=df_psip['sigWeight'][psip_mask], range=(1.,9.),\n",
    "                            bins=80) \n",
    "psiprime_dist = scipy.stats.rv_histogram(psiprime_hist)\n",
    "\n",
    "def jpsi_pdf(x, amp):\n",
    "    #return (amp*jpsi_dist.pdf(x)/jpsi_hist[0].sum())\n",
    "    return (amp*jpsi_dist.pdf(x))\n",
    "def psiprime_pdf(x, amp):\n",
    "    #return (amp*psiprime_dist.pdf(x)/psiprime_hist[0].sum())\n",
    "    return (amp*psiprime_dist.pdf(x))  "
   ]
  },
  {
   "cell_type": "code",
   "execution_count": 16,
   "id": "681bfee2-52e7-48b6-8d78-c7a0bb988983",
   "metadata": {},
   "outputs": [],
   "source": [
    "from lmfit import Model\n",
    "from lmfit import Parameters, fit_report, minimize\n",
    "\n",
    "jpsi_model = Model(jpsi_pdf, prefix='jpsi_')\n",
    "pars=(jpsi_model.make_params())\n",
    "pars['jpsi_amp'].set(value=1000)\n",
    "\n",
    "\n",
    "psip_model = Model(psiprime_pdf, prefix='psip_')\n",
    "pars.update(psip_model.make_params())\n",
    "pars['psip_amp'].set(value=100)   \n",
    "\n",
    "model_peaks = jpsi_model + psip_model"
   ]
  },
  {
   "cell_type": "markdown",
   "id": "fccf852b-efea-4f63-9254-14486afdc4d6",
   "metadata": {},
   "source": [
    "## Implement the model"
   ]
  },
  {
   "cell_type": "code",
   "execution_count": 17,
   "id": "2e9decda-893d-4c06-9965-e01630ad62ac",
   "metadata": {},
   "outputs": [],
   "source": [
    "\n",
    "sideband = np.array([1.8, 2.5, 4.5, 7.])\n",
    "real_data_model = gpr_model()"
   ]
  },
  {
   "cell_type": "code",
   "execution_count": 18,
   "id": "eba636fe-42c8-48fd-997e-2ae53c29d13d",
   "metadata": {},
   "outputs": [
    {
     "name": "stderr",
     "output_type": "stream",
     "text": [
      "/Users/abinashpun/opt/anaconda3/envs/e1039-env/lib/python3.9/site-packages/sklearn/gaussian_process/_gpr.py:610: ConvergenceWarning: lbfgs failed to converge (status=2):\n",
      "ABNORMAL_TERMINATION_IN_LNSRCH.\n",
      "\n",
      "Increase the number of iterations (max_iter) or scale the data as shown in:\n",
      "    https://scikit-learn.org/stable/modules/preprocessing.html\n",
      "  _check_optimize_result(\"lbfgs\", opt_res)\n"
     ]
    },
    {
     "name": "stdout",
     "output_type": "stream",
     "text": [
      "kernel :  4.24e+04**2 * RBF(length_scale=0.931)\n",
      "score =  0.499384826701743\n",
      "Log-likelihood: -252.088\n"
     ]
    }
   ],
   "source": [
    "total_real_mass=df_real['mass'][Dump_real_data_cut]\n",
    "total_mix_mass=df_mix['mass'][Dump_mix_data_cut]\n",
    "\n",
    "\n",
    "total_real_m, total_real_m_err = fill_hist(total_real_mass)\n",
    "total_mix_m, total_mix_m_err = fill_hist(total_mix_mass)\n",
    "\n",
    "stacked_real_m=np.column_stack((np.array(bin_centres),np.array(total_real_m), np.array(total_real_m_err)))\n",
    "real_data_model.set_sideband(sideband,stacked_real_m)\n",
    "real_data_model.set_kernel(50000.0, (1e-10, 1e15),5,(1e-4, 1e15))\n",
    "total_Y_pred, total_sigma, total_gpr_error = real_data_model.predict(5000)"
   ]
  },
  {
   "cell_type": "code",
   "execution_count": 19,
   "id": "bfc13648-329d-4531-965c-dabb045bad3c",
   "metadata": {},
   "outputs": [
    {
     "data": {
      "application/vnd.jupyter.widget-view+json": {
       "model_id": "00e0a7a496d443de871033a81a6ce58b",
       "version_major": 2,
       "version_minor": 0
      },
      "image/png": "[encoded data removed]",
      "text/html": [
       "\n",
       "            <div style=\"display: inline-block;\">\n",
       "                <div class=\"jupyter-widgets widget-label\" style=\"text-align: center;\">\n",
       "                    Figure\n",
       "                </div>\n",
       "                <img src='data:image/png;base64,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' width=1000.0/>\n",
       "            </div>\n",
       "        "
      ],
      "text/plain": [
       "Canvas(toolbar=Toolbar(toolitems=[('Home', 'Reset original view', 'home', 'home'), ('Back', 'Back to previous …"
      ]
     },
     "metadata": {},
     "output_type": "display_data"
    }
   ],
   "source": [
    "plot_gpr(bin_centres, total_real_m, total_real_m_err, total_Y_pred, total_gpr_error)"
   ]
  },
  {
   "cell_type": "code",
   "execution_count": 20,
   "id": "b041b65b-6055-4510-b953-e4f260383154",
   "metadata": {},
   "outputs": [],
   "source": [
    "total_peaks_signal=total_real_m-total_Y_pred\n",
    "total_peaks_signal_error = np.sqrt(np.square(total_real_m_err)+np.square(total_gpr_error))"
   ]
  },
  {
   "cell_type": "code",
   "execution_count": 21,
   "id": "de2a0731-c29f-4fa7-b114-fda25c330541",
   "metadata": {},
   "outputs": [
    {
     "data": {
      "application/vnd.jupyter.widget-view+json": {
       "model_id": "f5e6ed6d574e4877837dfc669fa8af79",
       "version_major": 2,
       "version_minor": 0
      },
      "image/png": "[encoded data removed]",
      "text/html": [
       "\n",
       "            <div style=\"display: inline-block;\">\n",
       "                <div class=\"jupyter-widgets widget-label\" style=\"text-align: center;\">\n",
       "                    Figure\n",
       "                </div>\n",
       "                <img src='data:image/png;base64,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' width=1000.0/>\n",
       "            </div>\n",
       "        "
      ],
      "text/plain": [
       "Canvas(toolbar=Toolbar(toolitems=[('Home', 'Reset original view', 'home', 'home'), ('Back', 'Back to previous …"
      ]
     },
     "metadata": {},
     "output_type": "display_data"
    },
    {
     "name": "stdout",
     "output_type": "stream",
     "text": [
      "0.8048910755023806\n",
      "141020.14295714046\n",
      "2741.039081606876\n",
      "-------------------------------\n",
      "Parameter    Value       Stderr\n",
      "jpsi_amp 141020.14296  2741.03908\n",
      "psip_amp 24529.37184  2559.35611\n"
     ]
    }
   ],
   "source": [
    "x=bin_centres[10:40]\n",
    "y=total_peaks_signal[10:40]\n",
    "y_err=total_peaks_signal_error[10:40]\n",
    "\n",
    "fig = plt.figure(figsize=(10,6))\n",
    "# Giving weights to Model.fit changes the array to minimize from (data-fit) to (data-fit)*weights\n",
    "result_peaks = model_peaks.fit(y,pars,x=x, weights=(1.0/(y_err)))\n",
    "\n",
    "# #print(result_peaks.fit_report())\n",
    "# print(fit_report(result_peaks))\n",
    "\n",
    "comps = result_peaks.eval_components(x=x)\n",
    "plt.errorbar(x,y,yerr=y_err,linewidth=2,color=\"blue\",fmt='o')\n",
    "plt.plot(x, comps['jpsi_'], '--', label='J/Psi',linewidth=2,color=\"m\")\n",
    "plt.plot(x, comps['psip_'], '--', label='Psi-prime',linewidth=2, color=\"orange\")\n",
    "plt.legend()\n",
    "plt.grid(True)\n",
    "plt.legend(loc='upper right')\n",
    "plt.legend(prop={'size':20})\n",
    "# plt.xticks(np.arange(xmin, xmax+1, 1.0))\n",
    "# plt.set_xticks(np.arange(0, 8, 1.0))\n",
    "# plt.xaxis.set_minor_locator( AutoMinorLocator() )\n",
    "\n",
    "\n",
    "# plt.ylabel('Events /(0.2 $[GeV/c^2])$',\n",
    "#                         fontsize=18 ) \n",
    "# plt.xlabel('Dimuon Mass $[GeV/c^2]$',\n",
    "#                         x=1, horizontalalignment='right', \n",
    "#                         fontsize=18 ) \n",
    "plt.ylim(bottom=1)\n",
    "#plt.yscale('log')\n",
    "# #axes[1].set_ylim(bottom=1)\n",
    "# #axes[1].set_yscale('log')\n",
    "\n",
    "plt.show()\n",
    "\n",
    "print(result_peaks.redchi)\n",
    "print(result_peaks.params['jpsi_amp'].value)\n",
    "print(result_peaks.params['jpsi_amp'].stderr)\n",
    "print('-------------------------------')\n",
    "print('Parameter    Value       Stderr')\n",
    "for name, param in result_peaks.params.items():\n",
    "    print(f'{name:7s} {param.value:11.5f} {param.stderr:11.5f}')"
   ]
  },
  {
   "cell_type": "code",
   "execution_count": 22,
   "id": "09ef121b-33e0-43cf-801e-2267654fd532",
   "metadata": {},
   "outputs": [],
   "source": [
    "from lmfit import Model as lm_Model\n",
    "from lmfit import Parameters, fit_report, minimize\n",
    "\n",
    "# jpsi_mass=0.99*df_jpsi['mass'][jpsi_mask]\n",
    "# psip_mass=0.99*df_psip['mass'][psip_mask]\n",
    "\n",
    "class jpsi_psip_model:\n",
    "    def __init__(self,jpsi_mass, psip_mass, jpsi_wt,psip_wt):\n",
    "        self.jpsi_mass = df_jpsi\n",
    "        self.psip_mass = df_psip\n",
    "        self.jpsi_wt = jpsi_wt\n",
    "        self.psip_wt = psip_wt\n",
    "\n",
    "        #making pdf for j/psi and psi'\n",
    "\n",
    "        jpsi_hist = np.histogram(jpsi_mass, weights= jpsi_wt, range=(1.,9.), \n",
    "                                   bins=80)\n",
    "\n",
    "        self.jpsi_dist = scipy.stats.rv_histogram(jpsi_hist)\n",
    "\n",
    "        psiprime_hist = np.histogram(psip_mass, weights=psip_wt, range=(1.,9.),\n",
    "                                    bins=80) \n",
    "        self.psiprime_dist = scipy.stats.rv_histogram(psiprime_hist)\n",
    "               \n",
    "\n",
    "    def jpsi_pdf(self,x, amp):\n",
    "        jpsi_dist = self.jpsi_dist\n",
    "        return (amp*jpsi_dist.pdf(x))\n",
    "    \n",
    "    def psiprime_pdf(self,x, amp):\n",
    "        psiprime_dist = self.psiprime_dist\n",
    "        return (amp*psiprime_dist.pdf(x))  \n",
    "\n",
    "\n",
    "    def get_model_peaks(self):\n",
    "        jpsi_model = lm_Model(self.jpsi_pdf, prefix='jpsi_')\n",
    "        pars=(jpsi_model.make_params())\n",
    "        pars['jpsi_amp'].set(value=1000)\n",
    "        \n",
    "        psip_model = lm_Model(self.psiprime_pdf, prefix='psip_')\n",
    "        pars.update(psip_model.make_params())\n",
    "        pars['psip_amp'].set(value=100)\n",
    "        model_peaks = jpsi_model + psip_model\n",
    "        return model_peaks "
   ]
  },
  {
   "cell_type": "markdown",
   "id": "c4432cb5-9168-4f89-9dd9-adc869dbfeda",
   "metadata": {},
   "source": [
    "# Loop over the pT and phi-costh Bins"
   ]
  },
  {
   "cell_type": "code",
   "execution_count": 23,
   "id": "a3d6b907-c9fe-464e-bdd6-cd8c32027bb4",
   "metadata": {},
   "outputs": [
    {
     "name": "stdout",
     "output_type": "stream",
     "text": [
      "[-3.1415926  -2.35619445 -1.5707963  -0.78539815  0.          0.78539815\n",
      "  1.5707963   2.35619445  3.1415926 ]\n"
     ]
    }
   ],
   "source": [
    "\n",
    "npTBins = 1\n",
    "pT_min = 0.0\n",
    "pT_max = .5\n",
    "pT_bins = (np.linspace(pT_min, pT_max, npTBins+1))\n",
    "\n",
    "\n",
    "nPhiBins = 8\n",
    "phi_min =-3.1415926#-math.pi\n",
    "phi_max =3.1415926 #math.pi\n",
    "phi_bins = (np.linspace(phi_min, phi_max, nPhiBins+1))\n",
    "\n",
    "print(phi_bins)\n",
    "\n",
    "nCosthBins = 8\n",
    "costh_min = -0.5\n",
    "costh_max = 0.5\n",
    "costh_bins = np.linspace(costh_min,costh_max,nCosthBins+1)"
   ]
  },
  {
   "cell_type": "code",
   "execution_count": 24,
   "id": "38ad246d-fc21-4e99-abbc-982ff66d81cc",
   "metadata": {},
   "outputs": [
    {
     "name": "stderr",
     "output_type": "stream",
     "text": [
      "/Users/abinashpun/opt/anaconda3/envs/e1039-env/lib/python3.9/site-packages/sklearn/gaussian_process/_gpr.py:610: ConvergenceWarning: lbfgs failed to converge (status=2):\n",
      "ABNORMAL_TERMINATION_IN_LNSRCH.\n",
      "\n",
      "Increase the number of iterations (max_iter) or scale the data as shown in:\n",
      "    https://scikit-learn.org/stable/modules/preprocessing.html\n",
      "  _check_optimize_result(\"lbfgs\", opt_res)\n",
      "/Users/abinashpun/opt/anaconda3/envs/e1039-env/lib/python3.9/site-packages/sklearn/gaussian_process/_gpr.py:428: UserWarning: Predicted variances smaller than 0. Setting those variances to 0.\n",
      "  warnings.warn(\n",
      "No artists with labels found to put in legend.  Note that artists whose label start with an underscore are ignored when legend() is called with no argument.\n",
      "No artists with labels found to put in legend.  Note that artists whose label start with an underscore are ignored when legend() is called with no argument.\n"
     ]
    },
    {
     "name": "stdout",
     "output_type": "stream",
     "text": [
      "kernel :  11.2**2 * RBF(length_scale=1.06)\n",
      "score =  0.6461763828368616\n",
      "Log-likelihood: -62.991\n",
      "4.475479985833404\n",
      "0.00023512939683830488\n",
      "0.015960913134600463\n",
      "-------------------------------\n",
      "Parameter    Value       Stderr\n",
      "jpsi_amp     0.00024     0.01596\n",
      "psip_amp     0.00071     0.02638\n"
     ]
    },
    {
     "name": "stderr",
     "output_type": "stream",
     "text": [
      "/Users/abinashpun/opt/anaconda3/envs/e1039-env/lib/python3.9/site-packages/sklearn/gaussian_process/_gpr.py:428: UserWarning: Predicted variances smaller than 0. Setting those variances to 0.\n",
      "  warnings.warn(\n",
      "No artists with labels found to put in legend.  Note that artists whose label start with an underscore are ignored when legend() is called with no argument.\n",
      "No artists with labels found to put in legend.  Note that artists whose label start with an underscore are ignored when legend() is called with no argument.\n"
     ]
    },
    {
     "name": "stdout",
     "output_type": "stream",
     "text": [
      "kernel :  59.3**2 * RBF(length_scale=1.3)\n",
      "score =  0.7905131623921186\n",
      "Log-likelihood: -106.160\n",
      "0.1705205358910785\n",
      "47.201665286207685\n",
      "4.003212686820182\n",
      "-------------------------------\n",
      "Parameter    Value       Stderr\n",
      "jpsi_amp    47.20167     4.00321\n",
      "psip_amp    30.57455     4.59656\n"
     ]
    },
    {
     "name": "stderr",
     "output_type": "stream",
     "text": [
      "/Users/abinashpun/opt/anaconda3/envs/e1039-env/lib/python3.9/site-packages/sklearn/gaussian_process/_gpr.py:610: ConvergenceWarning: lbfgs failed to converge (status=2):\n",
      "ABNORMAL_TERMINATION_IN_LNSRCH.\n",
      "\n",
      "Increase the number of iterations (max_iter) or scale the data as shown in:\n",
      "    https://scikit-learn.org/stable/modules/preprocessing.html\n",
      "  _check_optimize_result(\"lbfgs\", opt_res)\n",
      "No artists with labels found to put in legend.  Note that artists whose label start with an underscore are ignored when legend() is called with no argument.\n",
      "No artists with labels found to put in legend.  Note that artists whose label start with an underscore are ignored when legend() is called with no argument.\n"
     ]
    },
    {
     "name": "stdout",
     "output_type": "stream",
     "text": [
      "kernel :  143**2 * RBF(length_scale=1.2)\n",
      "score =  0.4373037935213109\n",
      "Log-likelihood: -119.394\n",
      "0.2975263533211492\n",
      "343.2058371586601\n",
      "13.608112176659011\n",
      "-------------------------------\n",
      "Parameter    Value       Stderr\n",
      "jpsi_amp   343.20584    13.60811\n",
      "psip_amp   148.37258    15.28456\n"
     ]
    },
    {
     "name": "stderr",
     "output_type": "stream",
     "text": [
      "/Users/abinashpun/opt/anaconda3/envs/e1039-env/lib/python3.9/site-packages/sklearn/gaussian_process/_gpr.py:610: ConvergenceWarning: lbfgs failed to converge (status=2):\n",
      "ABNORMAL_TERMINATION_IN_LNSRCH.\n",
      "\n",
      "Increase the number of iterations (max_iter) or scale the data as shown in:\n",
      "    https://scikit-learn.org/stable/modules/preprocessing.html\n",
      "  _check_optimize_result(\"lbfgs\", opt_res)\n",
      "No artists with labels found to put in legend.  Note that artists whose label start with an underscore are ignored when legend() is called with no argument.\n",
      "No artists with labels found to put in legend.  Note that artists whose label start with an underscore are ignored when legend() is called with no argument.\n"
     ]
    },
    {
     "name": "stdout",
     "output_type": "stream",
     "text": [
      "kernel :  232**2 * RBF(length_scale=1.08)\n",
      "score =  0.27335878710147665\n",
      "Log-likelihood: -136.416\n",
      "0.25435178552376525\n",
      "1112.2149292874515\n",
      "23.58820349801981\n",
      "-------------------------------\n",
      "Parameter    Value       Stderr\n",
      "jpsi_amp  1112.21493    23.58820\n",
      "psip_amp   296.63016    22.64195\n"
     ]
    },
    {
     "name": "stderr",
     "output_type": "stream",
     "text": [
      "/Users/abinashpun/opt/anaconda3/envs/e1039-env/lib/python3.9/site-packages/sklearn/gaussian_process/_gpr.py:610: ConvergenceWarning: lbfgs failed to converge (status=2):\n",
      "ABNORMAL_TERMINATION_IN_LNSRCH.\n",
      "\n",
      "Increase the number of iterations (max_iter) or scale the data as shown in:\n",
      "    https://scikit-learn.org/stable/modules/preprocessing.html\n",
      "  _check_optimize_result(\"lbfgs\", opt_res)\n",
      "No artists with labels found to put in legend.  Note that artists whose label start with an underscore are ignored when legend() is called with no argument.\n",
      "No artists with labels found to put in legend.  Note that artists whose label start with an underscore are ignored when legend() is called with no argument.\n"
     ]
    },
    {
     "name": "stdout",
     "output_type": "stream",
     "text": [
      "kernel :  352**2 * RBF(length_scale=1.14)\n",
      "score =  0.293811758456037\n",
      "Log-likelihood: -148.733\n",
      "0.42278215325979734\n",
      "1834.9437793207544\n",
      "39.383973242259245\n",
      "-------------------------------\n",
      "Parameter    Value       Stderr\n",
      "jpsi_amp  1834.94378    39.38397\n",
      "psip_amp   371.23104    35.11428\n"
     ]
    },
    {
     "name": "stderr",
     "output_type": "stream",
     "text": [
      "/Users/abinashpun/opt/anaconda3/envs/e1039-env/lib/python3.9/site-packages/sklearn/gaussian_process/_gpr.py:610: ConvergenceWarning: lbfgs failed to converge (status=2):\n",
      "ABNORMAL_TERMINATION_IN_LNSRCH.\n",
      "\n",
      "Increase the number of iterations (max_iter) or scale the data as shown in:\n",
      "    https://scikit-learn.org/stable/modules/preprocessing.html\n",
      "  _check_optimize_result(\"lbfgs\", opt_res)\n",
      "No artists with labels found to put in legend.  Note that artists whose label start with an underscore are ignored when legend() is called with no argument.\n",
      "No artists with labels found to put in legend.  Note that artists whose label start with an underscore are ignored when legend() is called with no argument.\n"
     ]
    },
    {
     "name": "stdout",
     "output_type": "stream",
     "text": [
      "kernel :  444**2 * RBF(length_scale=1.17)\n",
      "score =  0.37354888355787563\n",
      "Log-likelihood: -143.877\n",
      "0.14103440568911405\n",
      "1715.344381970333\n",
      "24.87077442385796\n",
      "-------------------------------\n",
      "Parameter    Value       Stderr\n",
      "jpsi_amp  1715.34438    24.87077\n",
      "psip_amp   246.06769    21.27456\n"
     ]
    },
    {
     "name": "stderr",
     "output_type": "stream",
     "text": [
      "/Users/abinashpun/opt/anaconda3/envs/e1039-env/lib/python3.9/site-packages/sklearn/gaussian_process/_gpr.py:610: ConvergenceWarning: lbfgs failed to converge (status=2):\n",
      "ABNORMAL_TERMINATION_IN_LNSRCH.\n",
      "\n",
      "Increase the number of iterations (max_iter) or scale the data as shown in:\n",
      "    https://scikit-learn.org/stable/modules/preprocessing.html\n",
      "  _check_optimize_result(\"lbfgs\", opt_res)\n",
      "No artists with labels found to put in legend.  Note that artists whose label start with an underscore are ignored when legend() is called with no argument.\n",
      "No artists with labels found to put in legend.  Note that artists whose label start with an underscore are ignored when legend() is called with no argument.\n"
     ]
    },
    {
     "name": "stdout",
     "output_type": "stream",
     "text": [
      "kernel :  246**2 * RBF(length_scale=0.959)\n",
      "score =  0.44284511523734027\n",
      "Log-likelihood: -140.129\n",
      "0.06911915080707531\n",
      "859.4675874837012\n",
      "19.581211611292314\n",
      "-------------------------------\n",
      "Parameter    Value       Stderr\n",
      "jpsi_amp   859.46759    19.58121\n",
      "psip_amp   119.33470    18.77726\n"
     ]
    },
    {
     "name": "stderr",
     "output_type": "stream",
     "text": [
      "/Users/abinashpun/opt/anaconda3/envs/e1039-env/lib/python3.9/site-packages/sklearn/gaussian_process/_gpr.py:610: ConvergenceWarning: lbfgs failed to converge (status=2):\n",
      "ABNORMAL_TERMINATION_IN_LNSRCH.\n",
      "\n",
      "Increase the number of iterations (max_iter) or scale the data as shown in:\n",
      "    https://scikit-learn.org/stable/modules/preprocessing.html\n",
      "  _check_optimize_result(\"lbfgs\", opt_res)\n",
      "No artists with labels found to put in legend.  Note that artists whose label start with an underscore are ignored when legend() is called with no argument.\n",
      "No artists with labels found to put in legend.  Note that artists whose label start with an underscore are ignored when legend() is called with no argument.\n"
     ]
    },
    {
     "name": "stdout",
     "output_type": "stream",
     "text": [
      "kernel :  79.3**2 * RBF(length_scale=0.685)\n",
      "score =  0.5854518833439859\n",
      "Log-likelihood: -128.623\n",
      "0.06043678097868031\n",
      "149.72400662420182\n",
      "12.412176922920375\n",
      "-------------------------------\n",
      "Parameter    Value       Stderr\n",
      "jpsi_amp   149.72401    12.41218\n",
      "psip_amp    16.49543    12.94918\n"
     ]
    },
    {
     "name": "stderr",
     "output_type": "stream",
     "text": [
      "/Users/abinashpun/opt/anaconda3/envs/e1039-env/lib/python3.9/site-packages/sklearn/gaussian_process/_gpr.py:610: ConvergenceWarning: lbfgs failed to converge (status=2):\n",
      "ABNORMAL_TERMINATION_IN_LNSRCH.\n",
      "\n",
      "Increase the number of iterations (max_iter) or scale the data as shown in:\n",
      "    https://scikit-learn.org/stable/modules/preprocessing.html\n",
      "  _check_optimize_result(\"lbfgs\", opt_res)\n",
      "/Users/abinashpun/opt/anaconda3/envs/e1039-env/lib/python3.9/site-packages/sklearn/gaussian_process/_gpr.py:428: UserWarning: Predicted variances smaller than 0. Setting those variances to 0.\n",
      "  warnings.warn(\n",
      "No artists with labels found to put in legend.  Note that artists whose label start with an underscore are ignored when legend() is called with no argument.\n",
      "No artists with labels found to put in legend.  Note that artists whose label start with an underscore are ignored when legend() is called with no argument.\n"
     ]
    },
    {
     "name": "stdout",
     "output_type": "stream",
     "text": [
      "kernel :  20**2 * RBF(length_scale=1.09)\n",
      "score =  0.6510761399313187\n",
      "Log-likelihood: -87.471\n",
      "4.669027373377181\n",
      "0.0001557549154585493\n",
      "0.014338824206849267\n",
      "-------------------------------\n",
      "Parameter    Value       Stderr\n",
      "jpsi_amp     0.00016     0.01434\n",
      "psip_amp    -0.00003     0.01234\n"
     ]
    },
    {
     "name": "stderr",
     "output_type": "stream",
     "text": [
      "/Users/abinashpun/opt/anaconda3/envs/e1039-env/lib/python3.9/site-packages/sklearn/gaussian_process/_gpr.py:610: ConvergenceWarning: lbfgs failed to converge (status=2):\n",
      "ABNORMAL_TERMINATION_IN_LNSRCH.\n",
      "\n",
      "Increase the number of iterations (max_iter) or scale the data as shown in:\n",
      "    https://scikit-learn.org/stable/modules/preprocessing.html\n",
      "  _check_optimize_result(\"lbfgs\", opt_res)\n",
      "/var/folders/rr/b2xgxs9n58s08v5c5x_5hzq80000gn/T/ipykernel_11018/534738506.py:59: RuntimeWarning: More than 20 figures have been opened. Figures created through the pyplot interface (`matplotlib.pyplot.figure`) are retained until explicitly closed and may consume too much memory. (To control this warning, see the rcParam `figure.max_open_warning`).\n",
      "  fig_gpr = plt.figure(figsize=(10,6))\n",
      "No artists with labels found to put in legend.  Note that artists whose label start with an underscore are ignored when legend() is called with no argument.\n",
      "No artists with labels found to put in legend.  Note that artists whose label start with an underscore are ignored when legend() is called with no argument.\n"
     ]
    },
    {
     "name": "stdout",
     "output_type": "stream",
     "text": [
      "kernel :  95**2 * RBF(length_scale=1.25)\n",
      "score =  0.6046820903323837\n",
      "Log-likelihood: -120.844\n",
      "0.10622809036003551\n",
      "150.73760334357723\n",
      "6.32022787811048\n",
      "-------------------------------\n",
      "Parameter    Value       Stderr\n",
      "jpsi_amp   150.73760     6.32023\n",
      "psip_amp    68.77177     6.93052\n"
     ]
    },
    {
     "name": "stderr",
     "output_type": "stream",
     "text": [
      "/Users/abinashpun/opt/anaconda3/envs/e1039-env/lib/python3.9/site-packages/sklearn/gaussian_process/_gpr.py:610: ConvergenceWarning: lbfgs failed to converge (status=2):\n",
      "ABNORMAL_TERMINATION_IN_LNSRCH.\n",
      "\n",
      "Increase the number of iterations (max_iter) or scale the data as shown in:\n",
      "    https://scikit-learn.org/stable/modules/preprocessing.html\n",
      "  _check_optimize_result(\"lbfgs\", opt_res)\n",
      "No artists with labels found to put in legend.  Note that artists whose label start with an underscore are ignored when legend() is called with no argument.\n",
      "No artists with labels found to put in legend.  Note that artists whose label start with an underscore are ignored when legend() is called with no argument.\n"
     ]
    },
    {
     "name": "stdout",
     "output_type": "stream",
     "text": [
      "kernel :  228**2 * RBF(length_scale=1.24)\n",
      "score =  0.3970670077459607\n",
      "Log-likelihood: -131.346\n",
      "0.23142415764230614\n",
      "744.1572489442027\n",
      "18.803707119054202\n",
      "-------------------------------\n",
      "Parameter    Value       Stderr\n",
      "jpsi_amp   744.15725    18.80371\n",
      "psip_amp   217.00143    19.09527\n"
     ]
    },
    {
     "name": "stderr",
     "output_type": "stream",
     "text": [
      "/Users/abinashpun/opt/anaconda3/envs/e1039-env/lib/python3.9/site-packages/sklearn/gaussian_process/_gpr.py:610: ConvergenceWarning: lbfgs failed to converge (status=2):\n",
      "ABNORMAL_TERMINATION_IN_LNSRCH.\n",
      "\n",
      "Increase the number of iterations (max_iter) or scale the data as shown in:\n",
      "    https://scikit-learn.org/stable/modules/preprocessing.html\n",
      "  _check_optimize_result(\"lbfgs\", opt_res)\n",
      "No artists with labels found to put in legend.  Note that artists whose label start with an underscore are ignored when legend() is called with no argument.\n",
      "No artists with labels found to put in legend.  Note that artists whose label start with an underscore are ignored when legend() is called with no argument.\n"
     ]
    },
    {
     "name": "stdout",
     "output_type": "stream",
     "text": [
      "kernel :  318**2 * RBF(length_scale=1.2)\n",
      "score =  0.23399672882271083\n",
      "Log-likelihood: -136.055\n",
      "0.3065637578412172\n",
      "1920.8132015897277\n",
      "31.101183953026602\n",
      "-------------------------------\n",
      "Parameter    Value       Stderr\n",
      "jpsi_amp  1920.81320    31.10118\n",
      "psip_amp   406.93026    28.64562\n"
     ]
    },
    {
     "name": "stderr",
     "output_type": "stream",
     "text": [
      "/Users/abinashpun/opt/anaconda3/envs/e1039-env/lib/python3.9/site-packages/sklearn/gaussian_process/_gpr.py:610: ConvergenceWarning: lbfgs failed to converge (status=2):\n",
      "ABNORMAL_TERMINATION_IN_LNSRCH.\n",
      "\n",
      "Increase the number of iterations (max_iter) or scale the data as shown in:\n",
      "    https://scikit-learn.org/stable/modules/preprocessing.html\n",
      "  _check_optimize_result(\"lbfgs\", opt_res)\n",
      "No artists with labels found to put in legend.  Note that artists whose label start with an underscore are ignored when legend() is called with no argument.\n",
      "No artists with labels found to put in legend.  Note that artists whose label start with an underscore are ignored when legend() is called with no argument.\n"
     ]
    },
    {
     "name": "stdout",
     "output_type": "stream",
     "text": [
      "kernel :  394**2 * RBF(length_scale=1.19)\n",
      "score =  0.2439884036861273\n",
      "Log-likelihood: -149.552\n",
      "0.3493783226199754\n",
      "2438.7620643047185\n",
      "39.28674716143803\n",
      "-------------------------------\n",
      "Parameter    Value       Stderr\n",
      "jpsi_amp  2438.76206    39.28675\n",
      "psip_amp   458.77321    34.40976\n"
     ]
    },
    {
     "name": "stderr",
     "output_type": "stream",
     "text": [
      "/Users/abinashpun/opt/anaconda3/envs/e1039-env/lib/python3.9/site-packages/sklearn/gaussian_process/_gpr.py:610: ConvergenceWarning: lbfgs failed to converge (status=2):\n",
      "ABNORMAL_TERMINATION_IN_LNSRCH.\n",
      "\n",
      "Increase the number of iterations (max_iter) or scale the data as shown in:\n",
      "    https://scikit-learn.org/stable/modules/preprocessing.html\n",
      "  _check_optimize_result(\"lbfgs\", opt_res)\n",
      "No artists with labels found to put in legend.  Note that artists whose label start with an underscore are ignored when legend() is called with no argument.\n",
      "No artists with labels found to put in legend.  Note that artists whose label start with an underscore are ignored when legend() is called with no argument.\n"
     ]
    },
    {
     "name": "stdout",
     "output_type": "stream",
     "text": [
      "kernel :  364**2 * RBF(length_scale=1.25)\n",
      "score =  0.3265934827785736\n",
      "Log-likelihood: -138.718\n",
      "0.2407658389486393\n",
      "1686.0424246173172\n",
      "27.30469697212591\n",
      "-------------------------------\n",
      "Parameter    Value       Stderr\n",
      "jpsi_amp  1686.04242    27.30470\n",
      "psip_amp   285.12190    25.05572\n"
     ]
    },
    {
     "name": "stderr",
     "output_type": "stream",
     "text": [
      "/Users/abinashpun/opt/anaconda3/envs/e1039-env/lib/python3.9/site-packages/sklearn/gaussian_process/_gpr.py:610: ConvergenceWarning: lbfgs failed to converge (status=2):\n",
      "ABNORMAL_TERMINATION_IN_LNSRCH.\n",
      "\n",
      "Increase the number of iterations (max_iter) or scale the data as shown in:\n",
      "    https://scikit-learn.org/stable/modules/preprocessing.html\n",
      "  _check_optimize_result(\"lbfgs\", opt_res)\n",
      "No artists with labels found to put in legend.  Note that artists whose label start with an underscore are ignored when legend() is called with no argument.\n",
      "No artists with labels found to put in legend.  Note that artists whose label start with an underscore are ignored when legend() is called with no argument.\n"
     ]
    },
    {
     "name": "stdout",
     "output_type": "stream",
     "text": [
      "kernel :  188**2 * RBF(length_scale=1.22)\n",
      "score =  0.5079947962506102\n",
      "Log-likelihood: -136.767\n",
      "0.1401460604448513\n",
      "517.7757024207399\n",
      "14.596206993681959\n",
      "-------------------------------\n",
      "Parameter    Value       Stderr\n",
      "jpsi_amp   517.77570    14.59621\n",
      "psip_amp    49.99407    14.57725\n"
     ]
    },
    {
     "name": "stderr",
     "output_type": "stream",
     "text": [
      "/Users/abinashpun/opt/anaconda3/envs/e1039-env/lib/python3.9/site-packages/sklearn/gaussian_process/_gpr.py:610: ConvergenceWarning: lbfgs failed to converge (status=2):\n",
      "ABNORMAL_TERMINATION_IN_LNSRCH.\n",
      "\n",
      "Increase the number of iterations (max_iter) or scale the data as shown in:\n",
      "    https://scikit-learn.org/stable/modules/preprocessing.html\n",
      "  _check_optimize_result(\"lbfgs\", opt_res)\n",
      "No artists with labels found to put in legend.  Note that artists whose label start with an underscore are ignored when legend() is called with no argument.\n",
      "No artists with labels found to put in legend.  Note that artists whose label start with an underscore are ignored when legend() is called with no argument.\n"
     ]
    },
    {
     "name": "stdout",
     "output_type": "stream",
     "text": [
      "kernel :  60.5**2 * RBF(length_scale=1.44)\n",
      "score =  0.8922952581679464\n",
      "Log-likelihood: -112.089\n",
      "0.09504721453595615\n",
      "35.95508128165952\n",
      "3.8980645492430637\n",
      "-------------------------------\n",
      "Parameter    Value       Stderr\n",
      "jpsi_amp    35.95508     3.89806\n",
      "psip_amp     0.52771     3.94242\n"
     ]
    },
    {
     "name": "stderr",
     "output_type": "stream",
     "text": [
      "/Users/abinashpun/opt/anaconda3/envs/e1039-env/lib/python3.9/site-packages/sklearn/gaussian_process/_gpr.py:610: ConvergenceWarning: lbfgs failed to converge (status=2):\n",
      "ABNORMAL_TERMINATION_IN_LNSRCH.\n",
      "\n",
      "Increase the number of iterations (max_iter) or scale the data as shown in:\n",
      "    https://scikit-learn.org/stable/modules/preprocessing.html\n",
      "  _check_optimize_result(\"lbfgs\", opt_res)\n",
      "No artists with labels found to put in legend.  Note that artists whose label start with an underscore are ignored when legend() is called with no argument.\n",
      "No artists with labels found to put in legend.  Note that artists whose label start with an underscore are ignored when legend() is called with no argument.\n"
     ]
    },
    {
     "name": "stdout",
     "output_type": "stream",
     "text": [
      "kernel :  50.5**2 * RBF(length_scale=1.29)\n",
      "score =  0.7342266153527197\n",
      "Log-likelihood: -111.159\n",
      "0.10453498930551046\n",
      "59.13400014649335\n",
      "4.446571756606776\n",
      "-------------------------------\n",
      "Parameter    Value       Stderr\n",
      "jpsi_amp    59.13400     4.44657\n",
      "psip_amp    23.42021     4.57287\n"
     ]
    },
    {
     "name": "stderr",
     "output_type": "stream",
     "text": [
      "/Users/abinashpun/opt/anaconda3/envs/e1039-env/lib/python3.9/site-packages/sklearn/gaussian_process/_gpr.py:610: ConvergenceWarning: lbfgs failed to converge (status=2):\n",
      "ABNORMAL_TERMINATION_IN_LNSRCH.\n",
      "\n",
      "Increase the number of iterations (max_iter) or scale the data as shown in:\n",
      "    https://scikit-learn.org/stable/modules/preprocessing.html\n",
      "  _check_optimize_result(\"lbfgs\", opt_res)\n",
      "No artists with labels found to put in legend.  Note that artists whose label start with an underscore are ignored when legend() is called with no argument.\n",
      "No artists with labels found to put in legend.  Note that artists whose label start with an underscore are ignored when legend() is called with no argument.\n"
     ]
    },
    {
     "name": "stdout",
     "output_type": "stream",
     "text": [
      "kernel :  159**2 * RBF(length_scale=1.32)\n",
      "score =  0.4037826134572068\n",
      "Log-likelihood: -127.458\n",
      "0.11784821312741807\n",
      "528.7553020391515\n",
      "11.932088894785883\n",
      "-------------------------------\n",
      "Parameter    Value       Stderr\n",
      "jpsi_amp   528.75530    11.93209\n",
      "psip_amp   139.46656    12.11734\n"
     ]
    },
    {
     "name": "stderr",
     "output_type": "stream",
     "text": [
      "/Users/abinashpun/opt/anaconda3/envs/e1039-env/lib/python3.9/site-packages/sklearn/gaussian_process/_gpr.py:610: ConvergenceWarning: lbfgs failed to converge (status=2):\n",
      "ABNORMAL_TERMINATION_IN_LNSRCH.\n",
      "\n",
      "Increase the number of iterations (max_iter) or scale the data as shown in:\n",
      "    https://scikit-learn.org/stable/modules/preprocessing.html\n",
      "  _check_optimize_result(\"lbfgs\", opt_res)\n",
      "No artists with labels found to put in legend.  Note that artists whose label start with an underscore are ignored when legend() is called with no argument.\n",
      "No artists with labels found to put in legend.  Note that artists whose label start with an underscore are ignored when legend() is called with no argument.\n"
     ]
    },
    {
     "name": "stdout",
     "output_type": "stream",
     "text": [
      "kernel :  338**2 * RBF(length_scale=1.16)\n",
      "score =  0.368642155863497\n",
      "Log-likelihood: -148.127\n",
      "0.22049531858673652\n",
      "1530.7713843177971\n",
      "29.920832216921216\n",
      "-------------------------------\n",
      "Parameter    Value       Stderr\n",
      "jpsi_amp  1530.77138    29.92083\n",
      "psip_amp   278.51836    26.32246\n"
     ]
    },
    {
     "name": "stderr",
     "output_type": "stream",
     "text": [
      "/Users/abinashpun/opt/anaconda3/envs/e1039-env/lib/python3.9/site-packages/sklearn/gaussian_process/_gpr.py:610: ConvergenceWarning: lbfgs failed to converge (status=2):\n",
      "ABNORMAL_TERMINATION_IN_LNSRCH.\n",
      "\n",
      "Increase the number of iterations (max_iter) or scale the data as shown in:\n",
      "    https://scikit-learn.org/stable/modules/preprocessing.html\n",
      "  _check_optimize_result(\"lbfgs\", opt_res)\n",
      "No artists with labels found to put in legend.  Note that artists whose label start with an underscore are ignored when legend() is called with no argument.\n",
      "No artists with labels found to put in legend.  Note that artists whose label start with an underscore are ignored when legend() is called with no argument.\n"
     ]
    },
    {
     "name": "stdout",
     "output_type": "stream",
     "text": [
      "kernel :  375**2 * RBF(length_scale=1.15)\n",
      "score =  0.23964976662157556\n",
      "Log-likelihood: -147.074\n",
      "0.299421436716243\n",
      "2541.507868568913\n",
      "38.890174320792724\n",
      "-------------------------------\n",
      "Parameter    Value       Stderr\n",
      "jpsi_amp  2541.50787    38.89017\n",
      "psip_amp   464.84160    33.91052\n"
     ]
    },
    {
     "name": "stderr",
     "output_type": "stream",
     "text": [
      "/Users/abinashpun/opt/anaconda3/envs/e1039-env/lib/python3.9/site-packages/sklearn/gaussian_process/_gpr.py:610: ConvergenceWarning: lbfgs failed to converge (status=2):\n",
      "ABNORMAL_TERMINATION_IN_LNSRCH.\n",
      "\n",
      "Increase the number of iterations (max_iter) or scale the data as shown in:\n",
      "    https://scikit-learn.org/stable/modules/preprocessing.html\n",
      "  _check_optimize_result(\"lbfgs\", opt_res)\n",
      "No artists with labels found to put in legend.  Note that artists whose label start with an underscore are ignored when legend() is called with no argument.\n",
      "No artists with labels found to put in legend.  Note that artists whose label start with an underscore are ignored when legend() is called with no argument.\n"
     ]
    },
    {
     "name": "stdout",
     "output_type": "stream",
     "text": [
      "kernel :  381**2 * RBF(length_scale=1.25)\n",
      "score =  0.25431392702271716\n",
      "Log-likelihood: -145.018\n",
      "0.40160300036831076\n",
      "2076.907323249484\n",
      "35.844499828309125\n",
      "-------------------------------\n",
      "Parameter    Value       Stderr\n",
      "jpsi_amp  2076.90732    35.84450\n",
      "psip_amp   417.05106    32.99404\n"
     ]
    },
    {
     "name": "stderr",
     "output_type": "stream",
     "text": [
      "/Users/abinashpun/opt/anaconda3/envs/e1039-env/lib/python3.9/site-packages/sklearn/gaussian_process/_gpr.py:610: ConvergenceWarning: lbfgs failed to converge (status=2):\n",
      "ABNORMAL_TERMINATION_IN_LNSRCH.\n",
      "\n",
      "Increase the number of iterations (max_iter) or scale the data as shown in:\n",
      "    https://scikit-learn.org/stable/modules/preprocessing.html\n",
      "  _check_optimize_result(\"lbfgs\", opt_res)\n",
      "No artists with labels found to put in legend.  Note that artists whose label start with an underscore are ignored when legend() is called with no argument.\n",
      "No artists with labels found to put in legend.  Note that artists whose label start with an underscore are ignored when legend() is called with no argument.\n"
     ]
    },
    {
     "name": "stdout",
     "output_type": "stream",
     "text": [
      "kernel :  249**2 * RBF(length_scale=1.18)\n",
      "score =  0.41612458730846613\n",
      "Log-likelihood: -140.633\n",
      "0.14634199172364118\n",
      "810.9172561216064\n",
      "15.70646297797156\n",
      "-------------------------------\n",
      "Parameter    Value       Stderr\n",
      "jpsi_amp   810.91726    15.70646\n",
      "psip_amp   167.26103    15.30122\n"
     ]
    },
    {
     "name": "stderr",
     "output_type": "stream",
     "text": [
      "/Users/abinashpun/opt/anaconda3/envs/e1039-env/lib/python3.9/site-packages/sklearn/gaussian_process/_gpr.py:610: ConvergenceWarning: lbfgs failed to converge (status=2):\n",
      "ABNORMAL_TERMINATION_IN_LNSRCH.\n",
      "\n",
      "Increase the number of iterations (max_iter) or scale the data as shown in:\n",
      "    https://scikit-learn.org/stable/modules/preprocessing.html\n",
      "  _check_optimize_result(\"lbfgs\", opt_res)\n",
      "No artists with labels found to put in legend.  Note that artists whose label start with an underscore are ignored when legend() is called with no argument.\n",
      "No artists with labels found to put in legend.  Note that artists whose label start with an underscore are ignored when legend() is called with no argument.\n"
     ]
    },
    {
     "name": "stdout",
     "output_type": "stream",
     "text": [
      "kernel :  105**2 * RBF(length_scale=1.3)\n",
      "score =  0.7363738033772419\n",
      "Log-likelihood: -116.528\n",
      "1.415816956601292\n",
      "66.95091194611268\n",
      "19.07238250704249\n",
      "-------------------------------\n",
      "Parameter    Value       Stderr\n",
      "jpsi_amp    66.95091    19.07238\n",
      "psip_amp   -46.70301    13.30439\n"
     ]
    },
    {
     "name": "stderr",
     "output_type": "stream",
     "text": [
      "/Users/abinashpun/opt/anaconda3/envs/e1039-env/lib/python3.9/site-packages/sklearn/gaussian_process/_gpr.py:610: ConvergenceWarning: lbfgs failed to converge (status=2):\n",
      "ABNORMAL_TERMINATION_IN_LNSRCH.\n",
      "\n",
      "Increase the number of iterations (max_iter) or scale the data as shown in:\n",
      "    https://scikit-learn.org/stable/modules/preprocessing.html\n",
      "  _check_optimize_result(\"lbfgs\", opt_res)\n",
      "No artists with labels found to put in legend.  Note that artists whose label start with an underscore are ignored when legend() is called with no argument.\n",
      "No artists with labels found to put in legend.  Note that artists whose label start with an underscore are ignored when legend() is called with no argument.\n"
     ]
    },
    {
     "name": "stdout",
     "output_type": "stream",
     "text": [
      "kernel :  23.4**2 * RBF(length_scale=1.2)\n",
      "score =  0.8467695599984062\n",
      "Log-likelihood: -100.375\n",
      "0.13366802974411246\n",
      "9.506972488047609\n",
      "2.45014083040997\n",
      "-------------------------------\n",
      "Parameter    Value       Stderr\n",
      "jpsi_amp     9.50697     2.45014\n",
      "psip_amp     5.41048     2.69559\n"
     ]
    },
    {
     "name": "stderr",
     "output_type": "stream",
     "text": [
      "/Users/abinashpun/opt/anaconda3/envs/e1039-env/lib/python3.9/site-packages/sklearn/gaussian_process/_gpr.py:610: ConvergenceWarning: lbfgs failed to converge (status=2):\n",
      "ABNORMAL_TERMINATION_IN_LNSRCH.\n",
      "\n",
      "Increase the number of iterations (max_iter) or scale the data as shown in:\n",
      "    https://scikit-learn.org/stable/modules/preprocessing.html\n",
      "  _check_optimize_result(\"lbfgs\", opt_res)\n",
      "No artists with labels found to put in legend.  Note that artists whose label start with an underscore are ignored when legend() is called with no argument.\n"
     ]
    },
    {
     "name": "stdout",
     "output_type": "stream",
     "text": [
      "kernel :  93.5**2 * RBF(length_scale=1.4)\n",
      "score =  0.6447493703832912\n",
      "Log-likelihood: -122.174\n"
     ]
    },
    {
     "name": "stderr",
     "output_type": "stream",
     "text": [
      "No artists with labels found to put in legend.  Note that artists whose label start with an underscore are ignored when legend() is called with no argument.\n"
     ]
    },
    {
     "name": "stdout",
     "output_type": "stream",
     "text": [
      "0.19599303937050966\n",
      "163.67431735530022\n",
      "9.556846980384746\n",
      "-------------------------------\n",
      "Parameter    Value       Stderr\n",
      "jpsi_amp   163.67432     9.55685\n",
      "psip_amp    36.25305     9.54398\n"
     ]
    },
    {
     "name": "stderr",
     "output_type": "stream",
     "text": [
      "/Users/abinashpun/opt/anaconda3/envs/e1039-env/lib/python3.9/site-packages/sklearn/gaussian_process/_gpr.py:610: ConvergenceWarning: lbfgs failed to converge (status=2):\n",
      "ABNORMAL_TERMINATION_IN_LNSRCH.\n",
      "\n",
      "Increase the number of iterations (max_iter) or scale the data as shown in:\n",
      "    https://scikit-learn.org/stable/modules/preprocessing.html\n",
      "  _check_optimize_result(\"lbfgs\", opt_res)\n",
      "No artists with labels found to put in legend.  Note that artists whose label start with an underscore are ignored when legend() is called with no argument.\n",
      "No artists with labels found to put in legend.  Note that artists whose label start with an underscore are ignored when legend() is called with no argument.\n"
     ]
    },
    {
     "name": "stdout",
     "output_type": "stream",
     "text": [
      "kernel :  252**2 * RBF(length_scale=1.37)\n",
      "score =  0.42209891737985206\n",
      "Log-likelihood: -133.162\n",
      "0.2547100560239833\n",
      "902.621121271801\n",
      "22.466902573914886\n",
      "-------------------------------\n",
      "Parameter    Value       Stderr\n",
      "jpsi_amp   902.62112    22.46690\n",
      "psip_amp   168.28949    22.23076\n"
     ]
    },
    {
     "name": "stderr",
     "output_type": "stream",
     "text": [
      "/Users/abinashpun/opt/anaconda3/envs/e1039-env/lib/python3.9/site-packages/sklearn/gaussian_process/_gpr.py:610: ConvergenceWarning: lbfgs failed to converge (status=2):\n",
      "ABNORMAL_TERMINATION_IN_LNSRCH.\n",
      "\n",
      "Increase the number of iterations (max_iter) or scale the data as shown in:\n",
      "    https://scikit-learn.org/stable/modules/preprocessing.html\n",
      "  _check_optimize_result(\"lbfgs\", opt_res)\n",
      "No artists with labels found to put in legend.  Note that artists whose label start with an underscore are ignored when legend() is called with no argument.\n",
      "No artists with labels found to put in legend.  Note that artists whose label start with an underscore are ignored when legend() is called with no argument.\n"
     ]
    },
    {
     "name": "stdout",
     "output_type": "stream",
     "text": [
      "kernel :  399**2 * RBF(length_scale=1.19)\n",
      "score =  0.3445387942582582\n",
      "Log-likelihood: -143.116\n",
      "0.30322696967856055\n",
      "1839.3890633491324\n",
      "36.77004120237656\n",
      "-------------------------------\n",
      "Parameter    Value       Stderr\n",
      "jpsi_amp  1839.38906    36.77004\n",
      "psip_amp   362.87680    31.52333\n"
     ]
    },
    {
     "name": "stderr",
     "output_type": "stream",
     "text": [
      "/Users/abinashpun/opt/anaconda3/envs/e1039-env/lib/python3.9/site-packages/sklearn/gaussian_process/_gpr.py:610: ConvergenceWarning: lbfgs failed to converge (status=2):\n",
      "ABNORMAL_TERMINATION_IN_LNSRCH.\n",
      "\n",
      "Increase the number of iterations (max_iter) or scale the data as shown in:\n",
      "    https://scikit-learn.org/stable/modules/preprocessing.html\n",
      "  _check_optimize_result(\"lbfgs\", opt_res)\n",
      "No artists with labels found to put in legend.  Note that artists whose label start with an underscore are ignored when legend() is called with no argument.\n",
      "No artists with labels found to put in legend.  Note that artists whose label start with an underscore are ignored when legend() is called with no argument.\n"
     ]
    },
    {
     "name": "stdout",
     "output_type": "stream",
     "text": [
      "kernel :  378**2 * RBF(length_scale=1.21)\n",
      "score =  0.267204284211902\n",
      "Log-likelihood: -137.614\n",
      "0.3548446088631364\n",
      "2091.555837931001\n",
      "34.61102345425583\n",
      "-------------------------------\n",
      "Parameter    Value       Stderr\n",
      "jpsi_amp  2091.55584    34.61102\n",
      "psip_amp   443.88198    30.71914\n"
     ]
    },
    {
     "name": "stderr",
     "output_type": "stream",
     "text": [
      "/Users/abinashpun/opt/anaconda3/envs/e1039-env/lib/python3.9/site-packages/sklearn/gaussian_process/_gpr.py:610: ConvergenceWarning: lbfgs failed to converge (status=2):\n",
      "ABNORMAL_TERMINATION_IN_LNSRCH.\n",
      "\n",
      "Increase the number of iterations (max_iter) or scale the data as shown in:\n",
      "    https://scikit-learn.org/stable/modules/preprocessing.html\n",
      "  _check_optimize_result(\"lbfgs\", opt_res)\n",
      "No artists with labels found to put in legend.  Note that artists whose label start with an underscore are ignored when legend() is called with no argument.\n",
      "No artists with labels found to put in legend.  Note that artists whose label start with an underscore are ignored when legend() is called with no argument.\n"
     ]
    },
    {
     "name": "stdout",
     "output_type": "stream",
     "text": [
      "kernel :  269**2 * RBF(length_scale=1.06)\n",
      "score =  0.30386548114540035\n",
      "Log-likelihood: -148.681\n",
      "0.3104971871256243\n",
      "1204.5445528662585\n",
      "29.22404653710957\n",
      "-------------------------------\n",
      "Parameter    Value       Stderr\n",
      "jpsi_amp  1204.54455    29.22405\n",
      "psip_amp   315.12877    28.00023\n"
     ]
    },
    {
     "name": "stderr",
     "output_type": "stream",
     "text": [
      "/Users/abinashpun/opt/anaconda3/envs/e1039-env/lib/python3.9/site-packages/sklearn/gaussian_process/_gpr.py:610: ConvergenceWarning: lbfgs failed to converge (status=2):\n",
      "ABNORMAL_TERMINATION_IN_LNSRCH.\n",
      "\n",
      "Increase the number of iterations (max_iter) or scale the data as shown in:\n",
      "    https://scikit-learn.org/stable/modules/preprocessing.html\n",
      "  _check_optimize_result(\"lbfgs\", opt_res)\n",
      "No artists with labels found to put in legend.  Note that artists whose label start with an underscore are ignored when legend() is called with no argument.\n",
      "No artists with labels found to put in legend.  Note that artists whose label start with an underscore are ignored when legend() is called with no argument.\n"
     ]
    },
    {
     "name": "stdout",
     "output_type": "stream",
     "text": [
      "kernel :  144**2 * RBF(length_scale=1.15)\n",
      "score =  0.4662922899482519\n",
      "Log-likelihood: -121.047\n",
      "0.1701267980087061\n",
      "354.9864415538549\n",
      "10.27548872473423\n",
      "-------------------------------\n",
      "Parameter    Value       Stderr\n",
      "jpsi_amp   354.98644    10.27549\n",
      "psip_amp   143.90455    11.48208\n"
     ]
    },
    {
     "name": "stderr",
     "output_type": "stream",
     "text": [
      "/Users/abinashpun/opt/anaconda3/envs/e1039-env/lib/python3.9/site-packages/sklearn/gaussian_process/_gpr.py:610: ConvergenceWarning: lbfgs failed to converge (status=2):\n",
      "ABNORMAL_TERMINATION_IN_LNSRCH.\n",
      "\n",
      "Increase the number of iterations (max_iter) or scale the data as shown in:\n",
      "    https://scikit-learn.org/stable/modules/preprocessing.html\n",
      "  _check_optimize_result(\"lbfgs\", opt_res)\n",
      "No artists with labels found to put in legend.  Note that artists whose label start with an underscore are ignored when legend() is called with no argument.\n",
      "No artists with labels found to put in legend.  Note that artists whose label start with an underscore are ignored when legend() is called with no argument.\n"
     ]
    },
    {
     "name": "stdout",
     "output_type": "stream",
     "text": [
      "kernel :  54.9**2 * RBF(length_scale=1.13)\n",
      "score =  0.6954482628718667\n",
      "Log-likelihood: -113.604\n",
      "0.057582143345808565\n",
      "51.24190603910699\n",
      "3.1317220275619357\n",
      "-------------------------------\n",
      "Parameter    Value       Stderr\n",
      "jpsi_amp    51.24191     3.13172\n",
      "psip_amp    30.81246     3.69434\n"
     ]
    },
    {
     "name": "stderr",
     "output_type": "stream",
     "text": [
      "/Users/abinashpun/opt/anaconda3/envs/e1039-env/lib/python3.9/site-packages/sklearn/gaussian_process/_gpr.py:610: ConvergenceWarning: lbfgs failed to converge (status=2):\n",
      "ABNORMAL_TERMINATION_IN_LNSRCH.\n",
      "\n",
      "Increase the number of iterations (max_iter) or scale the data as shown in:\n",
      "    https://scikit-learn.org/stable/modules/preprocessing.html\n",
      "  _check_optimize_result(\"lbfgs\", opt_res)\n",
      "No artists with labels found to put in legend.  Note that artists whose label start with an underscore are ignored when legend() is called with no argument.\n",
      "No artists with labels found to put in legend.  Note that artists whose label start with an underscore are ignored when legend() is called with no argument.\n"
     ]
    },
    {
     "name": "stdout",
     "output_type": "stream",
     "text": [
      "kernel :  10.2**2 * RBF(length_scale=1.03)\n",
      "score =  0.6839725618365016\n",
      "Log-likelihood: -60.190\n",
      "4.03763049222887\n",
      "-8.477385257668123e-05\n",
      "0.005591925774396412\n",
      "-------------------------------\n",
      "Parameter    Value       Stderr\n",
      "jpsi_amp    -0.00008     0.00559\n",
      "psip_amp     0.00105     0.02833\n"
     ]
    },
    {
     "name": "stderr",
     "output_type": "stream",
     "text": [
      "/Users/abinashpun/opt/anaconda3/envs/e1039-env/lib/python3.9/site-packages/sklearn/gaussian_process/_gpr.py:610: ConvergenceWarning: lbfgs failed to converge (status=2):\n",
      "ABNORMAL_TERMINATION_IN_LNSRCH.\n",
      "\n",
      "Increase the number of iterations (max_iter) or scale the data as shown in:\n",
      "    https://scikit-learn.org/stable/modules/preprocessing.html\n",
      "  _check_optimize_result(\"lbfgs\", opt_res)\n",
      "No artists with labels found to put in legend.  Note that artists whose label start with an underscore are ignored when legend() is called with no argument.\n",
      "No artists with labels found to put in legend.  Note that artists whose label start with an underscore are ignored when legend() is called with no argument.\n"
     ]
    },
    {
     "name": "stdout",
     "output_type": "stream",
     "text": [
      "kernel :  83.5**2 * RBF(length_scale=1.53)\n",
      "score =  0.6123688570176348\n",
      "Log-likelihood: -114.927\n",
      "0.1568886568362664\n",
      "160.46984848768022\n",
      "6.275853569142657\n",
      "-------------------------------\n",
      "Parameter    Value       Stderr\n",
      "jpsi_amp   160.46985     6.27585\n",
      "psip_amp    39.41481     6.05657\n"
     ]
    },
    {
     "name": "stderr",
     "output_type": "stream",
     "text": [
      "/Users/abinashpun/opt/anaconda3/envs/e1039-env/lib/python3.9/site-packages/sklearn/gaussian_process/_gpr.py:610: ConvergenceWarning: lbfgs failed to converge (status=2):\n",
      "ABNORMAL_TERMINATION_IN_LNSRCH.\n",
      "\n",
      "Increase the number of iterations (max_iter) or scale the data as shown in:\n",
      "    https://scikit-learn.org/stable/modules/preprocessing.html\n",
      "  _check_optimize_result(\"lbfgs\", opt_res)\n",
      "No artists with labels found to put in legend.  Note that artists whose label start with an underscore are ignored when legend() is called with no argument.\n",
      "No artists with labels found to put in legend.  Note that artists whose label start with an underscore are ignored when legend() is called with no argument.\n"
     ]
    },
    {
     "name": "stdout",
     "output_type": "stream",
     "text": [
      "kernel :  260**2 * RBF(length_scale=1.3)\n",
      "score =  0.4591092508894269\n",
      "Log-likelihood: -137.812\n",
      "0.14245031544550069\n",
      "835.1047222342638\n",
      "17.60000296611256\n",
      "-------------------------------\n",
      "Parameter    Value       Stderr\n",
      "jpsi_amp   835.10472    17.60000\n",
      "psip_amp   141.39916    17.16734\n"
     ]
    },
    {
     "name": "stderr",
     "output_type": "stream",
     "text": [
      "No artists with labels found to put in legend.  Note that artists whose label start with an underscore are ignored when legend() is called with no argument.\n",
      "No artists with labels found to put in legend.  Note that artists whose label start with an underscore are ignored when legend() is called with no argument.\n"
     ]
    },
    {
     "name": "stdout",
     "output_type": "stream",
     "text": [
      "kernel :  368**2 * RBF(length_scale=1.05)\n",
      "score =  0.3786178767847008\n",
      "Log-likelihood: -144.043\n",
      "0.15150890002113915\n",
      "1723.444582515176\n",
      "33.961609906887105\n",
      "-------------------------------\n",
      "Parameter    Value       Stderr\n",
      "jpsi_amp  1723.44458    33.96161\n",
      "psip_amp   281.56812    30.33155\n"
     ]
    },
    {
     "name": "stderr",
     "output_type": "stream",
     "text": [
      "/Users/abinashpun/opt/anaconda3/envs/e1039-env/lib/python3.9/site-packages/sklearn/gaussian_process/_gpr.py:610: ConvergenceWarning: lbfgs failed to converge (status=2):\n",
      "ABNORMAL_TERMINATION_IN_LNSRCH.\n",
      "\n",
      "Increase the number of iterations (max_iter) or scale the data as shown in:\n",
      "    https://scikit-learn.org/stable/modules/preprocessing.html\n",
      "  _check_optimize_result(\"lbfgs\", opt_res)\n",
      "No artists with labels found to put in legend.  Note that artists whose label start with an underscore are ignored when legend() is called with no argument.\n",
      "No artists with labels found to put in legend.  Note that artists whose label start with an underscore are ignored when legend() is called with no argument.\n"
     ]
    },
    {
     "name": "stdout",
     "output_type": "stream",
     "text": [
      "kernel :  315**2 * RBF(length_scale=1.14)\n",
      "score =  0.22756497866195913\n",
      "Log-likelihood: -134.080\n",
      "0.37077425488612964\n",
      "2028.7582590824709\n",
      "35.9473079288007\n",
      "-------------------------------\n",
      "Parameter    Value       Stderr\n",
      "jpsi_amp  2028.75826    35.94731\n",
      "psip_amp   450.85810    32.08292\n"
     ]
    },
    {
     "name": "stderr",
     "output_type": "stream",
     "text": [
      "/Users/abinashpun/opt/anaconda3/envs/e1039-env/lib/python3.9/site-packages/sklearn/gaussian_process/_gpr.py:610: ConvergenceWarning: lbfgs failed to converge (status=2):\n",
      "ABNORMAL_TERMINATION_IN_LNSRCH.\n",
      "\n",
      "Increase the number of iterations (max_iter) or scale the data as shown in:\n",
      "    https://scikit-learn.org/stable/modules/preprocessing.html\n",
      "  _check_optimize_result(\"lbfgs\", opt_res)\n",
      "No artists with labels found to put in legend.  Note that artists whose label start with an underscore are ignored when legend() is called with no argument.\n",
      "No artists with labels found to put in legend.  Note that artists whose label start with an underscore are ignored when legend() is called with no argument.\n"
     ]
    },
    {
     "name": "stdout",
     "output_type": "stream",
     "text": [
      "kernel :  247**2 * RBF(length_scale=1.14)\n",
      "score =  0.30567365759366216\n",
      "Log-likelihood: -128.660\n",
      "0.3565461765300809\n",
      "1102.6122484448415\n",
      "24.831098181346658\n",
      "-------------------------------\n",
      "Parameter    Value       Stderr\n",
      "jpsi_amp  1102.61225    24.83110\n",
      "psip_amp   302.91235    23.67327\n"
     ]
    },
    {
     "name": "stderr",
     "output_type": "stream",
     "text": [
      "/Users/abinashpun/opt/anaconda3/envs/e1039-env/lib/python3.9/site-packages/sklearn/gaussian_process/_gpr.py:610: ConvergenceWarning: lbfgs failed to converge (status=2):\n",
      "ABNORMAL_TERMINATION_IN_LNSRCH.\n",
      "\n",
      "Increase the number of iterations (max_iter) or scale the data as shown in:\n",
      "    https://scikit-learn.org/stable/modules/preprocessing.html\n",
      "  _check_optimize_result(\"lbfgs\", opt_res)\n",
      "No artists with labels found to put in legend.  Note that artists whose label start with an underscore are ignored when legend() is called with no argument.\n"
     ]
    },
    {
     "name": "stdout",
     "output_type": "stream",
     "text": [
      "kernel :  135**2 * RBF(length_scale=1.11)\n",
      "score =  0.468985195915368\n",
      "Log-likelihood: -123.376\n"
     ]
    },
    {
     "name": "stderr",
     "output_type": "stream",
     "text": [
      "No artists with labels found to put in legend.  Note that artists whose label start with an underscore are ignored when legend() is called with no argument.\n"
     ]
    },
    {
     "name": "stdout",
     "output_type": "stream",
     "text": [
      "0.1425080205638762\n",
      "335.34231410358586\n",
      "9.501257970259482\n",
      "-------------------------------\n",
      "Parameter    Value       Stderr\n",
      "jpsi_amp   335.34231     9.50126\n",
      "psip_amp   128.61819    10.60486\n"
     ]
    },
    {
     "name": "stderr",
     "output_type": "stream",
     "text": [
      "No artists with labels found to put in legend.  Note that artists whose label start with an underscore are ignored when legend() is called with no argument.\n",
      "No artists with labels found to put in legend.  Note that artists whose label start with an underscore are ignored when legend() is called with no argument.\n"
     ]
    },
    {
     "name": "stdout",
     "output_type": "stream",
     "text": [
      "kernel :  58**2 * RBF(length_scale=1.16)\n",
      "score =  0.821690716875665\n",
      "Log-likelihood: -115.746\n",
      "0.8445767674188167\n",
      "-7.276600660820237e-06\n",
      "0.0048794850062038\n",
      "-------------------------------\n",
      "Parameter    Value       Stderr\n",
      "jpsi_amp    -0.00001     0.00488\n",
      "psip_amp     0.00004     0.02154\n"
     ]
    },
    {
     "name": "stderr",
     "output_type": "stream",
     "text": [
      "/Users/abinashpun/opt/anaconda3/envs/e1039-env/lib/python3.9/site-packages/sklearn/gaussian_process/_gpr.py:428: UserWarning: Predicted variances smaller than 0. Setting those variances to 0.\n",
      "  warnings.warn(\n",
      "No artists with labels found to put in legend.  Note that artists whose label start with an underscore are ignored when legend() is called with no argument.\n",
      "No artists with labels found to put in legend.  Note that artists whose label start with an underscore are ignored when legend() is called with no argument.\n"
     ]
    },
    {
     "name": "stdout",
     "output_type": "stream",
     "text": [
      "kernel :  7.97**2 * RBF(length_scale=0.862)\n",
      "score =  0.7059072715913305\n",
      "Log-likelihood: -57.330\n",
      "2.386504761286466\n",
      "0.00011308114551338285\n",
      "0.007475646784693976\n",
      "-------------------------------\n",
      "Parameter    Value       Stderr\n",
      "jpsi_amp     0.00011     0.00748\n",
      "psip_amp    -0.00008     0.00526\n"
     ]
    },
    {
     "name": "stderr",
     "output_type": "stream",
     "text": [
      "/Users/abinashpun/opt/anaconda3/envs/e1039-env/lib/python3.9/site-packages/sklearn/gaussian_process/_gpr.py:610: ConvergenceWarning: lbfgs failed to converge (status=2):\n",
      "ABNORMAL_TERMINATION_IN_LNSRCH.\n",
      "\n",
      "Increase the number of iterations (max_iter) or scale the data as shown in:\n",
      "    https://scikit-learn.org/stable/modules/preprocessing.html\n",
      "  _check_optimize_result(\"lbfgs\", opt_res)\n",
      "No artists with labels found to put in legend.  Note that artists whose label start with an underscore are ignored when legend() is called with no argument.\n",
      "No artists with labels found to put in legend.  Note that artists whose label start with an underscore are ignored when legend() is called with no argument.\n"
     ]
    },
    {
     "name": "stdout",
     "output_type": "stream",
     "text": [
      "kernel :  43.6**2 * RBF(length_scale=1.48)\n",
      "score =  0.6723738891117559\n",
      "Log-likelihood: -113.057\n",
      "0.19317224511336686\n",
      "53.88444002465326\n",
      "3.84308734711414\n",
      "-------------------------------\n",
      "Parameter    Value       Stderr\n",
      "jpsi_amp    53.88444     3.84309\n",
      "psip_amp    27.08132     3.88963\n"
     ]
    },
    {
     "name": "stderr",
     "output_type": "stream",
     "text": [
      "/Users/abinashpun/opt/anaconda3/envs/e1039-env/lib/python3.9/site-packages/sklearn/gaussian_process/_gpr.py:610: ConvergenceWarning: lbfgs failed to converge (status=2):\n",
      "ABNORMAL_TERMINATION_IN_LNSRCH.\n",
      "\n",
      "Increase the number of iterations (max_iter) or scale the data as shown in:\n",
      "    https://scikit-learn.org/stable/modules/preprocessing.html\n",
      "  _check_optimize_result(\"lbfgs\", opt_res)\n",
      "No artists with labels found to put in legend.  Note that artists whose label start with an underscore are ignored when legend() is called with no argument.\n",
      "No artists with labels found to put in legend.  Note that artists whose label start with an underscore are ignored when legend() is called with no argument.\n"
     ]
    },
    {
     "name": "stdout",
     "output_type": "stream",
     "text": [
      "kernel :  144**2 * RBF(length_scale=1.34)\n",
      "score =  0.42358013863169486\n",
      "Log-likelihood: -124.380\n",
      "0.08065008954081633\n",
      "449.075821116372\n",
      "9.118737647013523\n",
      "-------------------------------\n",
      "Parameter    Value       Stderr\n",
      "jpsi_amp   449.07582     9.11874\n",
      "psip_amp   118.87790     9.19105\n"
     ]
    },
    {
     "name": "stderr",
     "output_type": "stream",
     "text": [
      "/Users/abinashpun/opt/anaconda3/envs/e1039-env/lib/python3.9/site-packages/sklearn/gaussian_process/_gpr.py:610: ConvergenceWarning: lbfgs failed to converge (status=2):\n",
      "ABNORMAL_TERMINATION_IN_LNSRCH.\n",
      "\n",
      "Increase the number of iterations (max_iter) or scale the data as shown in:\n",
      "    https://scikit-learn.org/stable/modules/preprocessing.html\n",
      "  _check_optimize_result(\"lbfgs\", opt_res)\n",
      "No artists with labels found to put in legend.  Note that artists whose label start with an underscore are ignored when legend() is called with no argument.\n",
      "No artists with labels found to put in legend.  Note that artists whose label start with an underscore are ignored when legend() is called with no argument.\n"
     ]
    },
    {
     "name": "stdout",
     "output_type": "stream",
     "text": [
      "kernel :  329**2 * RBF(length_scale=1.28)\n",
      "score =  0.3598584482491053\n",
      "Log-likelihood: -141.187\n",
      "0.22579337849320608\n",
      "1376.528923838162\n",
      "25.298061230013207\n",
      "-------------------------------\n",
      "Parameter    Value       Stderr\n",
      "jpsi_amp  1376.52892    25.29806\n",
      "psip_amp   259.56058    23.76377\n"
     ]
    },
    {
     "name": "stderr",
     "output_type": "stream",
     "text": [
      "/Users/abinashpun/opt/anaconda3/envs/e1039-env/lib/python3.9/site-packages/sklearn/gaussian_process/_gpr.py:610: ConvergenceWarning: lbfgs failed to converge (status=2):\n",
      "ABNORMAL_TERMINATION_IN_LNSRCH.\n",
      "\n",
      "Increase the number of iterations (max_iter) or scale the data as shown in:\n",
      "    https://scikit-learn.org/stable/modules/preprocessing.html\n",
      "  _check_optimize_result(\"lbfgs\", opt_res)\n",
      "No artists with labels found to put in legend.  Note that artists whose label start with an underscore are ignored when legend() is called with no argument.\n",
      "No artists with labels found to put in legend.  Note that artists whose label start with an underscore are ignored when legend() is called with no argument.\n"
     ]
    },
    {
     "name": "stdout",
     "output_type": "stream",
     "text": [
      "kernel :  376**2 * RBF(length_scale=1.29)\n",
      "score =  0.2583606897355901\n",
      "Log-likelihood: -137.334\n",
      "0.5243649739263492\n",
      "2178.1062709437792\n",
      "41.82980608851037\n",
      "-------------------------------\n",
      "Parameter    Value       Stderr\n",
      "jpsi_amp  2178.10627    41.82981\n",
      "psip_amp   437.60180    38.76528\n"
     ]
    },
    {
     "name": "stderr",
     "output_type": "stream",
     "text": [
      "/Users/abinashpun/opt/anaconda3/envs/e1039-env/lib/python3.9/site-packages/sklearn/gaussian_process/_gpr.py:610: ConvergenceWarning: lbfgs failed to converge (status=2):\n",
      "ABNORMAL_TERMINATION_IN_LNSRCH.\n",
      "\n",
      "Increase the number of iterations (max_iter) or scale the data as shown in:\n",
      "    https://scikit-learn.org/stable/modules/preprocessing.html\n",
      "  _check_optimize_result(\"lbfgs\", opt_res)\n",
      "No artists with labels found to put in legend.  Note that artists whose label start with an underscore are ignored when legend() is called with no argument.\n",
      "No artists with labels found to put in legend.  Note that artists whose label start with an underscore are ignored when legend() is called with no argument.\n"
     ]
    },
    {
     "name": "stdout",
     "output_type": "stream",
     "text": [
      "kernel :  290**2 * RBF(length_scale=1.14)\n",
      "score =  0.2602313390466552\n",
      "Log-likelihood: -143.093\n",
      "0.3806290140909351\n",
      "1717.49649695821\n",
      "33.594519766234235\n",
      "-------------------------------\n",
      "Parameter    Value       Stderr\n",
      "jpsi_amp  1717.49650    33.59452\n",
      "psip_amp   350.14784    30.25072\n"
     ]
    },
    {
     "name": "stderr",
     "output_type": "stream",
     "text": [
      "/Users/abinashpun/opt/anaconda3/envs/e1039-env/lib/python3.9/site-packages/sklearn/gaussian_process/_gpr.py:610: ConvergenceWarning: lbfgs failed to converge (status=2):\n",
      "ABNORMAL_TERMINATION_IN_LNSRCH.\n",
      "\n",
      "Increase the number of iterations (max_iter) or scale the data as shown in:\n",
      "    https://scikit-learn.org/stable/modules/preprocessing.html\n",
      "  _check_optimize_result(\"lbfgs\", opt_res)\n",
      "No artists with labels found to put in legend.  Note that artists whose label start with an underscore are ignored when legend() is called with no argument.\n",
      "No artists with labels found to put in legend.  Note that artists whose label start with an underscore are ignored when legend() is called with no argument.\n"
     ]
    },
    {
     "name": "stdout",
     "output_type": "stream",
     "text": [
      "kernel :  224**2 * RBF(length_scale=1.17)\n",
      "score =  0.5174462703489022\n",
      "Log-likelihood: -125.562\n",
      "0.07948122202816195\n",
      "554.7598823056455\n",
      "9.934568366616025\n",
      "-------------------------------\n",
      "Parameter    Value       Stderr\n",
      "jpsi_amp   554.75988     9.93457\n",
      "psip_amp   150.15499     9.98295\n"
     ]
    },
    {
     "name": "stderr",
     "output_type": "stream",
     "text": [
      "/Users/abinashpun/opt/anaconda3/envs/e1039-env/lib/python3.9/site-packages/sklearn/gaussian_process/_gpr.py:610: ConvergenceWarning: lbfgs failed to converge (status=2):\n",
      "ABNORMAL_TERMINATION_IN_LNSRCH.\n",
      "\n",
      "Increase the number of iterations (max_iter) or scale the data as shown in:\n",
      "    https://scikit-learn.org/stable/modules/preprocessing.html\n",
      "  _check_optimize_result(\"lbfgs\", opt_res)\n",
      "No artists with labels found to put in legend.  Note that artists whose label start with an underscore are ignored when legend() is called with no argument.\n",
      "No artists with labels found to put in legend.  Note that artists whose label start with an underscore are ignored when legend() is called with no argument.\n"
     ]
    },
    {
     "name": "stdout",
     "output_type": "stream",
     "text": [
      "kernel :  82.8**2 * RBF(length_scale=1.23)\n",
      "score =  0.7655949576621279\n",
      "Log-likelihood: -114.372\n",
      "0.06492014687032902\n",
      "85.99150616622399\n",
      "4.6910912609661\n",
      "-------------------------------\n",
      "Parameter    Value       Stderr\n",
      "jpsi_amp    85.99151     4.69109\n",
      "psip_amp    40.92175     5.16275\n"
     ]
    },
    {
     "name": "stderr",
     "output_type": "stream",
     "text": [
      "No artists with labels found to put in legend.  Note that artists whose label start with an underscore are ignored when legend() is called with no argument.\n",
      "No artists with labels found to put in legend.  Note that artists whose label start with an underscore are ignored when legend() is called with no argument.\n"
     ]
    },
    {
     "name": "stdout",
     "output_type": "stream",
     "text": [
      "kernel :  18.5**2 * RBF(length_scale=1.12)\n",
      "score =  0.7231985260187331\n",
      "Log-likelihood: -86.409\n",
      "3.502272120694635\n",
      "-0.00034497587489511477\n",
      "0.015413272549481355\n",
      "-------------------------------\n",
      "Parameter    Value       Stderr\n",
      "jpsi_amp    -0.00034     0.01541\n",
      "psip_amp     0.00161     0.07173\n"
     ]
    },
    {
     "name": "stderr",
     "output_type": "stream",
     "text": [
      "/Users/abinashpun/opt/anaconda3/envs/e1039-env/lib/python3.9/site-packages/sklearn/gaussian_process/_gpr.py:610: ConvergenceWarning: lbfgs failed to converge (status=2):\n",
      "ABNORMAL_TERMINATION_IN_LNSRCH.\n",
      "\n",
      "Increase the number of iterations (max_iter) or scale the data as shown in:\n",
      "    https://scikit-learn.org/stable/modules/preprocessing.html\n",
      "  _check_optimize_result(\"lbfgs\", opt_res)\n",
      "No artists with labels found to put in legend.  Note that artists whose label start with an underscore are ignored when legend() is called with no argument.\n",
      "No artists with labels found to put in legend.  Note that artists whose label start with an underscore are ignored when legend() is called with no argument.\n"
     ]
    },
    {
     "name": "stdout",
     "output_type": "stream",
     "text": [
      "kernel :  18.2**2 * RBF(length_scale=0.957)\n",
      "score =  0.5973560519480431\n",
      "Log-likelihood: -72.170\n",
      "7.907417643942642\n",
      "-0.0001867775196853603\n",
      "0.019793856695923283\n",
      "-------------------------------\n",
      "Parameter    Value       Stderr\n",
      "jpsi_amp    -0.00019     0.01979\n",
      "psip_amp     0.00488     0.11161\n"
     ]
    },
    {
     "name": "stderr",
     "output_type": "stream",
     "text": [
      "/Users/abinashpun/opt/anaconda3/envs/e1039-env/lib/python3.9/site-packages/sklearn/gaussian_process/_gpr.py:610: ConvergenceWarning: lbfgs failed to converge (status=2):\n",
      "ABNORMAL_TERMINATION_IN_LNSRCH.\n",
      "\n",
      "Increase the number of iterations (max_iter) or scale the data as shown in:\n",
      "    https://scikit-learn.org/stable/modules/preprocessing.html\n",
      "  _check_optimize_result(\"lbfgs\", opt_res)\n",
      "No artists with labels found to put in legend.  Note that artists whose label start with an underscore are ignored when legend() is called with no argument.\n",
      "No artists with labels found to put in legend.  Note that artists whose label start with an underscore are ignored when legend() is called with no argument.\n"
     ]
    },
    {
     "name": "stdout",
     "output_type": "stream",
     "text": [
      "kernel :  83.6**2 * RBF(length_scale=1.26)\n",
      "score =  0.6531984124633663\n",
      "Log-likelihood: -111.595\n",
      "0.10063501809013013\n",
      "111.69574535449635\n",
      "5.7414647225940705\n",
      "-------------------------------\n",
      "Parameter    Value       Stderr\n",
      "jpsi_amp   111.69575     5.74146\n",
      "psip_amp    60.34755     6.21360\n"
     ]
    },
    {
     "name": "stderr",
     "output_type": "stream",
     "text": [
      "/Users/abinashpun/opt/anaconda3/envs/e1039-env/lib/python3.9/site-packages/sklearn/gaussian_process/_gpr.py:610: ConvergenceWarning: lbfgs failed to converge (status=2):\n",
      "ABNORMAL_TERMINATION_IN_LNSRCH.\n",
      "\n",
      "Increase the number of iterations (max_iter) or scale the data as shown in:\n",
      "    https://scikit-learn.org/stable/modules/preprocessing.html\n",
      "  _check_optimize_result(\"lbfgs\", opt_res)\n",
      "No artists with labels found to put in legend.  Note that artists whose label start with an underscore are ignored when legend() is called with no argument.\n",
      "No artists with labels found to put in legend.  Note that artists whose label start with an underscore are ignored when legend() is called with no argument.\n"
     ]
    },
    {
     "name": "stdout",
     "output_type": "stream",
     "text": [
      "kernel :  202**2 * RBF(length_scale=1.27)\n",
      "score =  0.36688674533728416\n",
      "Log-likelihood: -128.870\n",
      "0.25319335071943\n",
      "655.5062467525247\n",
      "18.219270967423622\n",
      "-------------------------------\n",
      "Parameter    Value       Stderr\n",
      "jpsi_amp   655.50625    18.21927\n",
      "psip_amp   198.07420    18.80496\n"
     ]
    },
    {
     "name": "stderr",
     "output_type": "stream",
     "text": [
      "/Users/abinashpun/opt/anaconda3/envs/e1039-env/lib/python3.9/site-packages/sklearn/gaussian_process/_gpr.py:610: ConvergenceWarning: lbfgs failed to converge (status=2):\n",
      "ABNORMAL_TERMINATION_IN_LNSRCH.\n",
      "\n",
      "Increase the number of iterations (max_iter) or scale the data as shown in:\n",
      "    https://scikit-learn.org/stable/modules/preprocessing.html\n",
      "  _check_optimize_result(\"lbfgs\", opt_res)\n",
      "No artists with labels found to put in legend.  Note that artists whose label start with an underscore are ignored when legend() is called with no argument.\n",
      "No artists with labels found to put in legend.  Note that artists whose label start with an underscore are ignored when legend() is called with no argument.\n"
     ]
    },
    {
     "name": "stdout",
     "output_type": "stream",
     "text": [
      "kernel :  304**2 * RBF(length_scale=1.16)\n",
      "score =  0.2777309891317953\n",
      "Log-likelihood: -141.992\n",
      "0.4625666251990382\n",
      "1649.7991896218298\n",
      "37.934676903991246\n",
      "-------------------------------\n",
      "Parameter    Value       Stderr\n",
      "jpsi_amp  1649.79919    37.93468\n",
      "psip_amp   335.46885    34.21433\n"
     ]
    },
    {
     "name": "stderr",
     "output_type": "stream",
     "text": [
      "/Users/abinashpun/opt/anaconda3/envs/e1039-env/lib/python3.9/site-packages/sklearn/gaussian_process/_gpr.py:610: ConvergenceWarning: lbfgs failed to converge (status=2):\n",
      "ABNORMAL_TERMINATION_IN_LNSRCH.\n",
      "\n",
      "Increase the number of iterations (max_iter) or scale the data as shown in:\n",
      "    https://scikit-learn.org/stable/modules/preprocessing.html\n",
      "  _check_optimize_result(\"lbfgs\", opt_res)\n",
      "No artists with labels found to put in legend.  Note that artists whose label start with an underscore are ignored when legend() is called with no argument.\n",
      "No artists with labels found to put in legend.  Note that artists whose label start with an underscore are ignored when legend() is called with no argument.\n"
     ]
    },
    {
     "name": "stdout",
     "output_type": "stream",
     "text": [
      "kernel :  357**2 * RBF(length_scale=1.2)\n",
      "score =  0.26020420632096086\n",
      "Log-likelihood: -140.742\n",
      "0.36780143553952804\n",
      "2121.673293752161\n",
      "36.77963877602845\n",
      "-------------------------------\n",
      "Parameter    Value       Stderr\n",
      "jpsi_amp  2121.67329    36.77964\n",
      "psip_amp   363.78669    32.81209\n"
     ]
    },
    {
     "name": "stderr",
     "output_type": "stream",
     "text": [
      "/Users/abinashpun/opt/anaconda3/envs/e1039-env/lib/python3.9/site-packages/sklearn/gaussian_process/_gpr.py:610: ConvergenceWarning: lbfgs failed to converge (status=2):\n",
      "ABNORMAL_TERMINATION_IN_LNSRCH.\n",
      "\n",
      "Increase the number of iterations (max_iter) or scale the data as shown in:\n",
      "    https://scikit-learn.org/stable/modules/preprocessing.html\n",
      "  _check_optimize_result(\"lbfgs\", opt_res)\n",
      "No artists with labels found to put in legend.  Note that artists whose label start with an underscore are ignored when legend() is called with no argument.\n",
      "No artists with labels found to put in legend.  Note that artists whose label start with an underscore are ignored when legend() is called with no argument.\n"
     ]
    },
    {
     "name": "stdout",
     "output_type": "stream",
     "text": [
      "kernel :  277**2 * RBF(length_scale=1.26)\n",
      "score =  0.28583912863085614\n",
      "Log-likelihood: -141.303\n",
      "0.2760635758560203\n",
      "1386.3413424532089\n",
      "25.255434625522263\n",
      "-------------------------------\n",
      "Parameter    Value       Stderr\n",
      "jpsi_amp  1386.34134    25.25543\n",
      "psip_amp   270.32364    24.18813\n"
     ]
    },
    {
     "name": "stderr",
     "output_type": "stream",
     "text": [
      "/Users/abinashpun/opt/anaconda3/envs/e1039-env/lib/python3.9/site-packages/sklearn/gaussian_process/_gpr.py:610: ConvergenceWarning: lbfgs failed to converge (status=2):\n",
      "ABNORMAL_TERMINATION_IN_LNSRCH.\n",
      "\n",
      "Increase the number of iterations (max_iter) or scale the data as shown in:\n",
      "    https://scikit-learn.org/stable/modules/preprocessing.html\n",
      "  _check_optimize_result(\"lbfgs\", opt_res)\n",
      "No artists with labels found to put in legend.  Note that artists whose label start with an underscore are ignored when legend() is called with no argument.\n",
      "No artists with labels found to put in legend.  Note that artists whose label start with an underscore are ignored when legend() is called with no argument.\n"
     ]
    },
    {
     "name": "stdout",
     "output_type": "stream",
     "text": [
      "kernel :  145**2 * RBF(length_scale=1.39)\n",
      "score =  0.4957432422001631\n",
      "Log-likelihood: -132.868\n",
      "0.23940717584055554\n",
      "365.78778676700176\n",
      "14.58768314389678\n",
      "-------------------------------\n",
      "Parameter    Value       Stderr\n",
      "jpsi_amp   365.78779    14.58768\n",
      "psip_amp    84.01666    14.71940\n"
     ]
    },
    {
     "name": "stderr",
     "output_type": "stream",
     "text": [
      "/Users/abinashpun/opt/anaconda3/envs/e1039-env/lib/python3.9/site-packages/sklearn/gaussian_process/_gpr.py:610: ConvergenceWarning: lbfgs failed to converge (status=2):\n",
      "ABNORMAL_TERMINATION_IN_LNSRCH.\n",
      "\n",
      "Increase the number of iterations (max_iter) or scale the data as shown in:\n",
      "    https://scikit-learn.org/stable/modules/preprocessing.html\n",
      "  _check_optimize_result(\"lbfgs\", opt_res)\n",
      "No artists with labels found to put in legend.  Note that artists whose label start with an underscore are ignored when legend() is called with no argument.\n",
      "No artists with labels found to put in legend.  Note that artists whose label start with an underscore are ignored when legend() is called with no argument.\n"
     ]
    },
    {
     "name": "stdout",
     "output_type": "stream",
     "text": [
      "kernel :  44.9**2 * RBF(length_scale=1.43)\n",
      "score =  0.8017801083128708\n",
      "Log-likelihood: -111.786\n",
      "0.7912067934902678\n",
      "18.410724936913525\n",
      "6.203981689305082\n",
      "-------------------------------\n",
      "Parameter    Value       Stderr\n",
      "jpsi_amp    18.41072     6.20398\n",
      "psip_amp   -12.84282     4.32773\n"
     ]
    },
    {
     "name": "stderr",
     "output_type": "stream",
     "text": [
      "/Users/abinashpun/opt/anaconda3/envs/e1039-env/lib/python3.9/site-packages/sklearn/gaussian_process/_gpr.py:610: ConvergenceWarning: lbfgs failed to converge (status=2):\n",
      "ABNORMAL_TERMINATION_IN_LNSRCH.\n",
      "\n",
      "Increase the number of iterations (max_iter) or scale the data as shown in:\n",
      "    https://scikit-learn.org/stable/modules/preprocessing.html\n",
      "  _check_optimize_result(\"lbfgs\", opt_res)\n",
      "/Users/abinashpun/opt/anaconda3/envs/e1039-env/lib/python3.9/site-packages/sklearn/gaussian_process/_gpr.py:428: UserWarning: Predicted variances smaller than 0. Setting those variances to 0.\n",
      "  warnings.warn(\n",
      "No artists with labels found to put in legend.  Note that artists whose label start with an underscore are ignored when legend() is called with no argument.\n",
      "No artists with labels found to put in legend.  Note that artists whose label start with an underscore are ignored when legend() is called with no argument.\n"
     ]
    },
    {
     "name": "stdout",
     "output_type": "stream",
     "text": [
      "kernel :  11.1**2 * RBF(length_scale=1.04)\n",
      "score =  0.764390195563256\n",
      "Log-likelihood: -68.608\n",
      "3.4673285191962324\n",
      "-0.00019983431330378157\n",
      "0.009786787124615084\n",
      "-------------------------------\n",
      "Parameter    Value       Stderr\n",
      "jpsi_amp    -0.00020     0.00979\n",
      "psip_amp     0.00160     0.03574\n"
     ]
    },
    {
     "name": "stderr",
     "output_type": "stream",
     "text": [
      "No artists with labels found to put in legend.  Note that artists whose label start with an underscore are ignored when legend() is called with no argument.\n",
      "No artists with labels found to put in legend.  Note that artists whose label start with an underscore are ignored when legend() is called with no argument.\n"
     ]
    },
    {
     "name": "stdout",
     "output_type": "stream",
     "text": [
      "kernel :  56**2 * RBF(length_scale=1.22)\n",
      "score =  0.741363113738227\n",
      "Log-likelihood: -111.376\n",
      "1.1936766567126769\n",
      "-4.892951562103841\n",
      "2.875086306742872\n",
      "-------------------------------\n",
      "Parameter    Value       Stderr\n",
      "jpsi_amp    -4.89295     2.87509\n",
      "psip_amp    22.81861    13.40816\n"
     ]
    },
    {
     "name": "stderr",
     "output_type": "stream",
     "text": [
      "/Users/abinashpun/opt/anaconda3/envs/e1039-env/lib/python3.9/site-packages/sklearn/gaussian_process/_gpr.py:610: ConvergenceWarning: lbfgs failed to converge (status=2):\n",
      "ABNORMAL_TERMINATION_IN_LNSRCH.\n",
      "\n",
      "Increase the number of iterations (max_iter) or scale the data as shown in:\n",
      "    https://scikit-learn.org/stable/modules/preprocessing.html\n",
      "  _check_optimize_result(\"lbfgs\", opt_res)\n",
      "No artists with labels found to put in legend.  Note that artists whose label start with an underscore are ignored when legend() is called with no argument.\n",
      "No artists with labels found to put in legend.  Note that artists whose label start with an underscore are ignored when legend() is called with no argument.\n"
     ]
    },
    {
     "name": "stdout",
     "output_type": "stream",
     "text": [
      "kernel :  149**2 * RBF(length_scale=1.27)\n",
      "score =  0.5225297383556908\n",
      "Log-likelihood: -127.379\n",
      "0.24721161696411936\n",
      "300.8944410828899\n",
      "13.111994610909088\n",
      "-------------------------------\n",
      "Parameter    Value       Stderr\n",
      "jpsi_amp   300.89444    13.11199\n",
      "psip_amp   120.81453    14.31975\n"
     ]
    },
    {
     "name": "stderr",
     "output_type": "stream",
     "text": [
      "/Users/abinashpun/opt/anaconda3/envs/e1039-env/lib/python3.9/site-packages/sklearn/gaussian_process/_gpr.py:610: ConvergenceWarning: lbfgs failed to converge (status=2):\n",
      "ABNORMAL_TERMINATION_IN_LNSRCH.\n",
      "\n",
      "Increase the number of iterations (max_iter) or scale the data as shown in:\n",
      "    https://scikit-learn.org/stable/modules/preprocessing.html\n",
      "  _check_optimize_result(\"lbfgs\", opt_res)\n",
      "No artists with labels found to put in legend.  Note that artists whose label start with an underscore are ignored when legend() is called with no argument.\n",
      "No artists with labels found to put in legend.  Note that artists whose label start with an underscore are ignored when legend() is called with no argument.\n"
     ]
    },
    {
     "name": "stdout",
     "output_type": "stream",
     "text": [
      "kernel :  273**2 * RBF(length_scale=1.17)\n",
      "score =  0.3833197587778445\n",
      "Log-likelihood: -133.224\n",
      "0.38989045240306036\n",
      "965.5730331340214\n",
      "26.378371079926428\n",
      "-------------------------------\n",
      "Parameter    Value       Stderr\n",
      "jpsi_amp   965.57303    26.37837\n",
      "psip_amp   252.93179    25.36294\n"
     ]
    },
    {
     "name": "stderr",
     "output_type": "stream",
     "text": [
      "/Users/abinashpun/opt/anaconda3/envs/e1039-env/lib/python3.9/site-packages/sklearn/gaussian_process/_gpr.py:610: ConvergenceWarning: lbfgs failed to converge (status=2):\n",
      "ABNORMAL_TERMINATION_IN_LNSRCH.\n",
      "\n",
      "Increase the number of iterations (max_iter) or scale the data as shown in:\n",
      "    https://scikit-learn.org/stable/modules/preprocessing.html\n",
      "  _check_optimize_result(\"lbfgs\", opt_res)\n",
      "No artists with labels found to put in legend.  Note that artists whose label start with an underscore are ignored when legend() is called with no argument.\n",
      "No artists with labels found to put in legend.  Note that artists whose label start with an underscore are ignored when legend() is called with no argument.\n"
     ]
    },
    {
     "name": "stdout",
     "output_type": "stream",
     "text": [
      "kernel :  376**2 * RBF(length_scale=1.2)\n",
      "score =  0.32351623808241126\n",
      "Log-likelihood: -139.023\n",
      "0.31344059565102217\n",
      "1713.008711039503\n",
      "31.56008323869759\n",
      "-------------------------------\n",
      "Parameter    Value       Stderr\n",
      "jpsi_amp  1713.00871    31.56008\n",
      "psip_amp   331.27314    28.35539\n"
     ]
    },
    {
     "name": "stderr",
     "output_type": "stream",
     "text": [
      "/Users/abinashpun/opt/anaconda3/envs/e1039-env/lib/python3.9/site-packages/sklearn/gaussian_process/_gpr.py:610: ConvergenceWarning: lbfgs failed to converge (status=2):\n",
      "ABNORMAL_TERMINATION_IN_LNSRCH.\n",
      "\n",
      "Increase the number of iterations (max_iter) or scale the data as shown in:\n",
      "    https://scikit-learn.org/stable/modules/preprocessing.html\n",
      "  _check_optimize_result(\"lbfgs\", opt_res)\n",
      "No artists with labels found to put in legend.  Note that artists whose label start with an underscore are ignored when legend() is called with no argument.\n",
      "No artists with labels found to put in legend.  Note that artists whose label start with an underscore are ignored when legend() is called with no argument.\n"
     ]
    },
    {
     "name": "stdout",
     "output_type": "stream",
     "text": [
      "kernel :  415**2 * RBF(length_scale=1.16)\n",
      "score =  0.3712253599407016\n",
      "Log-likelihood: -141.906\n",
      "0.21761369178082127\n",
      "1644.424827047504\n",
      "29.588081441549864\n",
      "-------------------------------\n",
      "Parameter    Value       Stderr\n",
      "jpsi_amp  1644.42483    29.58808\n",
      "psip_amp   214.22840    25.45767\n"
     ]
    },
    {
     "name": "stderr",
     "output_type": "stream",
     "text": [
      "/Users/abinashpun/opt/anaconda3/envs/e1039-env/lib/python3.9/site-packages/sklearn/gaussian_process/_gpr.py:610: ConvergenceWarning: lbfgs failed to converge (status=2):\n",
      "ABNORMAL_TERMINATION_IN_LNSRCH.\n",
      "\n",
      "Increase the number of iterations (max_iter) or scale the data as shown in:\n",
      "    https://scikit-learn.org/stable/modules/preprocessing.html\n",
      "  _check_optimize_result(\"lbfgs\", opt_res)\n",
      "No artists with labels found to put in legend.  Note that artists whose label start with an underscore are ignored when legend() is called with no argument.\n",
      "No artists with labels found to put in legend.  Note that artists whose label start with an underscore are ignored when legend() is called with no argument.\n"
     ]
    },
    {
     "name": "stdout",
     "output_type": "stream",
     "text": [
      "kernel :  227**2 * RBF(length_scale=1.38)\n",
      "score =  0.37580283531417613\n",
      "Log-likelihood: -130.136\n",
      "0.21367221648184614\n",
      "838.3189295723151\n",
      "18.997875738979985\n",
      "-------------------------------\n",
      "Parameter    Value       Stderr\n",
      "jpsi_amp   838.31893    18.99788\n",
      "psip_amp   125.49489    18.95029\n"
     ]
    },
    {
     "name": "stderr",
     "output_type": "stream",
     "text": [
      "/Users/abinashpun/opt/anaconda3/envs/e1039-env/lib/python3.9/site-packages/sklearn/gaussian_process/_gpr.py:610: ConvergenceWarning: lbfgs failed to converge (status=2):\n",
      "ABNORMAL_TERMINATION_IN_LNSRCH.\n",
      "\n",
      "Increase the number of iterations (max_iter) or scale the data as shown in:\n",
      "    https://scikit-learn.org/stable/modules/preprocessing.html\n",
      "  _check_optimize_result(\"lbfgs\", opt_res)\n",
      "No artists with labels found to put in legend.  Note that artists whose label start with an underscore are ignored when legend() is called with no argument.\n",
      "No artists with labels found to put in legend.  Note that artists whose label start with an underscore are ignored when legend() is called with no argument.\n"
     ]
    },
    {
     "name": "stdout",
     "output_type": "stream",
     "text": [
      "kernel :  83.6**2 * RBF(length_scale=1.45)\n",
      "score =  0.6865791773675993\n",
      "Log-likelihood: -128.291\n",
      "0.21758466129020532\n",
      "119.65358537937482\n",
      "8.105506498202919\n",
      "-------------------------------\n",
      "Parameter    Value       Stderr\n",
      "jpsi_amp   119.65359     8.10551\n",
      "psip_amp    -4.56967     8.02322\n"
     ]
    }
   ],
   "source": [
    "# Turn interactive plotting off\n",
    "plt.ioff()\n",
    "\n",
    "# fig_gpr, axis_gpr = plt.subplots(nPhiBins, nCosthBins,figsize=(12, 12))\n",
    "# fig_peak, axis_peak = plt.subplots(nPhiBins, nCosthBins, figsize=(12,12))\n",
    "real_pt_mask = (df_real['pT']>0.) & (df_real['pT']<=0.5)\n",
    "mix_pt_mask = (df_real['pT']>0.) & (df_real['pT']<=0.5)\n",
    "\n",
    "\n",
    "\n",
    "phi_costh_hist = TH2D(\"phi_costh\",\"phi vs costh;phi;costh\",nPhiBins,phi_min,phi_max,nCosthBins,costh_min,costh_max)\n",
    "phi_costh_hist.SetDirectory(0)\n",
    "\n",
    "for pT_index, elem_pT in enumerate(pT_bins):\n",
    "    if pT_index >= len(pT_bins)-1:\n",
    "        continue\n",
    "    low_pT=f'{pT_bins[pT_index]:1.2f}'\n",
    "    high_pT=f'{pT_bins[pT_index+1]:1.2f}'\n",
    "            \n",
    "    for phi_index, elem_phi in enumerate(phi_bins):\n",
    "        if phi_index >= len(phi_bins)-1:\n",
    "            continue\n",
    "        #print(phi_index)\n",
    "        #print(phi_bins[phi_index], phi_bins[phi_index+1])\n",
    "        real_phi_mask = (df_real['phi']>=phi_bins[phi_index]) & (df_real['phi']<phi_bins[phi_index+1])\n",
    "        mix_phi_mask = (df_mix['phi']>=phi_bins[phi_index]) & (df_mix['phi']<phi_bins[phi_index+1])\n",
    "\n",
    "\n",
    "        jpsi_phi_mask = (df_jpsi['phi']>=phi_bins[phi_index]) & (df_jpsi['phi']<phi_bins[phi_index+1])\n",
    "        psip_phi_mask = (df_psip['phi']>=phi_bins[phi_index]) & (df_psip['phi']<phi_bins[phi_index+1])\n",
    "\n",
    "\n",
    "        for costh_index, elem_costh in enumerate(costh_bins):\n",
    "            if costh_index >= len(costh_bins)-1:\n",
    "                continue\n",
    "            #print(costh_bins[costh_index], costh_bins[costh_index+1])\n",
    "            #print(costh_index)\n",
    "            real_costh_mask = (df_real['costh']>=costh_bins[costh_index]) & (df_real['costh']<costh_bins[costh_index+1])\n",
    "            mix_costh_mask = (df_mix['costh']>=costh_bins[costh_index]) & (df_mix['costh']<costh_bins[costh_index+1])\n",
    "\n",
    "\n",
    "            total_real_cut = (Dump_real_data_cut) & (real_phi_mask) & (real_costh_mask) & (real_pt_mask)\n",
    "            total_mix_cut = (Dump_mix_data_cut) & (mix_phi_mask) & (mix_costh_mask) & (mix_pt_mask)\n",
    "\n",
    "            real_mass=df_real['mass'][total_real_cut]\n",
    "            mix_mass=df_mix['mass'][total_mix_cut]\n",
    "\n",
    "\n",
    "            real_m, real_m_err = fill_hist(real_mass)\n",
    "            mix_m, mix_m_err = fill_hist(mix_mass)\n",
    "\n",
    "            #GPR method\n",
    "            real_data_model = gpr_model()\n",
    "            stacked_real_m=np.column_stack((np.array(bin_centres),np.array(real_m), np.array(real_m_err)))\n",
    "            real_data_model.set_sideband(sideband,stacked_real_m)\n",
    "            real_data_model.set_kernel(5000.0, (1e-10, 1e25),5,(1e-4, 1e15))\n",
    "            gpr_pred, gpr_sigma, gpr_err = real_data_model.predict(500)\n",
    "\n",
    "            fig_gpr = plt.figure(figsize=(10,6))\n",
    "            plt.errorbar(x=bin_centres, y = real_m, yerr=real_m_err, fmt='o', color=\"blue\")\n",
    "            plt.plot(bin_centres,gpr_pred,color='orange',linestyle='--',linewidth=2)\n",
    "\n",
    "            plt.fill_between(\n",
    "                bin_centres.ravel(),\n",
    "                gpr_pred - 1.96 * gpr_sigma,\n",
    "                gpr_pred + 1.96 * gpr_sigma,\n",
    "                alpha=0.5,\n",
    "                #label=r\"95% confidence interval\",\n",
    "                color='orange'\n",
    "            )\n",
    "            plt.axvspan(sideband[0], sideband[1], alpha=0.2, color='red')\n",
    "            plt.axvspan(sideband[2], sideband[3], alpha=0.2, color='red')\n",
    "            plt.ylim(bottom=-100.0)\n",
    "            plt.grid(True)\n",
    "            low_phi=f'{phi_bins[phi_index]:1.2f}'\n",
    "            high_phi=f'{phi_bins[phi_index+1]:1.2f}'\n",
    "            low_costh=f'{costh_bins[costh_index]:1.2f}'\n",
    "            high_costh=f'{costh_bins[costh_index+1]:1.2f}'\n",
    "            #axis_gpr[phi_index, costh_index].legend([extra],(\"{} < \\phi < {}\".format(low_phi, high_phi)))\n",
    "            plt.legend(title=\"{} < pT< {} \\n{} <$\\phi$<{} \\n{}<$cos\\\\theta$<{}\".format(low_pT, high_pT,low_phi, high_phi,low_costh, high_costh))\n",
    "            #axis_gpr[phi_index, costh_index].legend(prop={'size':5.})\n",
    "            plt.savefig('/Users/abinashpun/E906_projects/seaquest-projects/jpsi_polarization/GPR_project/notebooks/bin_plots/gpr_plot/{}pT_{}phi_{}costh_gpr.png'.format(pT_index, phi_index, costh_index))\n",
    "\n",
    "\n",
    "\n",
    "            #Finding out the J/Psi singal\n",
    "            peaks_signal=real_m-gpr_pred\n",
    "            peaks_signal_error = np.sqrt(np.square(real_m_err)+np.square(gpr_err))\n",
    "            x=bin_centres[10:40]\n",
    "            y=peaks_signal[10:40]\n",
    "            y_err=peaks_signal_error[10:40]\n",
    "\n",
    "\n",
    "            # jpsi_costh_mask = (df_jpsi['Dmcosth']>=costh_bins[costh_index]) & (df_jpsi['Dmcosth']<costh_bins[costh_index+1])\n",
    "            # psip_costh_mask = (df_psip['Dmcosth']>=costh_bins[costh_index]) & (df_psip['Dmcosth']<costh_bins[costh_index+1])\n",
    "            # jpsi_cut = (jpsi_mask) & (jpsi_phi_mask) & (jpsi_costh_mask)\n",
    "            # psip_cut = (psip_mask) & (psip_phi_mask) & (psip_costh_mask)\n",
    "            # jpsi_mass = 0.99*df_jpsi['mass'][jpsi_cut]\n",
    "            # psip_mass =   0.99*df_psip['mass'][psip_cut]\n",
    "            # jpsi_wt = df_jpsi['sigWeight'][jpsi_cut]\n",
    "            # psip_wt = df_psip['sigWeight'][psip_cut]\n",
    "            # jpsi_psiprim_peaks = jpsi_psip_model(jpsi_mass, psip_mass,jpsi_wt,psip_wt)\n",
    "            # jpsi_psiprim_peaks_models = jpsi_psiprim_peaks.get_model_peaks()    \n",
    "            #result_peaks = jpsi_psiprim_peaks_models.fit(y,pars,x=x, weights=(1.0/(y_err)))\n",
    "\n",
    "            result_peaks = model_peaks.fit(y,pars,x=x, weights=(1.0/(y_err)))\n",
    "            comps = result_peaks.eval_components(x=x)\n",
    "\n",
    "\n",
    "            fig_peak = plt.figure(figsize=(10,6))\n",
    "            plt.errorbar(x,y,yerr=y_err,linewidth=2,color=\"blue\",fmt='o')\n",
    "            plt.plot(x, comps['jpsi_'], '--',linewidth=2,color=\"m\")\n",
    "            plt.plot(x, comps['psip_'], '--',linewidth=2, color=\"orange\")\n",
    "            plt.legend(title=\"{} < pT< {} \\n{} <$\\phi$<{} \\n{}<$cos\\\\theta$<{}\".format(low_pT, high_pT, low_phi, high_phi,low_costh, high_costh))\n",
    "            plt.savefig('/Users/abinashpun/E906_projects/seaquest-projects/jpsi_polarization/GPR_project/notebooks/bin_plots/peakfit_plot/{}pT_{}phi_{}costh_peakfit.png'.format(pT_index, phi_index, costh_index))\n",
    "            #axis_peak[phi_index, costh_index].legend(prop={'size':5.})\n",
    "            #axis_peak[phi_index, costh_index].legend()\n",
    "            print(result_peaks.redchi)\n",
    "            print(result_peaks.params['jpsi_amp'].value)\n",
    "            print(result_peaks.params['jpsi_amp'].stderr)\n",
    "            print('-------------------------------')\n",
    "            print('Parameter    Value       Stderr')\n",
    "            for name, param in result_peaks.params.items():\n",
    "                print(f'{name:7s} {param.value:11.5f} {param.stderr:11.5f}')\n",
    "\n",
    "            if (result_peaks.params['jpsi_amp'].value<1):\n",
    "                phi_costh_hist.SetBinContent(phi_index+1,costh_index+1,1.)\n",
    "                phi_costh_hist.SetBinError(phi_index+1,costh_index+1,1.)\n",
    "            else:\n",
    "                phi_costh_hist.SetBinContent(phi_index+1,costh_index+1,result_peaks.params['jpsi_amp'].value/0.1)\n",
    "                phi_costh_hist.SetBinError(phi_index+1,costh_index+1,result_peaks.params['jpsi_amp'].stderr/0.1)\n",
    "\n",
    "        \n",
    "#plt.show()\n"
   ]
  },
  {
   "cell_type": "code",
   "execution_count": 25,
   "id": "c169845f-efcc-4db8-8771-f3be20f138fa",
   "metadata": {},
   "outputs": [],
   "source": [
    "#test_hist = TH1D(\"test2\", \"; mass(GeV/c^{2}); Yield\", 2, 0., 5.)\n",
    "# can = TCanvas(\"c1\", \"\", 500, 500)\n",
    "# test_hist.Draw(\"E1 P0\")\n",
    "# can.Draw()\n",
    "\n"
   ]
  },
  {
   "cell_type": "code",
   "execution_count": 26,
   "id": "4fed4481-1436-4a10-9d25-c41f94b88b8c",
   "metadata": {},
   "outputs": [
    {
     "data": {
      "text/html": [
       "\n",
       "\n",
       "<div id=\"root_plot_1665238361831\"\n",
       "     style=\"width: 696px; height: 472px\">\n",
       "</div>\n",
       "<script>\n",
       "\n",
       "function display_root_plot_1665238361831(Core) {\n",
       "   let obj = Core.parse({\"_typename\":\"TCanvas\",\"fUniqueID\":0,\"fBits\":3342344,\"fLineColor\":1,\"fLineStyle\":1,\"fLineWidth\":1,\"fFillColor\":0,\"fFillStyle\":1001,\"fLeftMargin\":0.1,\"fRightMargin\":0.1,\"fBottomMargin\":0.1,\"fTopMargin\":0.1,\"fXfile\":2,\"fYfile\":2,\"fAfile\":1,\"fXstat\":0.99,\"fYstat\":0.99,\"fAstat\":2,\"fFrameFillColor\":0,\"fFrameLineColor\":1,\"fFrameFillStyle\":1001,\"fFrameLineStyle\":1,\"fFrameLineWidth\":1,\"fFrameBorderSize\":1,\"fFrameBorderMode\":0,\"fX1\":-3.92699080851673,\"fY1\":-0.625000009313226,\"fX2\":3.92699080851673,\"fY2\":0.625000009313226,\"fXtoAbsPixelk\":348.00005,\"fXtoPixelk\":348.00005,\"fXtoPixel\":88.6174725047151,\"fYtoAbsPixelk\":236.00005,\"fYtoPixelk\":236.00005,\"fYtoPixel\":-377.599994373321,\"fUtoAbsPixelk\":5e-5,\"fUtoPixelk\":5e-5,\"fUtoPixel\":696,\"fVtoAbsPixelk\":472.00005,\"fVtoPixelk\":472,\"fVtoPixel\":-472,\"fAbsPixeltoXk\":-3.92699080851673,\"fPixeltoXk\":-3.92699080851673,\"fPixeltoX\":0.0112844563463124,\"fAbsPixeltoYk\":0.625000009313226,\"fPixeltoYk\":-0.625000009313226,\"fPixeltoY\":-0.00264830512420859,\"fXlowNDC\":0,\"fYlowNDC\":0,\"fXUpNDC\":1,\"fYUpNDC\":1,\"fWNDC\":1,\"fHNDC\":1,\"fAbsXlowNDC\":0,\"fAbsYlowNDC\":0,\"fAbsWNDC\":1,\"fAbsHNDC\":1,\"fUxmin\":-3.1415926,\"fUymin\":-0.5,\"fUxmax\":3.1415926,\"fUymax\":0.5,\"fTheta\":30,\"fPhi\":30,\"fAspectRatio\":0,\"fNumber\":0,\"fTickx\":0,\"fTicky\":0,\"fLogx\":0,\"fLogy\":0,\"fLogz\":0,\"fPadPaint\":0,\"fCrosshair\":0,\"fCrosshairPos\":0,\"fBorderSize\":2,\"fBorderMode\":0,\"fModified\":false,\"fGridx\":false,\"fGridy\":false,\"fAbsCoord\":false,\"fEditable\":true,\"fFixedAspectRatio\":false,\"fPrimitives\":{\"_typename\":\"TList\",\"name\":\"TList\",\"arr\":[{\"_typename\":\"TFrame\",\"fUniqueID\":0,\"fBits\":8,\"fLineColor\":1,\"fLineStyle\":1,\"fLineWidth\":1,\"fFillColor\":0,\"fFillStyle\":1001,\"fX1\":-3.1415926,\"fY1\":-0.5,\"fX2\":3.1415926,\"fY2\":0.5,\"fBorderSize\":1,\"fBorderMode\":0},{\"_typename\":\"TH2D\",\"fUniqueID\":0,\"fBits\":8,\"fName\":\"phi_costh\",\"fTitle\":\"phi vs costh\",\"fLineColor\":602,\"fLineStyle\":1,\"fLineWidth\":1,\"fFillColor\":0,\"fFillStyle\":1001,\"fMarkerColor\":1,\"fMarkerStyle\":1,\"fMarkerSize\":1,\"fNcells\":100,\"fXaxis\":{\"_typename\":\"TAxis\",\"fUniqueID\":0,\"fBits\":0,\"fName\":\"xaxis\",\"fTitle\":\"phi\",\"fNdivisions\":510,\"fAxisColor\":1,\"fLabelColor\":1,\"fLabelFont\":42,\"fLabelOffset\":0.005,\"fLabelSize\":0.035,\"fTickLength\":0.03,\"fTitleOffset\":1,\"fTitleSize\":0.035,\"fTitleColor\":1,\"fTitleFont\":42,\"fNbins\":8,\"fXmin\":-3.1415926,\"fXmax\":3.1415926,\"fXbins\":[],\"fFirst\":0,\"fLast\":0,\"fBits2\":0,\"fTimeDisplay\":false,\"fTimeFormat\":\"\",\"fLabels\":null,\"fModLabs\":null},\"fYaxis\":{\"_typename\":\"TAxis\",\"fUniqueID\":0,\"fBits\":0,\"fName\":\"yaxis\",\"fTitle\":\"costh\",\"fNdivisions\":510,\"fAxisColor\":1,\"fLabelColor\":1,\"fLabelFont\":42,\"fLabelOffset\":0.005,\"fLabelSize\":0.035,\"fTickLength\":0.03,\"fTitleOffset\":0,\"fTitleSize\":0.035,\"fTitleColor\":1,\"fTitleFont\":42,\"fNbins\":8,\"fXmin\":-0.5,\"fXmax\":0.5,\"fXbins\":[],\"fFirst\":0,\"fLast\":0,\"fBits2\":0,\"fTimeDisplay\":false,\"fTimeFormat\":\"\",\"fLabels\":null,\"fModLabs\":null},\"fZaxis\":{\"_typename\":\"TAxis\",\"fUniqueID\":0,\"fBits\":0,\"fName\":\"zaxis\",\"fTitle\":\"\",\"fNdivisions\":510,\"fAxisColor\":1,\"fLabelColor\":1,\"fLabelFont\":42,\"fLabelOffset\":0.005,\"fLabelSize\":0.035,\"fTickLength\":0.03,\"fTitleOffset\":1,\"fTitleSize\":0.035,\"fTitleColor\":1,\"fTitleFont\":42,\"fNbins\":1,\"fXmin\":0,\"fXmax\":1,\"fXbins\":[],\"fFirst\":0,\"fLast\":0,\"fBits2\":0,\"fTimeDisplay\":false,\"fTimeFormat\":\"\",\"fLabels\":null,\"fModLabs\":null},\"fBarOffset\":0,\"fBarWidth\":1000,\"fEntries\":64,\"fTsumw\":0,\"fTsumw2\":0,\"fTsumwx\":0,\"fTsumwx2\":0,\"fMaximum\":-1111,\"fMinimum\":-1111,\"fNormFactor\":0,\"fContour\":[1,1271.70393428446,2542.40786856891,3813.11180285337,5083.81573713783,6354.51967142228,7625.22360570674,8895.9275399912,10166.6314742757,11437.3354085601,12708.0393428446,13978.743277129,15249.4472114135,16520.1511456979,17790.8550799824,19061.5590142668,20332.2629485513,21602.9668828358,22873.6708171202,24144.3747514047],\"fSumw2\":[0,0,0,0,0,0,0,0,0,0,0,1,1,1977.20003866531,9133.3324206489,3938.63380213206,1476.93203575488,1,1,0,0,1602.57118159181,3994.52804312449,14237.4745393073,50476.1711265783,30976.0104407171,8315.13762750617,3296.44171607922,1,0,0,18518.0717012535,35357.940141917,89525.620055315,135203.593002447,115339.094746757,63999.1901997497,33194.1834584405,17192.4402676509,0,0,55640.3344263994,96728.3643279999,151244.565870165,119792.294455105,129220.894732802,174973.267740238,143903.971181021,69581.8460830299,0,0,155109.734834699,154344.850252676,128482.816794165,85404.4896003146,61658.3436891677,112859.17583239,135274.182849514,99603.885403352,0,0,61855.5420442427,74554.6476739622,24669.2979278391,10558.566853214,9027.39030174193,9869.56486309678,63783.6978124029,87545.4563391787,0,0,38342.3848166209,21304.925860241,36375.577449494,980.768285791664,1,2200.63372187125,21280.049950673,36091.9282593724,0,0,15406.2135965877,1519.49072300655,600.319008884206,1,1,1,3848.93888012327,6569.92355924097,0,0,0,0,0,0,0,0,0,0,0],\"fOption\":\"\",\"fFunctions\":{\"_typename\":\"TList\",\"name\":\"TList\",\"arr\":[{\"_typename\":\"TPaletteAxis\",\"fUniqueID\":0,\"fBits\":0,\"fLineColor\":1,\"fLineStyle\":1,\"fLineWidth\":1,\"fFillColor\":1178,\"fFillStyle\":1001,\"fX1\":3.18086250808517,\"fY1\":-0.5,\"fX2\":3.53429168085167,\"fY2\":0.5,\"fX1NDC\":0.904999994039535,\"fY1NDC\":0.100000005960465,\"fX2NDC\":0.949999994039535,\"fY2NDC\":0.899999994039535,\"fBorderSize\":4,\"fInit\":1,\"fShadowColor\":1,\"fCornerRadius\":0,\"fOption\":\"br\",\"fName\":\"TPave\",\"fAxis\":{\"_typename\":\"TGaxis\",\"fUniqueID\":0,\"fBits\":0,\"fLineColor\":1,\"fLineStyle\":1,\"fLineWidth\":1,\"fX1\":0,\"fY1\":0,\"fX2\":0,\"fY2\":0,\"fTextAngle\":0,\"fTextSize\":0.04,\"fTextAlign\":11,\"fTextColor\":1,\"fTextFont\":42,\"fWmin\":0,\"fWmax\":0,\"fGridLength\":0,\"fTickSize\":0.03,\"fLabelOffset\":0.005,\"fLabelSize\":0.035,\"fTitleOffset\":1,\"fTitleSize\":0.035,\"fNdiv\":0,\"fLabelColor\":1,\"fLabelFont\":42,\"fNModLabs\":0,\"fChopt\":\"\",\"fName\":\"\",\"fTitle\":\"\",\"fTimeFormat\":\"\",\"fFunctionName\":\"\",\"fModLabs\":null},\"fName\":\"palette\"},{\"_typename\":\"TPaveStats\",\"fUniqueID\":0,\"fBits\":9,\"fLineColor\":1,\"fLineStyle\":1,\"fLineWidth\":1,\"fFillColor\":0,\"fFillStyle\":1001,\"fX1\":2.19911497916549,\"fY1\":0.243750013317913,\"fX2\":3.76991132597887,\"fY2\":0.543750011082739,\"fX1NDC\":0.780000016093254,\"fY1NDC\":0.695000007748604,\"fX2NDC\":0.980000019073486,\"fY2NDC\":0.935000002384186,\"fBorderSize\":1,\"fInit\":1,\"fShadowColor\":1,\"fCornerRadius\":0,\"fOption\":\"brNDC\",\"fName\":\"stats\",\"fTextAngle\":0,\"fTextSize\":0,\"fTextAlign\":12,\"fTextColor\":1,\"fTextFont\":42,\"fLabel\":\"\",\"fLongest\":18,\"fMargin\":0.05,\"fLines\":{\"_typename\":\"TList\",\"name\":\"TList\",\"arr\":[{\"_typename\":\"TLatex\",\"fUniqueID\":0,\"fBits\":0,\"fName\":\"\",\"fTitle\":\"phi_costh\",\"fTextAngle\":0,\"fTextSize\":0.0368,\"fTextAlign\":0,\"fTextColor\":0,\"fTextFont\":0,\"fX\":0,\"fY\":0,\"fLineColor\":1,\"fLineStyle\":1,\"fLineWidth\":2,\"fLimitFactorSize\":3,\"fOriginSize\":0.0368000008165836},{\"_typename\":\"TLatex\",\"fUniqueID\":0,\"fBits\":0,\"fName\":\"\",\"fTitle\":\"Entries = 64     \",\"fTextAngle\":0,\"fTextSize\":0,\"fTextAlign\":0,\"fTextColor\":0,\"fTextFont\":0,\"fX\":0,\"fY\":0,\"fLineColor\":1,\"fLineStyle\":1,\"fLineWidth\":2,\"fLimitFactorSize\":3,\"fOriginSize\":0.04},{\"_typename\":\"TLatex\",\"fUniqueID\":0,\"fBits\":0,\"fName\":\"\",\"fTitle\":\"Mean x = -0.1002\",\"fTextAngle\":0,\"fTextSize\":0,\"fTextAlign\":0,\"fTextColor\":0,\"fTextFont\":0,\"fX\":0,\"fY\":0,\"fLineColor\":1,\"fLineStyle\":1,\"fLineWidth\":2,\"fLimitFactorSize\":3,\"fOriginSize\":0.04},{\"_typename\":\"TLatex\",\"fUniqueID\":0,\"fBits\":0,\"fName\":\"\",\"fTitle\":\"Mean y = -0.002728\",\"fTextAngle\":0,\"fTextSize\":0,\"fTextAlign\":0,\"fTextColor\":0,\"fTextFont\":0,\"fX\":0,\"fY\":0,\"fLineColor\":1,\"fLineStyle\":1,\"fLineWidth\":2,\"fLimitFactorSize\":3,\"fOriginSize\":0.04},{\"_typename\":\"TLatex\",\"fUniqueID\":0,\"fBits\":0,\"fName\":\"\",\"fTitle\":\"Std Dev x =  1.761\",\"fTextAngle\":0,\"fTextSize\":0,\"fTextAlign\":0,\"fTextColor\":0,\"fTextFont\":0,\"fX\":0,\"fY\":0,\"fLineColor\":1,\"fLineStyle\":1,\"fLineWidth\":2,\"fLimitFactorSize\":3,\"fOriginSize\":0.04},{\"_typename\":\"TLatex\",\"fUniqueID\":0,\"fBits\":0,\"fName\":\"\",\"fTitle\":\"Std Dev y = 0.1651\",\"fTextAngle\":0,\"fTextSize\":0,\"fTextAlign\":0,\"fTextColor\":0,\"fTextFont\":0,\"fX\":0,\"fY\":0,\"fLineColor\":1,\"fLineStyle\":1,\"fLineWidth\":2,\"fLimitFactorSize\":3,\"fOriginSize\":0.04}],\"opt\":[\"\",\"\",\"\",\"\",\"\",\"\"]},\"fOptFit\":0,\"fOptStat\":1111,\"fFitFormat\":\"5.4g\",\"fStatFormat\":\"6.4g\",\"fParent\":{\"$ref\":3}}],\"opt\":[\"br\",\"brNDC\"]},\"fBufferSize\":0,\"fBuffer\":[],\"fBinStatErrOpt\":0,\"fStatOverflows\":2,\"fScalefactor\":1,\"fTsumwy\":0,\"fTsumwy2\":0,\"fTsumwxy\":0,\"fArray\":[0,0,0,0,0,0,0,0,0,0,0,1,1,591.340001464933,1636.743173553,1604.6984848768,538.844400246533,1,1,0,0,472.016652862077,1507.37603343577,5287.55302039152,9026.21121271801,8351.04722234264,4490.75821116372,1116.95745354496,1,0,0,3432.0583715866,7441.57248944203,15307.713843178,18393.8906334913,17234.4458251518,13765.2892383816,6555.06246752525,3008.9444108289,0,0,11122.1492928745,19208.1320158973,25415.0786856891,20915.55837931,20287.5825908247,21781.0627094378,16497.9918962183,9655.73033134021,0,0,18349.4377932075,24387.6206430472,20769.0732324948,12045.4455286626,11026.1224844484,17174.9649695821,21216.7329375216,17130.087110395,0,0,17153.4438197033,16860.4242461732,8109.17256121606,3549.86441553855,3353.42314103586,5547.59882305646,13863.4134245321,16444.248270475,0,0,8594.67587483701,5177.7570242074,669.509119461127,512.41906039107,1,859.91506166224,3657.87786767002,8383.18929572315,0,0,1497.24006624202,359.550812816595,95.0697248804761,1,1,1,184.107249369135,1196.53585379375,0,0,0,0,0,0,0,0,0,0,0]},{\"_typename\":\"TPaveText\",\"fUniqueID\":0,\"fBits\":9,\"fLineColor\":1,\"fLineStyle\":1,\"fLineWidth\":1,\"fFillColor\":0,\"fFillStyle\":0,\"fX1\":-0.862809532239048,\"fY1\":0.542478827603351,\"fX2\":0.862809532239048,\"fY2\":0.618750015180559,\"fX1NDC\":0.39014367816092,\"fY1NDC\":0.933983055615829,\"fX2NDC\":0.60985632183908,\"fY2NDC\":0.995000004768372,\"fBorderSize\":0,\"fInit\":1,\"fShadowColor\":1,\"fCornerRadius\":0,\"fOption\":\"blNDC\",\"fName\":\"title\",\"fTextAngle\":0,\"fTextSize\":0,\"fTextAlign\":22,\"fTextColor\":1,\"fTextFont\":42,\"fLabel\":\"\",\"fLongest\":12,\"fMargin\":0.05,\"fLines\":{\"_typename\":\"TList\",\"name\":\"TList\",\"arr\":[{\"_typename\":\"TLatex\",\"fUniqueID\":0,\"fBits\":0,\"fName\":\"\",\"fTitle\":\"phi vs costh\",\"fTextAngle\":0,\"fTextSize\":0,\"fTextAlign\":0,\"fTextColor\":0,\"fTextFont\":0,\"fX\":0,\"fY\":0,\"fLineColor\":1,\"fLineStyle\":1,\"fLineWidth\":2,\"fLimitFactorSize\":3,\"fOriginSize\":0.0518644079566002}],\"opt\":[\"\"]}},{\"_typename\":\"TStyle\",\"fUniqueID\":0,\"fBits\":0,\"fName\":\"Modern\",\"fTitle\":\"Modern Style\",\"fLineColor\":1,\"fLineStyle\":1,\"fLineWidth\":1,\"fFillColor\":19,\"fFillStyle\":1001,\"fMarkerColor\":1,\"fMarkerStyle\":1,\"fMarkerSize\":1,\"fTextAngle\":0,\"fTextSize\":0.05,\"fTextAlign\":11,\"fTextColor\":1,\"fTextFont\":62,\"fXaxis\":{\"_typename\":\"TAttAxis\",\"fNdivisions\":510,\"fAxisColor\":1,\"fLabelColor\":1,\"fLabelFont\":42,\"fLabelOffset\":0.005,\"fLabelSize\":0.035,\"fTickLength\":0.03,\"fTitleOffset\":1,\"fTitleSize\":0.035,\"fTitleColor\":1,\"fTitleFont\":42},\"fYaxis\":{\"_typename\":\"TAttAxis\",\"fNdivisions\":510,\"fAxisColor\":1,\"fLabelColor\":1,\"fLabelFont\":42,\"fLabelOffset\":0.005,\"fLabelSize\":0.035,\"fTickLength\":0.03,\"fTitleOffset\":0,\"fTitleSize\":0.035,\"fTitleColor\":1,\"fTitleFont\":42},\"fZaxis\":{\"_typename\":\"TAttAxis\",\"fNdivisions\":510,\"fAxisColor\":1,\"fLabelColor\":1,\"fLabelFont\":42,\"fLabelOffset\":0.005,\"fLabelSize\":0.035,\"fTickLength\":0.03,\"fTitleOffset\":1,\"fTitleSize\":0.035,\"fTitleColor\":1,\"fTitleFont\":42},\"fBarWidth\":1,\"fBarOffset\":0,\"fColorModelPS\":0,\"fDrawBorder\":0,\"fOptLogx\":0,\"fOptLogy\":0,\"fOptLogz\":0,\"fOptDate\":0,\"fOptStat\":1111,\"fOptTitle\":1,\"fOptFile\":0,\"fOptFit\":0,\"fShowEventStatus\":0,\"fShowEditor\":0,\"fShowToolBar\":0,\"fNumberContours\":20,\"fAttDate\":{\"_typename\":\"TAttText\",\"fTextAngle\":0,\"fTextSize\":0.025,\"fTextAlign\":11,\"fTextColor\":1,\"fTextFont\":62},\"fDateX\":0.01,\"fDateY\":0.01,\"fEndErrorSize\":2,\"fErrorX\":0.5,\"fFuncColor\":2,\"fFuncStyle\":1,\"fFuncWidth\":2,\"fGridColor\":0,\"fGridStyle\":3,\"fGridWidth\":1,\"fLegendBorderSize\":1,\"fLegendFillColor\":0,\"fLegendFont\":42,\"fLegendTextSize\":0,\"fHatchesLineWidth\":1,\"fHatchesSpacing\":1,\"fFrameFillColor\":0,\"fFrameLineColor\":1,\"fFrameFillStyle\":1001,\"fFrameLineStyle\":1,\"fFrameLineWidth\":1,\"fFrameBorderSize\":1,\"fFrameBorderMode\":0,\"fHistFillColor\":0,\"fHistLineColor\":602,\"fHistFillStyle\":1001,\"fHistLineStyle\":1,\"fHistLineWidth\":1,\"fHistMinimumZero\":false,\"fHistTopMargin\":0.05,\"fCanvasPreferGL\":false,\"fCanvasColor\":0,\"fCanvasBorderSize\":2,\"fCanvasBorderMode\":0,\"fCanvasDefH\":500,\"fCanvasDefW\":700,\"fCanvasDefX\":10,\"fCanvasDefY\":10,\"fPadColor\":0,\"fPadBorderSize\":2,\"fPadBorderMode\":0,\"fPadBottomMargin\":0.1,\"fPadTopMargin\":0.1,\"fPadLeftMargin\":0.1,\"fPadRightMargin\":0.1,\"fPadGridX\":false,\"fPadGridY\":false,\"fPadTickX\":0,\"fPadTickY\":0,\"fPaperSizeX\":20,\"fPaperSizeY\":26,\"fScreenFactor\":1,\"fStatColor\":0,\"fStatTextColor\":1,\"fStatBorderSize\":1,\"fStatFont\":42,\"fStatFontSize\":0,\"fStatStyle\":1001,\"fStatFormat\":\"6.4g\",\"fStatX\":0.98,\"fStatY\":0.935,\"fStatW\":0.2,\"fStatH\":0.16,\"fStripDecimals\":true,\"fTitleAlign\":23,\"fTitleColor\":0,\"fTitleTextColor\":1,\"fTitleBorderSize\":0,\"fTitleFont\":42,\"fTitleFontSize\":0.05,\"fTitleStyle\":0,\"fTitleX\":0.5,\"fTitleY\":0.995,\"fTitleW\":0,\"fTitleH\":0,\"fLegoInnerR\":0.5,\"fLineStyle\":[\"\",\"  \",\" 12 12\",\" 4 8\",\" 12 16 4 16\",\" 20 12 4 12\",\" 20 12 4 12 4 12 4 12\",\" 20 20\",\" 20 12 4 12 4 12\",\" 80 20\",\" 80 40 4 40\",\"  \",\"  \",\"  \",\"  \",\"  \",\"  \",\"  \",\"  \",\"  \",\"  \",\"  \",\"  \",\"  \",\"  \",\"  \",\"  \",\"  \",\"  \",\"  \"],\"fHeaderPS\":\"\",\"fTitlePS\":\"\",\"fFitFormat\":\"5.4g\",\"fPaintTextFormat\":\"g\",\"fLineScalePS\":3,\"fJoinLinePS\":0,\"fCapLinePS\":0,\"fTimeOffset\":788918400,\"fImageScaling\":1}],\"opt\":[\"\",\"colz\",\"blNDC\",\"\"]},\"fExecs\":null,\"fName\":\"c1\",\"fTitle\":\"\",\"fNumPaletteColor\":0,\"fNextPaletteColor\":0,\"fDISPLAY\":\"$DISPLAY\",\"fDoubleBuffer\":0,\"fRetained\":true,\"fXsizeUser\":0,\"fYsizeUser\":0,\"fXsizeReal\":20,\"fYsizeReal\":14.28571,\"fWindowTopX\":0,\"fWindowTopY\":0,\"fWindowWidth\":0,\"fWindowHeight\":0,\"fCw\":696,\"fCh\":472,\"fCatt\":{\"_typename\":\"TAttCanvas\",\"fXBetween\":2,\"fYBetween\":2,\"fTitleFromTop\":1.2,\"fXdate\":0.2,\"fYdate\":0.3,\"fAdate\":1},\"kMoveOpaque\":true,\"kResizeOpaque\":true,\"fHighLightColor\":2,\"fBatch\":true,\"kShowEventStatus\":false,\"kAutoExec\":true,\"kMenuBar\":true});\n",
       "   Core.settings.HandleKeys = false;\n",
       "   Core.draw(\"root_plot_1665238361831\", obj, \"\");\n",
       "}\n",
       "\n",
       "function script_load_root_plot_1665238361831(src, on_error) {\n",
       "    let script = document.createElement('script');\n",
       "    script.src = src;\n",
       "    script.onload = function() { display_root_plot_1665238361831(JSROOT); };\n",
       "    script.onerror = function() { script.remove(); on_error(); };\n",
       "    document.head.appendChild(script);\n",
       "}\n",
       "\n",
       "if (typeof requirejs !== 'undefined') {\n",
       "\n",
       "    // We are in jupyter notebooks, use require.js which should be configured already\n",
       "    requirejs.config({\n",
       "       paths: { 'JSRootCore' : [ 'scripts/JSRoot.core', 'https://root.cern/js/6.1.1/scripts/JSRoot.core.min', 'https://jsroot.gsi.de/6.1.1/scripts/JSRoot.core.min' ] }\n",
       "    })(['JSRootCore'],  function(Core) {\n",
       "       display_root_plot_1665238361831(Core);\n",
       "    });\n",
       "\n",
       "} else if (typeof JSROOT !== 'undefined') {\n",
       "\n",
       "   // JSROOT already loaded, just use it\n",
       "   display_root_plot_1665238361831(JSROOT);\n",
       "\n",
       "} else {\n",
       "\n",
       "    // We are in jupyterlab without require.js, directly loading jsroot\n",
       "    // Jupyterlab might be installed in a different base_url so we need to know it.\n",
       "    try {\n",
       "        var base_url = JSON.parse(document.getElementById('jupyter-config-data').innerHTML).baseUrl;\n",
       "    } catch(_) {\n",
       "        var base_url = '/';\n",
       "    }\n",
       "\n",
       "    // Try loading a local version of requirejs and fallback to cdn if not possible.\n",
       "    script_load_root_plot_1665238361831(base_url + 'static/scripts/JSRoot.core.js', function(){\n",
       "        console.error('Fail to load JSROOT locally, please check your jupyter_notebook_config.py file');\n",
       "        script_load_root_plot_1665238361831('https://root.cern/js/6.1.1/scripts/JSRoot.core.min.js', function(){\n",
       "            document.getElementById(\"root_plot_1665238361831\").innerHTML = \"Failed to load JSROOT\";\n",
       "        });\n",
       "    });\n",
       "}\n",
       "\n",
       "</script>\n"
      ],
      "text/plain": [
       "<IPython.core.display.HTML object>"
      ]
     },
     "metadata": {},
     "output_type": "display_data"
    }
   ],
   "source": [
    "%jsroot on\n",
    "phi_costh_hist\n",
    "can = TCanvas(\"c1\", )\n",
    "phi_costh_hist.Draw(\"colz\")\n",
    "can.Draw()"
   ]
  },
  {
   "cell_type": "code",
   "execution_count": 35,
   "id": "cdd96a3f-740f-4bcc-80d9-cebf7a281d28",
   "metadata": {},
   "outputs": [
    {
     "ename": "OSError",
     "evalue": "Failed to open file /Users/abinashpun/E906_projects/root_files/acc_factor.root",
     "output_type": "error",
     "traceback": [
      "\u001b[0;31m---------------------------------------------------------------------------\u001b[0m",
      "\u001b[0;31mOSError\u001b[0m                                   Traceback (most recent call last)",
      "\u001b[0;32m/var/folders/rr/b2xgxs9n58s08v5c5x_5hzq80000gn/T/ipykernel_11018/371074779.py\u001b[0m in \u001b[0;36m<module>\u001b[0;34m\u001b[0m\n\u001b[1;32m      1\u001b[0m \u001b[0;31m#file = uproot.open(\"/Users/abinashpun/E906_projects/root_files/merged_RS67_3087all_target.root\",object_cache=1000)\u001b[0m\u001b[0;34m\u001b[0m\u001b[0;34m\u001b[0m\u001b[0m\n\u001b[0;32m----> 2\u001b[0;31m \u001b[0macc_file\u001b[0m \u001b[0;34m=\u001b[0m \u001b[0mROOT\u001b[0m\u001b[0;34m.\u001b[0m\u001b[0mTFile\u001b[0m\u001b[0;34m.\u001b[0m\u001b[0mOpen\u001b[0m\u001b[0;34m(\u001b[0m\u001b[0;34m\"/Users/abinashpun/E906_projects/root_files/acc_factor.root\"\u001b[0m\u001b[0;34m)\u001b[0m\u001b[0;34m\u001b[0m\u001b[0;34m\u001b[0m\u001b[0m\n\u001b[0m\u001b[1;32m      3\u001b[0m \u001b[0;31m#acc_hit = acc_file.h2_phi_costh_ipt_1\u001b[0m\u001b[0;34m\u001b[0m\u001b[0;34m\u001b[0m\u001b[0m\n\u001b[1;32m      4\u001b[0m \u001b[0macc_hist\u001b[0m \u001b[0;34m=\u001b[0m \u001b[0macc_file\u001b[0m\u001b[0;34m.\u001b[0m\u001b[0maccepted_hist\u001b[0m\u001b[0;34m\u001b[0m\u001b[0;34m\u001b[0m\u001b[0m\n",
      "\u001b[0;32m~/opt/anaconda3/envs/e1039-env/lib/python3.9/site-packages/ROOT/pythonization/_tfile.py\u001b[0m in \u001b[0;36m_TFileOpen\u001b[0;34m(klass, *args)\u001b[0m\n",
      "\u001b[0;31mOSError\u001b[0m: Failed to open file /Users/abinashpun/E906_projects/root_files/acc_factor.root"
     ]
    }
   ],
   "source": [
    "#file = uproot.open(\"/Users/abinashpun/E906_projects/root_files/merged_RS67_3087all_target.root\",object_cache=1000)\n",
    "acc_file = ROOT.TFile.Open(\"/Users/abinashpun/E906_projects/root_files/acc_factor.root\") \n",
    "#acc_hit = acc_file.h2_phi_costh_ipt_1\n",
    "acc_hist = acc_file.accepted_hist"
   ]
  },
  {
   "cell_type": "code",
   "execution_count": 34,
   "id": "220ae830-a814-4b79-8a65-c328ffc93fb7",
   "metadata": {},
   "outputs": [
    {
     "name": "stdout",
     "output_type": "stream",
     "text": [
      "<Empty FitResult>\n"
     ]
    },
    {
     "data": {
      "text/html": [
       "\n",
       "\n",
       "<div id=\"root_plot_1665238635897\"\n",
       "     style=\"width: 696px; height: 472px\">\n",
       "</div>\n",
       "<script>\n",
       "\n",
       "function display_root_plot_1665238635897(Core) {\n",
       "   let obj = Core.parse({\"_typename\":\"TCanvas\",\"fUniqueID\":0,\"fBits\":3342344,\"fLineColor\":1,\"fLineStyle\":1,\"fLineWidth\":1,\"fFillColor\":0,\"fFillStyle\":1001,\"fLeftMargin\":0.1,\"fRightMargin\":0.1,\"fBottomMargin\":0.1,\"fTopMargin\":0.1,\"fXfile\":2,\"fYfile\":2,\"fAfile\":1,\"fXstat\":0.99,\"fYstat\":0.99,\"fAstat\":2,\"fFrameFillColor\":0,\"fFrameLineColor\":1,\"fFrameFillStyle\":1001,\"fFrameLineStyle\":1,\"fFrameLineWidth\":1,\"fFrameBorderSize\":1,\"fFrameBorderMode\":0,\"fX1\":-3.92699080851673,\"fY1\":-0.625000009313226,\"fX2\":3.92699080851673,\"fY2\":0.625000009313226,\"fXtoAbsPixelk\":348.00005,\"fXtoPixelk\":348.00005,\"fXtoPixel\":88.6174725047151,\"fYtoAbsPixelk\":236.00005,\"fYtoPixelk\":236.00005,\"fYtoPixel\":-377.599994373321,\"fUtoAbsPixelk\":5e-5,\"fUtoPixelk\":5e-5,\"fUtoPixel\":696,\"fVtoAbsPixelk\":472.00005,\"fVtoPixelk\":472,\"fVtoPixel\":-472,\"fAbsPixeltoXk\":-3.92699080851673,\"fPixeltoXk\":-3.92699080851673,\"fPixeltoX\":0.0112844563463124,\"fAbsPixeltoYk\":0.625000009313226,\"fPixeltoYk\":-0.625000009313226,\"fPixeltoY\":-0.00264830512420859,\"fXlowNDC\":0,\"fYlowNDC\":0,\"fXUpNDC\":1,\"fYUpNDC\":1,\"fWNDC\":1,\"fHNDC\":1,\"fAbsXlowNDC\":0,\"fAbsYlowNDC\":0,\"fAbsWNDC\":1,\"fAbsHNDC\":1,\"fUxmin\":-3.1415926,\"fUymin\":-0.5,\"fUxmax\":3.1415926,\"fUymax\":0.5,\"fTheta\":30,\"fPhi\":30,\"fAspectRatio\":0,\"fNumber\":0,\"fTickx\":0,\"fTicky\":0,\"fLogx\":0,\"fLogy\":0,\"fLogz\":0,\"fPadPaint\":0,\"fCrosshair\":0,\"fCrosshairPos\":0,\"fBorderSize\":2,\"fBorderMode\":0,\"fModified\":false,\"fGridx\":false,\"fGridy\":false,\"fAbsCoord\":false,\"fEditable\":true,\"fFixedAspectRatio\":false,\"fPrimitives\":{\"_typename\":\"TList\",\"name\":\"TList\",\"arr\":[{\"_typename\":\"TFrame\",\"fUniqueID\":0,\"fBits\":8,\"fLineColor\":1,\"fLineStyle\":1,\"fLineWidth\":1,\"fFillColor\":0,\"fFillStyle\":1001,\"fX1\":-3.1415926,\"fY1\":-0.5,\"fX2\":3.1415926,\"fY2\":0.5,\"fBorderSize\":1,\"fBorderMode\":0},{\"_typename\":\"TH2D\",\"fUniqueID\":0,\"fBits\":8,\"fName\":\"phi_costh\",\"fTitle\":\"phi vs costh\",\"fLineColor\":602,\"fLineStyle\":1,\"fLineWidth\":1,\"fFillColor\":0,\"fFillStyle\":1001,\"fMarkerColor\":1,\"fMarkerStyle\":1,\"fMarkerSize\":1,\"fNcells\":100,\"fXaxis\":{\"_typename\":\"TAxis\",\"fUniqueID\":0,\"fBits\":0,\"fName\":\"xaxis\",\"fTitle\":\"phi\",\"fNdivisions\":510,\"fAxisColor\":1,\"fLabelColor\":1,\"fLabelFont\":42,\"fLabelOffset\":0.005,\"fLabelSize\":0.035,\"fTickLength\":0.03,\"fTitleOffset\":1,\"fTitleSize\":0.035,\"fTitleColor\":1,\"fTitleFont\":42,\"fNbins\":8,\"fXmin\":-3.1415926,\"fXmax\":3.1415926,\"fXbins\":[],\"fFirst\":0,\"fLast\":0,\"fBits2\":0,\"fTimeDisplay\":false,\"fTimeFormat\":\"\",\"fLabels\":null,\"fModLabs\":null},\"fYaxis\":{\"_typename\":\"TAxis\",\"fUniqueID\":0,\"fBits\":0,\"fName\":\"yaxis\",\"fTitle\":\"costh\",\"fNdivisions\":510,\"fAxisColor\":1,\"fLabelColor\":1,\"fLabelFont\":42,\"fLabelOffset\":0.005,\"fLabelSize\":0.035,\"fTickLength\":0.03,\"fTitleOffset\":0,\"fTitleSize\":0.035,\"fTitleColor\":1,\"fTitleFont\":42,\"fNbins\":8,\"fXmin\":-0.5,\"fXmax\":0.5,\"fXbins\":[],\"fFirst\":0,\"fLast\":0,\"fBits2\":0,\"fTimeDisplay\":false,\"fTimeFormat\":\"\",\"fLabels\":null,\"fModLabs\":null},\"fZaxis\":{\"_typename\":\"TAxis\",\"fUniqueID\":0,\"fBits\":0,\"fName\":\"zaxis\",\"fTitle\":\"\",\"fNdivisions\":510,\"fAxisColor\":1,\"fLabelColor\":1,\"fLabelFont\":42,\"fLabelOffset\":0.005,\"fLabelSize\":0.035,\"fTickLength\":0.03,\"fTitleOffset\":1,\"fTitleSize\":0.035,\"fTitleColor\":1,\"fTitleFont\":42,\"fNbins\":1,\"fXmin\":0,\"fXmax\":1,\"fXbins\":[],\"fFirst\":0,\"fLast\":0,\"fBits2\":0,\"fTimeDisplay\":false,\"fTimeFormat\":\"\",\"fLabels\":null,\"fModLabs\":null},\"fBarOffset\":0,\"fBarWidth\":1000,\"fEntries\":153.76496911273,\"fTsumw\":2352695429.75444,\"fTsumw2\":35997638585218964,\"fTsumwx\":-1099203428.09399,\"fTsumwx2\":9806567558.71836,\"fMaximum\":-1111,\"fMinimum\":-1111,\"fNormFactor\":0,\"fContour\":[127675.150752402,17071668.9842137,34015662.8176749,50959656.6511361,67903650.4845974,84847644.3180586,101791638.15152,118735631.984981,135679625.818442,152623619.651904,169567613.485365,186511607.318826,203455601.152287,220399594.985749,237343588.81921,254287582.652671,271231576.486132,288175570.319594,305119564.153055,322063557.986516],\"fSumw2\":[0,0,0,0,0,0,0,0,0,0,0,77022489597089.1,38599306444.1083,178013062625.102,792201461713.424,1019969583444.42,1192417548732.37,21088721396.4759,43428628008345.5,0,0,31539922158094284,35152301532311.2,951524997157.737,3742053508230.96,7154646634982.57,1736588823648.21,23507775593755.1,47846783190.5093,0,0,902088589574207,18604298175947,3077358613199.62,19003370685695.1,45815796283953.5,4868564898756.55,25595996863850.9,487859933624717,0,0,243521057876226,12350345429321.7,6817112452998.13,40396237976074.6,94429552114994.2,24791153071441.6,27268407927143.5,188260135741416,0,0,140936593038511,9124651354403.46,12559147459580.5,171652770454064,164902091633686,39802194756493.2,17021269796217.6,77146593393490.2,0,0,79678618711952.7,7596761532617.15,35591403559013.7,283056814428595,130108461983845,58941656421330.5,10754745925774.4,72649901156516.3,0,0,21679605406686.5,4486314240658.16,16233363572810.4,574431947858605,21999528735.9529,35726170389169.1,3364365133002.37,28890613034077.5,0,0,4324951571034.62,262326138246.843,95169346379102.6,4220966694975.89,8348725361802.53,158575695029.112,949575295106.423,7189848746521.7,0,0,0,0,0,0,0,0,0,0,0],\"fOption\":\"\",\"fFunctions\":{\"_typename\":\"TList\",\"name\":\"TList\",\"arr\":[{\"_typename\":\"TPaletteAxis\",\"fUniqueID\":0,\"fBits\":0,\"fLineColor\":1,\"fLineStyle\":1,\"fLineWidth\":1,\"fFillColor\":1178,\"fFillStyle\":1001,\"fX1\":3.18086250808517,\"fY1\":-0.5,\"fX2\":3.53429168085167,\"fY2\":0.5,\"fX1NDC\":0.904999994039535,\"fY1NDC\":0.100000005960465,\"fX2NDC\":0.949999994039535,\"fY2NDC\":0.899999994039535,\"fBorderSize\":4,\"fInit\":1,\"fShadowColor\":1,\"fCornerRadius\":0,\"fOption\":\"br\",\"fName\":\"TPave\",\"fAxis\":{\"_typename\":\"TGaxis\",\"fUniqueID\":0,\"fBits\":0,\"fLineColor\":1,\"fLineStyle\":1,\"fLineWidth\":1,\"fX1\":0,\"fY1\":0,\"fX2\":0,\"fY2\":0,\"fTextAngle\":0,\"fTextSize\":0.04,\"fTextAlign\":11,\"fTextColor\":1,\"fTextFont\":42,\"fWmin\":0,\"fWmax\":0,\"fGridLength\":0,\"fTickSize\":0.03,\"fLabelOffset\":0.005,\"fLabelSize\":0.035,\"fTitleOffset\":1,\"fTitleSize\":0.035,\"fNdiv\":0,\"fLabelColor\":1,\"fLabelFont\":42,\"fNModLabs\":0,\"fChopt\":\"\",\"fName\":\"\",\"fTitle\":\"\",\"fTimeFormat\":\"\",\"fFunctionName\":\"\",\"fModLabs\":null},\"fName\":\"palette\"},{\"_typename\":\"TPaveStats\",\"fUniqueID\":0,\"fBits\":131081,\"fLineColor\":1,\"fLineStyle\":1,\"fLineWidth\":1,\"fFillColor\":0,\"fFillStyle\":1001,\"fX1\":2.19911497916549,\"fY1\":0.243750013317913,\"fX2\":3.76991132597887,\"fY2\":0.543750011082739,\"fX1NDC\":0.780000016093254,\"fY1NDC\":0.695000007748604,\"fX2NDC\":0.980000019073486,\"fY2NDC\":0.935000002384186,\"fBorderSize\":1,\"fInit\":1,\"fShadowColor\":1,\"fCornerRadius\":0,\"fOption\":\"brNDC\",\"fName\":\"stats\",\"fTextAngle\":0,\"fTextSize\":0,\"fTextAlign\":12,\"fTextColor\":1,\"fTextFont\":42,\"fLabel\":\"\",\"fLongest\":27,\"fMargin\":0.05,\"fLines\":{\"_typename\":\"TList\",\"name\":\"TList\",\"arr\":[{\"_typename\":\"TLatex\",\"fUniqueID\":0,\"fBits\":0,\"fName\":\"\",\"fTitle\":\"#chi^{2} \\/ ndf =      0 \\/ 0\",\"fTextAngle\":0,\"fTextSize\":0.04416,\"fTextAlign\":0,\"fTextColor\":0,\"fTextFont\":0,\"fX\":0,\"fY\":0,\"fLineColor\":1,\"fLineStyle\":1,\"fLineWidth\":2,\"fLimitFactorSize\":3,\"fOriginSize\":0.0441599972546101},{\"_typename\":\"TLatex\",\"fUniqueID\":0,\"fBits\":0,\"fName\":\"\",\"fTitle\":\"p0       =     0 #pm     0 \",\"fTextAngle\":0,\"fTextSize\":0,\"fTextAlign\":0,\"fTextColor\":0,\"fTextFont\":0,\"fX\":0,\"fY\":0,\"fLineColor\":1,\"fLineStyle\":1,\"fLineWidth\":2,\"fLimitFactorSize\":3,\"fOriginSize\":0.04},{\"_typename\":\"TLatex\",\"fUniqueID\":0,\"fBits\":0,\"fName\":\"\",\"fTitle\":\"p1       =     0 #pm     0 \",\"fTextAngle\":0,\"fTextSize\":0,\"fTextAlign\":0,\"fTextColor\":0,\"fTextFont\":0,\"fX\":0,\"fY\":0,\"fLineColor\":1,\"fLineStyle\":1,\"fLineWidth\":2,\"fLimitFactorSize\":3,\"fOriginSize\":0.04},{\"_typename\":\"TLatex\",\"fUniqueID\":0,\"fBits\":0,\"fName\":\"\",\"fTitle\":\"p2       =     0 #pm     0 \",\"fTextAngle\":0,\"fTextSize\":0,\"fTextAlign\":0,\"fTextColor\":0,\"fTextFont\":0,\"fX\":0,\"fY\":0,\"fLineColor\":1,\"fLineStyle\":1,\"fLineWidth\":2,\"fLimitFactorSize\":3,\"fOriginSize\":0.04},{\"_typename\":\"TLatex\",\"fUniqueID\":0,\"fBits\":0,\"fName\":\"\",\"fTitle\":\"p3       =     0 #pm     0 \",\"fTextAngle\":0,\"fTextSize\":0,\"fTextAlign\":0,\"fTextColor\":0,\"fTextFont\":0,\"fX\":0,\"fY\":0,\"fLineColor\":1,\"fLineStyle\":1,\"fLineWidth\":2,\"fLimitFactorSize\":3,\"fOriginSize\":0.04}],\"opt\":[\"\",\"\",\"\",\"\",\"\"]},\"fOptFit\":0,\"fOptStat\":1111,\"fFitFormat\":\"5.4g\",\"fStatFormat\":\"6.4g\",\"fParent\":null},{\"_typename\":\"TF2\",\"fUniqueID\":0,\"fBits\":1024,\"fName\":\"fit2D\",\"fTitle\":\"[0] * ( 1 + [1]*y*y + 2*[2]*sqrt(1-y*y)*y*cos(x) + [3]*(1-y*y)*cos(2*x)\\/2.) \",\"fLineColor\":2,\"fLineStyle\":1,\"fLineWidth\":2,\"fFillColor\":19,\"fFillStyle\":0,\"fMarkerColor\":1,\"fMarkerStyle\":1,\"fMarkerSize\":1,\"fXmin\":-3.1415926,\"fXmax\":3.1415926,\"fNpar\":4,\"fNdim\":2,\"fNpx\":30,\"fType\":0,\"fNpfits\":0,\"fNDF\":0,\"fChisquare\":0,\"fMinimum\":-1111,\"fMaximum\":-1111,\"fParErrors\":[0,0,0,0],\"fParMin\":[0,0,0,0],\"fParMax\":[0,0,0,0],\"fSave\":[0,0,0,0,0,0,0,0,0,0,0,0,0,0,0,0,0,0,0,0,0,0,0,0,0,0,0,0,0,0,0,0,0,0,0,0,0,0,0,0,0,0,0,0,0,0,0,0,0,0,0,0,0,0,0,0,0,0,0,0,0,0,0,0,0,0,0,0,0,0,0,0,0,0,0,0,0,0,0,0,0,0,0,0,0,0,0,0,0,0,0,0,0,0,0,0,0,0,0,0,0,0,0,0,0,0,0,0,0,0,0,0,0,0,0,0,0,0,0,0,0,0,0,0,0,0,0,0,0,0,0,0,0,0,0,0,0,0,0,0,0,0,0,0,0,0,0,0,0,0,0,0,0,0,0,0,0,0,0,0,0,0,0,0,0,0,0,0,0,0,0,0,0,0,0,0,0,0,0,0,0,0,0,0,0,0,0,0,0,0,0,0,0,0,0,0,0,0,0,0,0,0,0,0,0,0,0,0,0,0,0,0,0,0,0,0,0,0,0,0,0,0,0,0,0,0,0,0,0,0,0,0,0,0,0,0,0,0,0,0,0,0,0,0,0,0,0,0,0,0,0,0,0,0,0,0,0,0,0,0,0,0,0,0,0,0,0,0,0,0,0,0,0,0,0,0,0,0,0,0,0,0,0,0,0,0,0,0,0,0,0,0,0,0,0,0,0,0,0,0,0,0,0,0,0,0,0,0,0,0,0,0,0,0,0,0,0,0,0,0,0,0,0,0,0,0,0,0,0,0,0,0,0,0,0,0,0,0,0,0,0,0,0,0,0,0,0,0,0,0,0,0,0,0,0,0,0,0,0,0,0,0,0,0,0,0,0,0,0,0,0,0,0,0,0,0,0,0,0,0,0,0,0,0,0,0,0,0,0,0,0,0,0,0,0,0,0,0,0,0,0,0,0,0,0,0,0,0,0,0,0,0,0,0,0,0,0,0,0,0,0,0,0,0,0,0,0,0,0,0,0,0,0,0,0,0,0,0,0,0,0,0,0,0,0,0,0,0,0,0,0,0,0,0,0,0,0,0,0,0,0,0,0,0,0,0,0,0,0,0,0,0,0,0,0,0,0,0,0,0,0,0,0,0,0,0,0,0,0,0,0,0,0,0,0,0,0,0,0,0,0,0,0,0,0,0,0,0,0,0,0,0,0,0,0,0,0,0,0,0,0,0,0,0,0,0,0,0,0,0,0,0,0,0,0,0,0,0,0,0,0,0,0,0,0,0,0,0,0,0,0,0,0,0,0,0,0,0,0,0,0,0,0,0,0,0,0,0,0,0,0,0,0,0,0,0,0,0,0,0,0,0,0,0,0,0,0,0,0,0,0,0,0,0,0,0,0,0,0,0,0,0,0,0,0,0,0,0,0,0,0,0,0,0,0,0,0,0,0,0,0,0,0,0,0,0,0,0,0,0,0,0,0,0,0,0,0,0,0,0,0,0,0,0,0,0,0,0,0,0,0,0,0,0,0,0,0,0,0,0,0,0,0,0,0,0,0,0,0,0,0,0,0,0,0,0,0,0,0,0,0,0,0,0,0,0,0,0,0,0,0,0,0,0,0,0,0,0,0,0,0,0,0,0,0,0,0,0,0,0,0,0,0,0,0,0,0,0,0,0,0,0,0,0,0,0,0,0,0,0,0,0,0,0,0,0,0,0,0,0,0,0,0,0,0,0,0,0,0,0,0,0,0,0,0,0,0,0,0,0,0,0,0,0,0,0,0,0,0,0,0,0,0,0,0,0,0,0,0,0,0,0,0,0,0,0,0,0,0,0,0,0,0,0,0,0,0,0,0,0,0,0,0,0,0,0,0,0,0,0,0,0,0,0,0,0,0,0,0,0,0,0,0,0,0,0,0,0,0,0,0,0,0,0,0,0,0,0,0,0,0,0,0,0,0,0,0,0,0,0,0,0,0,0,0,0,0,0,0,0,0,0,0,0,0,0,0,0,0,0,0,0,0,0,0,0,0,0,0,0,0,0,0,0,0,0,0,0,0,0,0,0,0,0,0,0,0,0,0,0,0,0,0,0,0,0,0,0,0,0,0,0,0,0,0,0,0,0,0,0,0,0,0,0,0,0,0,0,0,0,0,0,0,0,0,0,0,0,0,0,0,0,0,0,0,0,0,0,0,0,0,0,0,0,0,0,0,0,0,0,0,-3.1415926,3.1415926,-0.5,0.5,30,30],\"fNormalized\":false,\"fNormIntegral\":0,\"fFormula\":{\"_typename\":\"TFormula\",\"fUniqueID\":0,\"fBits\":1024,\"fName\":\"fit2D\",\"fTitle\":\"[0] * ( 1 + [1]*y*y + 2*[2]*sqrt(1-y*y)*y*cos(x) + [3]*(1-y*y)*cos(2*x)\\/2.) \",\"fClingParameters\":[0,0,0,0],\"fAllParametersSetted\":true,\"fParams\":[{\"$pair\":\"pair<TString,int,TFormulaParamOrder>\",\"first\":\"p0\",\"second\":0},{\"$pair\":\"pair<TString,int,TFormulaParamOrder>\",\"first\":\"p1\",\"second\":1},{\"$pair\":\"pair<TString,int,TFormulaParamOrder>\",\"first\":\"p2\",\"second\":2},{\"$pair\":\"pair<TString,int,TFormulaParamOrder>\",\"first\":\"p3\",\"second\":3}],\"fFormula\":\"[p0]*(1+[p1]*y*y+2*[p2]*sqrt(1-y*y)*y*cos(x)+[p3]*(1-y*y)*cos(2*x)\\/2.)\",\"fNdim\":2,\"fLinearParts\":[],\"fVectorized\":false},\"fParams\":null,\"fComposition\":null,\"fYmin\":-0.5,\"fYmax\":0.5,\"fNpy\":30,\"fContour\":[]}],\"opt\":[\"br\",\"brNDC\",\"\"]},\"fBufferSize\":0,\"fBuffer\":[],\"fBinStatErrOpt\":0,\"fStatOverflows\":2,\"fScalefactor\":1,\"fTsumwy\":-72141531.1455446,\"fTsumwy2\":107613927.550451,\"fTsumwxy\":295374848.008843,\"fArray\":[0,0,0,0,0,0,0,0,0,0,0,7154871.29585397,159671.100726702,2712235.52465304,6673563.7661633,7573480.45134801,6025050.52075061,136608.14673499,5917550.61280081,0,0,339007551.819977,23936398.8330631,9504263.26931061,19280931.5607432,24482270.3019083,11347364.7539117,20862015.8826707,207072.31268753,0,0,102553991.958631,28763948.8644247,19687936.9811269,40368394.5940397,55764297.7729513,20823961.0725797,31853249.6377957,57481791.5666049,0,0,88085539.6942298,32855075.393165,31001264.5482218,53225982.5944565,73090686.9722169,41497231.3656053,42036646.5742095,80615153.5145009,0,0,78155571.1721467,36230568.0849243,33018924.040568,80993855.2837092,82423883.9234959,49753875.2368595,36149954.7144744,57556637.7361566,0,0,68037759.6647528,29059181.838208,42317957.5459425,62308384.7196131,44134442.530094,46355790.2789414,26807286.0328611,65961421.8608183,0,0,33228488.8068673,16519928.9410852,11053357.3837053,43696934.2411439,127675.150752402,21844860.1849978,12608901.0395224,37315230.8313031,0,0,10751076.9438321,2546625.1176507,21268169.1394396,1647610.90628495,2474276.30726988,375870.149407381,2412069.62453093,10872807.0650164,0,0,0,0,0,0,0,0,0,0,0]},{\"_typename\":\"TPaveText\",\"fUniqueID\":0,\"fBits\":9,\"fLineColor\":1,\"fLineStyle\":1,\"fLineWidth\":1,\"fFillColor\":0,\"fFillStyle\":0,\"fX1\":-0.862809532239048,\"fY1\":0.542478827603351,\"fX2\":0.862809532239048,\"fY2\":0.618750015180559,\"fX1NDC\":0.39014367816092,\"fY1NDC\":0.933983055615829,\"fX2NDC\":0.60985632183908,\"fY2NDC\":0.995000004768372,\"fBorderSize\":0,\"fInit\":1,\"fShadowColor\":1,\"fCornerRadius\":0,\"fOption\":\"blNDC\",\"fName\":\"title\",\"fTextAngle\":0,\"fTextSize\":0,\"fTextAlign\":22,\"fTextColor\":1,\"fTextFont\":42,\"fLabel\":\"\",\"fLongest\":12,\"fMargin\":0.05,\"fLines\":{\"_typename\":\"TList\",\"name\":\"TList\",\"arr\":[{\"_typename\":\"TLatex\",\"fUniqueID\":0,\"fBits\":0,\"fName\":\"\",\"fTitle\":\"phi vs costh\",\"fTextAngle\":0,\"fTextSize\":0,\"fTextAlign\":0,\"fTextColor\":0,\"fTextFont\":0,\"fX\":0,\"fY\":0,\"fLineColor\":1,\"fLineStyle\":1,\"fLineWidth\":2,\"fLimitFactorSize\":3,\"fOriginSize\":0.0518644079566002}],\"opt\":[\"\"]}},{\"_typename\":\"TStyle\",\"fUniqueID\":0,\"fBits\":0,\"fName\":\"Modern\",\"fTitle\":\"Modern Style\",\"fLineColor\":1,\"fLineStyle\":1,\"fLineWidth\":1,\"fFillColor\":19,\"fFillStyle\":1001,\"fMarkerColor\":1,\"fMarkerStyle\":1,\"fMarkerSize\":1,\"fTextAngle\":0,\"fTextSize\":0.05,\"fTextAlign\":11,\"fTextColor\":1,\"fTextFont\":62,\"fXaxis\":{\"_typename\":\"TAttAxis\",\"fNdivisions\":510,\"fAxisColor\":1,\"fLabelColor\":1,\"fLabelFont\":42,\"fLabelOffset\":0.005,\"fLabelSize\":0.035,\"fTickLength\":0.03,\"fTitleOffset\":1,\"fTitleSize\":0.035,\"fTitleColor\":1,\"fTitleFont\":42},\"fYaxis\":{\"_typename\":\"TAttAxis\",\"fNdivisions\":510,\"fAxisColor\":1,\"fLabelColor\":1,\"fLabelFont\":42,\"fLabelOffset\":0.005,\"fLabelSize\":0.035,\"fTickLength\":0.03,\"fTitleOffset\":0,\"fTitleSize\":0.035,\"fTitleColor\":1,\"fTitleFont\":42},\"fZaxis\":{\"_typename\":\"TAttAxis\",\"fNdivisions\":510,\"fAxisColor\":1,\"fLabelColor\":1,\"fLabelFont\":42,\"fLabelOffset\":0.005,\"fLabelSize\":0.035,\"fTickLength\":0.03,\"fTitleOffset\":1,\"fTitleSize\":0.035,\"fTitleColor\":1,\"fTitleFont\":42},\"fBarWidth\":1,\"fBarOffset\":0,\"fColorModelPS\":0,\"fDrawBorder\":0,\"fOptLogx\":0,\"fOptLogy\":0,\"fOptLogz\":0,\"fOptDate\":0,\"fOptStat\":0,\"fOptTitle\":1,\"fOptFile\":0,\"fOptFit\":1,\"fShowEventStatus\":0,\"fShowEditor\":0,\"fShowToolBar\":0,\"fNumberContours\":20,\"fAttDate\":{\"_typename\":\"TAttText\",\"fTextAngle\":0,\"fTextSize\":0.025,\"fTextAlign\":11,\"fTextColor\":1,\"fTextFont\":62},\"fDateX\":0.01,\"fDateY\":0.01,\"fEndErrorSize\":2,\"fErrorX\":0.5,\"fFuncColor\":2,\"fFuncStyle\":1,\"fFuncWidth\":2,\"fGridColor\":0,\"fGridStyle\":3,\"fGridWidth\":1,\"fLegendBorderSize\":1,\"fLegendFillColor\":0,\"fLegendFont\":42,\"fLegendTextSize\":0,\"fHatchesLineWidth\":1,\"fHatchesSpacing\":1,\"fFrameFillColor\":0,\"fFrameLineColor\":1,\"fFrameFillStyle\":1001,\"fFrameLineStyle\":1,\"fFrameLineWidth\":1,\"fFrameBorderSize\":1,\"fFrameBorderMode\":0,\"fHistFillColor\":0,\"fHistLineColor\":602,\"fHistFillStyle\":1001,\"fHistLineStyle\":1,\"fHistLineWidth\":1,\"fHistMinimumZero\":false,\"fHistTopMargin\":0.05,\"fCanvasPreferGL\":false,\"fCanvasColor\":0,\"fCanvasBorderSize\":2,\"fCanvasBorderMode\":0,\"fCanvasDefH\":500,\"fCanvasDefW\":700,\"fCanvasDefX\":10,\"fCanvasDefY\":10,\"fPadColor\":0,\"fPadBorderSize\":2,\"fPadBorderMode\":0,\"fPadBottomMargin\":0.1,\"fPadTopMargin\":0.1,\"fPadLeftMargin\":0.1,\"fPadRightMargin\":0.1,\"fPadGridX\":false,\"fPadGridY\":false,\"fPadTickX\":0,\"fPadTickY\":0,\"fPaperSizeX\":20,\"fPaperSizeY\":26,\"fScreenFactor\":1,\"fStatColor\":0,\"fStatTextColor\":1,\"fStatBorderSize\":1,\"fStatFont\":42,\"fStatFontSize\":0,\"fStatStyle\":1001,\"fStatFormat\":\"6.4g\",\"fStatX\":0.98,\"fStatY\":0.935,\"fStatW\":0.2,\"fStatH\":0.16,\"fStripDecimals\":true,\"fTitleAlign\":23,\"fTitleColor\":0,\"fTitleTextColor\":1,\"fTitleBorderSize\":0,\"fTitleFont\":42,\"fTitleFontSize\":0.05,\"fTitleStyle\":0,\"fTitleX\":0.5,\"fTitleY\":0.995,\"fTitleW\":0,\"fTitleH\":0,\"fLegoInnerR\":0.5,\"fLineStyle\":[\"\",\"  \",\" 12 12\",\" 4 8\",\" 12 16 4 16\",\" 20 12 4 12\",\" 20 12 4 12 4 12 4 12\",\" 20 20\",\" 20 12 4 12 4 12\",\" 80 20\",\" 80 40 4 40\",\"  \",\"  \",\"  \",\"  \",\"  \",\"  \",\"  \",\"  \",\"  \",\"  \",\"  \",\"  \",\"  \",\"  \",\"  \",\"  \",\"  \",\"  \",\"  \"],\"fHeaderPS\":\"\",\"fTitlePS\":\"\",\"fFitFormat\":\"5.4g\",\"fPaintTextFormat\":\"g\",\"fLineScalePS\":3,\"fJoinLinePS\":0,\"fCapLinePS\":0,\"fTimeOffset\":788918400,\"fImageScaling\":1}],\"opt\":[\"\",\"colz\",\"blNDC\",\"\"]},\"fExecs\":null,\"fName\":\"c4\",\"fTitle\":\"\",\"fNumPaletteColor\":0,\"fNextPaletteColor\":0,\"fDISPLAY\":\"$DISPLAY\",\"fDoubleBuffer\":0,\"fRetained\":true,\"fXsizeUser\":0,\"fYsizeUser\":0,\"fXsizeReal\":20,\"fYsizeReal\":14.28571,\"fWindowTopX\":0,\"fWindowTopY\":0,\"fWindowWidth\":0,\"fWindowHeight\":0,\"fCw\":696,\"fCh\":472,\"fCatt\":{\"_typename\":\"TAttCanvas\",\"fXBetween\":2,\"fYBetween\":2,\"fTitleFromTop\":1.2,\"fXdate\":0.2,\"fYdate\":0.3,\"fAdate\":1},\"kMoveOpaque\":true,\"kResizeOpaque\":true,\"fHighLightColor\":2,\"fBatch\":true,\"kShowEventStatus\":false,\"kAutoExec\":true,\"kMenuBar\":true});\n",
       "   Core.settings.HandleKeys = false;\n",
       "   Core.draw(\"root_plot_1665238635897\", obj, \"\");\n",
       "}\n",
       "\n",
       "function script_load_root_plot_1665238635897(src, on_error) {\n",
       "    let script = document.createElement('script');\n",
       "    script.src = src;\n",
       "    script.onload = function() { display_root_plot_1665238635897(JSROOT); };\n",
       "    script.onerror = function() { script.remove(); on_error(); };\n",
       "    document.head.appendChild(script);\n",
       "}\n",
       "\n",
       "if (typeof requirejs !== 'undefined') {\n",
       "\n",
       "    // We are in jupyter notebooks, use require.js which should be configured already\n",
       "    requirejs.config({\n",
       "       paths: { 'JSRootCore' : [ 'scripts/JSRoot.core', 'https://root.cern/js/6.1.1/scripts/JSRoot.core.min', 'https://jsroot.gsi.de/6.1.1/scripts/JSRoot.core.min' ] }\n",
       "    })(['JSRootCore'],  function(Core) {\n",
       "       display_root_plot_1665238635897(Core);\n",
       "    });\n",
       "\n",
       "} else if (typeof JSROOT !== 'undefined') {\n",
       "\n",
       "   // JSROOT already loaded, just use it\n",
       "   display_root_plot_1665238635897(JSROOT);\n",
       "\n",
       "} else {\n",
       "\n",
       "    // We are in jupyterlab without require.js, directly loading jsroot\n",
       "    // Jupyterlab might be installed in a different base_url so we need to know it.\n",
       "    try {\n",
       "        var base_url = JSON.parse(document.getElementById('jupyter-config-data').innerHTML).baseUrl;\n",
       "    } catch(_) {\n",
       "        var base_url = '/';\n",
       "    }\n",
       "\n",
       "    // Try loading a local version of requirejs and fallback to cdn if not possible.\n",
       "    script_load_root_plot_1665238635897(base_url + 'static/scripts/JSRoot.core.js', function(){\n",
       "        console.error('Fail to load JSROOT locally, please check your jupyter_notebook_config.py file');\n",
       "        script_load_root_plot_1665238635897('https://root.cern/js/6.1.1/scripts/JSRoot.core.min.js', function(){\n",
       "            document.getElementById(\"root_plot_1665238635897\").innerHTML = \"Failed to load JSROOT\";\n",
       "        });\n",
       "    });\n",
       "}\n",
       "\n",
       "</script>\n"
      ],
      "text/plain": [
       "<IPython.core.display.HTML object>"
      ]
     },
     "metadata": {},
     "output_type": "display_data"
    }
   ],
   "source": [
    "\n",
    "fit2D = ROOT.TF2(\"fit2D\", \"[0] * ( 1 + [1]*y*y + 2*[2]*sqrt(1-y*y)*y*cos(x) + [3]*(1-y*y)*cos(2*x)/2.) \", -3.14, 3.14, -0.5, 0.5);\n",
    "ROOT.gStyle.SetOptFit();\n",
    "can4 = TCanvas(\"c4\", )\n",
    "rat = phi_costh_hist.Clone()\n",
    "rat.Divide(acc_hist)\n",
    "rat.Draw(\"colz\")\n",
    "rat.Fit(\"fit2D\")\n",
    "ROOT.gStyle.SetOptStat(0);\n",
    "ROOT.gStyle.SetOptStat(0);\n",
    "can4.Draw()"
   ]
  },
  {
   "cell_type": "code",
   "execution_count": null,
   "id": "faabd2cf-2d87-48b5-909c-efb6c251d1c8",
   "metadata": {},
   "outputs": [],
   "source": []
  }
 ],
 "metadata": {
  "kernelspec": {
   "display_name": "Python 3 (ipykernel)",
   "language": "python",
   "name": "python3"
  },
  "language_info": {
   "codemirror_mode": {
    "name": "ipython",
    "version": 3
   },
   "file_extension": ".py",
   "mimetype": "text/x-python",
   "name": "python",
   "nbconvert_exporter": "python",
   "pygments_lexer": "ipython3",
   "version": "3.9.9"
  }
 },
 "nbformat": 4,
 "nbformat_minor": 5
}
