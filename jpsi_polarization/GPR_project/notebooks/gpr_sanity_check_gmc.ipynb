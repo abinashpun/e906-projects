{
 "cells": [
  {
   "cell_type": "code",
   "execution_count": 1,
   "id": "e100c8cd-5f8c-4f70-9d79-6c0659b455e0",
   "metadata": {},
   "outputs": [],
   "source": [
    "import uproot\n",
    "import numpy as np\n",
    "import numba\n",
    "import matplotlib.pyplot as plt\n",
    "import hist as hephist\n",
    "from matplotlib.ticker import MaxNLocator,AutoMinorLocator # for minor ticks\n",
    "from lmfit.models import PolynomialModel, GaussianModel # for the signal and background fits\n",
    "from sklearn.gaussian_process import GaussianProcessRegressor \n",
    "import scipy.optimize\n",
    "from sklearn.gaussian_process.kernels import RBF, Matern, RationalQuadratic, ExpSineSquared, DotProduct, WhiteKernel, ConstantKernel as C\n",
    "from sklearn.preprocessing import StandardScaler, Normalizer\n",
    "from sklearn.pipeline import Pipeline\n",
    "import pandas as pd\n",
    "import scipy.stats\n",
    "from scipy import integrate as intg \n",
    "from scipy.integrate import trapz, simps, quad\n",
    "import math\n",
    "from uncertainties import ufloat\n",
    "%matplotlib widget"
   ]
  },
  {
   "cell_type": "code",
   "execution_count": 2,
   "id": "38e71282-6ffc-45bf-8d06-4b97307d3b44",
   "metadata": {},
   "outputs": [
    {
     "name": "stdout",
     "output_type": "stream",
     "text": [
      "Welcome to JupyROOT 6.24/06\n"
     ]
    }
   ],
   "source": [
    "from  help_class import model\n",
    "import mplhep as hep"
   ]
  },
  {
   "cell_type": "markdown",
   "id": "dc860b82-62bd-47ed-a57a-749c76e56423",
   "metadata": {},
   "source": [
    "# GMC Validation at different pT and XF bins"
   ]
  },
  {
   "cell_type": "code",
   "execution_count": 4,
   "id": "2aa1f325-55a0-46d4-aea9-d5d4b36c5569",
   "metadata": {},
   "outputs": [
    {
     "data": {
      "text/html": [
       "<div>\n",
       "<style scoped>\n",
       "    .dataframe tbody tr th:only-of-type {\n",
       "        vertical-align: middle;\n",
       "    }\n",
       "\n",
       "    .dataframe tbody tr th {\n",
       "        vertical-align: top;\n",
       "    }\n",
       "\n",
       "    .dataframe thead th {\n",
       "        text-align: right;\n",
       "    }\n",
       "</style>\n",
       "<table border=\"1\" class=\"dataframe\">\n",
       "  <thead>\n",
       "    <tr style=\"text-align: right;\">\n",
       "      <th></th>\n",
       "      <th>runID</th>\n",
       "      <th>spillID</th>\n",
       "      <th>eventID</th>\n",
       "      <th>dimuonID</th>\n",
       "      <th>mass</th>\n",
       "      <th>px1</th>\n",
       "      <th>py1</th>\n",
       "      <th>pz1</th>\n",
       "      <th>px2</th>\n",
       "      <th>py2</th>\n",
       "      <th>...</th>\n",
       "      <th>mxT</th>\n",
       "      <th>mxF</th>\n",
       "      <th>mdpx</th>\n",
       "      <th>mdpy</th>\n",
       "      <th>mdpz</th>\n",
       "      <th>sigWeight</th>\n",
       "      <th>D1</th>\n",
       "      <th>D2</th>\n",
       "      <th>D3</th>\n",
       "      <th>ReWeight</th>\n",
       "    </tr>\n",
       "  </thead>\n",
       "  <tbody>\n",
       "    <tr>\n",
       "      <th>0</th>\n",
       "      <td>1.0</td>\n",
       "      <td>1.0</td>\n",
       "      <td>5.0</td>\n",
       "      <td>1.0</td>\n",
       "      <td>6.463176</td>\n",
       "      <td>-3.106632</td>\n",
       "      <td>-2.129862</td>\n",
       "      <td>33.278114</td>\n",
       "      <td>2.067885</td>\n",
       "      <td>1.719356</td>\n",
       "      <td>...</td>\n",
       "      <td>0.379466</td>\n",
       "      <td>0.390696</td>\n",
       "      <td>-0.374616</td>\n",
       "      <td>0.088753</td>\n",
       "      <td>80.563202</td>\n",
       "      <td>2.231384</td>\n",
       "      <td>62</td>\n",
       "      <td>43</td>\n",
       "      <td>62</td>\n",
       "      <td>3.605462</td>\n",
       "    </tr>\n",
       "    <tr>\n",
       "      <th>1</th>\n",
       "      <td>1.0</td>\n",
       "      <td>1.0</td>\n",
       "      <td>9.0</td>\n",
       "      <td>2.0</td>\n",
       "      <td>7.927976</td>\n",
       "      <td>-2.481393</td>\n",
       "      <td>-2.275653</td>\n",
       "      <td>48.188400</td>\n",
       "      <td>3.935459</td>\n",
       "      <td>2.273817</td>\n",
       "      <td>...</td>\n",
       "      <td>0.329666</td>\n",
       "      <td>0.737642</td>\n",
       "      <td>0.841443</td>\n",
       "      <td>-0.306283</td>\n",
       "      <td>103.453140</td>\n",
       "      <td>0.150724</td>\n",
       "      <td>230</td>\n",
       "      <td>203</td>\n",
       "      <td>250</td>\n",
       "      <td>0.173923</td>\n",
       "    </tr>\n",
       "    <tr>\n",
       "      <th>2</th>\n",
       "      <td>1.0</td>\n",
       "      <td>1.0</td>\n",
       "      <td>10.0</td>\n",
       "      <td>3.0</td>\n",
       "      <td>5.726212</td>\n",
       "      <td>-1.971867</td>\n",
       "      <td>-0.151348</td>\n",
       "      <td>25.555805</td>\n",
       "      <td>3.504016</td>\n",
       "      <td>2.311271</td>\n",
       "      <td>...</td>\n",
       "      <td>0.261206</td>\n",
       "      <td>0.587924</td>\n",
       "      <td>-0.851051</td>\n",
       "      <td>1.370690</td>\n",
       "      <td>89.148918</td>\n",
       "      <td>5.925457</td>\n",
       "      <td>349</td>\n",
       "      <td>331</td>\n",
       "      <td>320</td>\n",
       "      <td>3.031287</td>\n",
       "    </tr>\n",
       "    <tr>\n",
       "      <th>3</th>\n",
       "      <td>1.0</td>\n",
       "      <td>1.0</td>\n",
       "      <td>11.0</td>\n",
       "      <td>4.0</td>\n",
       "      <td>4.913350</td>\n",
       "      <td>-2.263586</td>\n",
       "      <td>-1.909082</td>\n",
       "      <td>60.912781</td>\n",
       "      <td>2.018088</td>\n",
       "      <td>0.629279</td>\n",
       "      <td>...</td>\n",
       "      <td>0.121771</td>\n",
       "      <td>0.901063</td>\n",
       "      <td>-0.201091</td>\n",
       "      <td>-1.233798</td>\n",
       "      <td>111.599670</td>\n",
       "      <td>1.113330</td>\n",
       "      <td>180</td>\n",
       "      <td>227</td>\n",
       "      <td>257</td>\n",
       "      <td>0.673723</td>\n",
       "    </tr>\n",
       "    <tr>\n",
       "      <th>4</th>\n",
       "      <td>1.0</td>\n",
       "      <td>1.0</td>\n",
       "      <td>16.0</td>\n",
       "      <td>5.0</td>\n",
       "      <td>6.903460</td>\n",
       "      <td>-4.157282</td>\n",
       "      <td>1.050577</td>\n",
       "      <td>29.506681</td>\n",
       "      <td>2.667121</td>\n",
       "      <td>-0.767817</td>\n",
       "      <td>...</td>\n",
       "      <td>0.446951</td>\n",
       "      <td>0.011997</td>\n",
       "      <td>0.197126</td>\n",
       "      <td>-0.331308</td>\n",
       "      <td>54.780998</td>\n",
       "      <td>14.544341</td>\n",
       "      <td>290</td>\n",
       "      <td>326</td>\n",
       "      <td>331</td>\n",
       "      <td>18.990019</td>\n",
       "    </tr>\n",
       "  </tbody>\n",
       "</table>\n",
       "<p>5 rows × 105 columns</p>\n",
       "</div>"
      ],
      "text/plain": [
       "   runID  spillID  eventID  dimuonID      mass       px1       py1        pz1  \\\n",
       "0    1.0      1.0      5.0       1.0  6.463176 -3.106632 -2.129862  33.278114   \n",
       "1    1.0      1.0      9.0       2.0  7.927976 -2.481393 -2.275653  48.188400   \n",
       "2    1.0      1.0     10.0       3.0  5.726212 -1.971867 -0.151348  25.555805   \n",
       "3    1.0      1.0     11.0       4.0  4.913350 -2.263586 -1.909082  60.912781   \n",
       "4    1.0      1.0     16.0       5.0  6.903460 -4.157282  1.050577  29.506681   \n",
       "\n",
       "        px2       py2  ...       mxT       mxF      mdpx      mdpy  \\\n",
       "0  2.067885  1.719356  ...  0.379466  0.390696 -0.374616  0.088753   \n",
       "1  3.935459  2.273817  ...  0.329666  0.737642  0.841443 -0.306283   \n",
       "2  3.504016  2.311271  ...  0.261206  0.587924 -0.851051  1.370690   \n",
       "3  2.018088  0.629279  ...  0.121771  0.901063 -0.201091 -1.233798   \n",
       "4  2.667121 -0.767817  ...  0.446951  0.011997  0.197126 -0.331308   \n",
       "\n",
       "         mdpz  sigWeight   D1   D2   D3   ReWeight  \n",
       "0   80.563202   2.231384   62   43   62   3.605462  \n",
       "1  103.453140   0.150724  230  203  250   0.173923  \n",
       "2   89.148918   5.925457  349  331  320   3.031287  \n",
       "3  111.599670   1.113330  180  227  257   0.673723  \n",
       "4   54.780998  14.544341  290  326  331  18.990019  \n",
       "\n",
       "[5 rows x 105 columns]"
      ]
     },
     "execution_count": 4,
     "metadata": {},
     "output_type": "execute_result"
    }
   ],
   "source": [
    "#file = uproot.open(\"../../root_files/result_mcDY_dump.root\")\n",
    "#file=uproot.open(\"merged_flask_result.root\")\n",
    "\n",
    "#file = uproot.open(\"/Users/abinashpun/E906_projects/root_files/mc_drellyan_LD2_M027_S001_messy_occ_pTxFweight_v2.root\" ,object_cache=1000)\n",
    "file = uproot.open(\"/Users/abinashpun/E906_projects/root_files/mc_drellyan_LH2_M027_S001_messy_occ_pTxFweight_v2.root\",object_cache=1000)\n",
    "#file = uproot.open(\"/Users/abinashpun/E906_projects/root_files/result_mcDY_M027_S001_messy_dump.root\",object_cache=1000)\n",
    "result_mc = file['Tree']\n",
    "#result_mc = file['result_mc']\n",
    "df_mc = result_mc.arrays(library=\"pd\") #to get as pandas data frame\n",
    "df_mc.head()"
   ]
  },
  {
   "cell_type": "markdown",
   "id": "26394027-3e77-45f9-a374-5a8f2d83c240",
   "metadata": {},
   "source": [
    "## Cuts"
   ]
  },
  {
   "cell_type": "code",
   "execution_count": null,
   "id": "f309572f-6048-4593-8972-ee898cd46066",
   "metadata": {},
   "outputs": [],
   "source": [
    "pT_threshold = .6\n",
    "xF_threshold = 0.5\n",
    "mass_threshold = 0.0\n",
    "\n",
    "#mass_mask = df_mc['dim_mass']>mass_threshold\n",
    "\n",
    "# pT_low_mask = (df_mc['dim_mass']>mass_threshold) & (df_mc['dim_pT']<pT_threshold)\n",
    "# pT_high_mask = (df_mc['dim_mass']>mass_threshold) & (df_mc['dim_pT']>pT_threshold)\n",
    "\n",
    "# xF_low_mask = (df_mc['dim_mass']>mass_threshold) & (df_mc['dim_pT']<xF_threshold)\n",
    "# xF_high_mask = (df_mc['dim_mass']>mass_threshold) & (df_mc['dim_pT']>xF_threshold)\n",
    "\n",
    "loose_cuts = (df_mc['chisq_dimuon']<20.) & df_mc['mass']>mass_threshold #& (((df_mc['negRoad'])*(df_mc['posRoad']))<0.)\n",
    "\n",
    "df_mc['pT'] = np.sqrt(df_mc['dpx']*df_mc['dpx']+df_mc['dpy']*df_mc['dpy']) \n",
    "\n",
    "physical_xF = (df_mc['xF'] > -2.) & (df_mc['xF'] < 2.)\n",
    "\n",
    "phys_mask =  (np.fabs(df_mc['costh'])<0.5) &\\\n",
    "                (df_mc['xF'] > 0.2) & (df_mc['xF'] < .95) &\\\n",
    "                (df_mc['mass']<10.) & (df_mc['mass']>0.1) &\\\n",
    "                (df_mc['pT'] > 0.) & (df_mc['pT'] < 2.5)\n",
    "\n",
    "\n",
    "df_mc['xF'] = df_mc['xF'][physical_xF]\n",
    "pT_low_mask =  (df_mc['pT']<pT_threshold) & (loose_cuts) & (phys_mask)\n",
    "pT_high_mask = (df_mc['pT']>pT_threshold) & (loose_cuts) & (phys_mask)\n",
    "\n",
    "xF_low_mask =  (df_mc['xF']<xF_threshold) & (loose_cuts) & (phys_mask)\n",
    "xF_high_mask = (df_mc['xF']>xF_threshold)  & (loose_cuts) & (phys_mask)\n"
   ]
  },
  {
   "cell_type": "code",
   "execution_count": null,
   "id": "a384dff0-38c9-425f-ad5c-15646024cd96",
   "metadata": {},
   "outputs": [],
   "source": [
    "# pT = df_mc['dim_pT'][mass_mask]\n",
    "\n",
    "# hpT, bins = np.histogram(pT, bins=200, weights = df_mc['weight'][mass_mask])\n",
    "# f, ax = plt.subplots()\n",
    "# hep.histplot(hpT, bins, yerr=True,)"
   ]
  },
  {
   "cell_type": "markdown",
   "id": "30c82ad7-4201-46a8-84be-cf104d6b9096",
   "metadata": {},
   "source": [
    "## Functions; plot, creating sideband, gpr plot"
   ]
  },
  {
   "cell_type": "code",
   "execution_count": null,
   "id": "53849aa8-641c-47d5-b1fb-d3e1713656a3",
   "metadata": {},
   "outputs": [],
   "source": [
    "xmin = 0.5 # GeV; lower limit of mass\n",
    "xmax = 9. # GeV; higher limit of mass\n",
    "step_size = .25 # GeV\n",
    "    \n",
    "\n",
    "def plot_data(data, wt):\n",
    "\n",
    "    bin_edges = np.arange(start=xmin, # The interval includes this value\n",
    "                     stop=xmax+step_size, # The interval doesn't include this value\n",
    "                     step=step_size ) # Spacing between values\n",
    "    bin_centers = np.arange(start=xmin+step_size/2, # The interval includes this value\n",
    "                            stop=xmax+step_size/2, # The interval doesn't include this value\n",
    "                            step=step_size ) # Spacing between values\n",
    "\n",
    "    data_x,bin_data_x = np.histogram(data, weights = wt,\n",
    "                          bins=bin_edges ) # histogram the data\n",
    "    \n",
    "    data_x_errors = np.sqrt(np.histogram(data, bins=bin_data_x, weights=(wt)**2)[0])\n",
    "\n",
    "    fig = plt.figure(figsize=(10,6))\n",
    "    plt.errorbar(bin_centers,data_x,yerr=data_x_errors,linewidth=2,color=\"black\",fmt='o',label=\"pt <1.0\")\n",
    "    #plt.plot(bin_edges[0:-1], data_x,label=\"Data\", color=\"black\")\n",
    "    plt.xlabel('Dimuon Mass $[GeV/c^2]$',\n",
    "                        x=1, horizontalalignment='right', \n",
    "                        fontsize=18 ) \n",
    "    #plt.yscale('log')\n",
    "    #plt.legend()\n",
    "    #plt.legend(prop={'size':15})\n",
    "    #plt.ylim(bottom=-0.25e7)\n",
    "    plt.grid(True)\n",
    "    return data_x, bin_centers, data_x_errors\n",
    "\n",
    "\n",
    "def create_side_band_data(sideband_,data_,bin_centers_,data_errors_):\n",
    "    data=np.column_stack((np.array(bin_centers_),np.array(data_), np.array(data_errors_)))\n",
    "    mask = (((sideband_[0] <= data[:,0]) & (data[:,0] <= sideband_[1])) | ((sideband_[2] <= data[:,0]) & (data[:,0] <= sideband_[3])))\n",
    "    data_train = data[mask]\n",
    "    X_train=data_train[:,0]\n",
    "    Y_train=data_train[:,1]\n",
    "    Y_train_error=data_train[:,2]\n",
    "    return X_train, Y_train, Y_train_error\n",
    "\n",
    "\n",
    "def plot_data_gpr(bin_centers, data_x, data_x_errors, Y_pred, sigma):\n",
    "    fig = plt.figure(figsize=(10,7))\n",
    "    plt.errorbar(bin_centers,data_x,yerr=data_x_errors,linewidth=2,color=\"black\",fmt='o',label=\"xF > 0.5 GeV\")\n",
    "    #plt.errorbar(bin_centers,data_x,yerr=data_x_errors,linewidth=2,color=\"black\",fmt='o')\n",
    "    pred_axes = plt.gca()\n",
    "    pred_axes.plot(bin_centers,Y_pred, label=\"Mean prediction from GPR\",color='orange',linestyle='--',linewidth=2)\n",
    "    pred_axes.fill_between(\n",
    "        bin_centers.ravel(),\n",
    "        Y_pred - 1.96 * sigma,\n",
    "        Y_pred + 1.96 * sigma,\n",
    "        alpha=0.5,\n",
    "        label=r\"95% confidence interval\",\n",
    "        color='orange'\n",
    "    )\n",
    "    plt.legend()\n",
    "    plt.legend(prop={'size':15})\n",
    "    plt.xlabel('Dimuon Mass $[GeV/c^2]$',\n",
    "                            x=1, horizontalalignment='right', \n",
    "                            fontsize=18 ) \n",
    "    plt.grid(True)\n",
    "    #plt.ylim(bottom=-0.25e7)\n",
    "    plt.axvspan(sideband[0], sideband[1], alpha=0.2, color='red')\n",
    "    plt.axvspan(sideband[2], sideband[3], alpha=0.2, color='red')\n",
    "    #plt.show()\n",
    "    #plt.yscale('log')\n"
   ]
  },
  {
   "cell_type": "code",
   "execution_count": null,
   "id": "1c9e827f-8749-4d3a-bb93-9276ec80f387",
   "metadata": {},
   "outputs": [],
   "source": [
    "mass_norm = 0.99;\n",
    "data_mass=mass_norm*df_mc['mass']\n",
    "wt = df_mc['sigWeight']\n",
    "\n",
    "data_x, bin_centers, data_x_errors = plot_data(data_mass,wt)"
   ]
  },
  {
   "cell_type": "code",
   "execution_count": null,
   "id": "591b9233-9759-4486-b176-001bd38ca42a",
   "metadata": {},
   "outputs": [],
   "source": [
    "sideband = np.array([1.8, 2.5, 4.5, 7.0])\n",
    "X_train, Y_train, Y_train_error = create_side_band_data(sideband,data_x, bin_centers, data_x_errors)"
   ]
  },
  {
   "cell_type": "code",
   "execution_count": null,
   "id": "25e79741-9c88-452e-93fc-d402e2842267",
   "metadata": {},
   "outputs": [],
   "source": [
    "sideband_kernel = C(5000.0, (1e-10, 1e15))*RBF(length_scale=5, length_scale_bounds=(1e-4, 1e15))\n",
    "\n",
    "gaussian_process = GaussianProcessRegressor(kernel=sideband_kernel, alpha=Y_train_error**2, n_restarts_optimizer=200)\n",
    "gaussian_process.fit(np.atleast_2d(X_train).T, Y_train)\n",
    "gaussian_process.kernel_\n",
    "f\"Log-likelihood: {gaussian_process.log_marginal_likelihood(gaussian_process.kernel_.theta):.3f}\""
   ]
  },
  {
   "cell_type": "code",
   "execution_count": null,
   "id": "2d4d3f5c-e869-4076-b3bd-2cd256b9e7e1",
   "metadata": {},
   "outputs": [],
   "source": [
    "Y_pred, sigma = gaussian_process.predict(np.atleast_2d(bin_centers).T, return_std=True)\n",
    "Y_pred, cov_matrix = gaussian_process.predict(np.atleast_2d(bin_centers).T, return_cov=True)\n",
    "\n",
    "sigma2 = np.sum(cov_matrix, axis=0)\n",
    "gpr_error = np.sqrt(abs(sigma2))\n",
    "plot_data_gpr(bin_centers, data_x, data_x_errors, Y_pred, sigma)"
   ]
  },
  {
   "cell_type": "code",
   "execution_count": null,
   "id": "676e2b09-b69f-4fcd-839d-69c706ea3448",
   "metadata": {},
   "outputs": [],
   "source": [
    "data_mass_lowpt=mass_norm*df_mc['mass'][pT_low_mask]\n",
    "wt_lowpt = df_mc['sigWeight'][pT_low_mask]\n",
    "\n",
    "data_x, bin_centers, data_x_errors = plot_data(data_mass_lowpt,wt_lowpt)\n"
   ]
  },
  {
   "cell_type": "code",
   "execution_count": null,
   "id": "ff4b1d08-6322-4646-9a49-eec7ef7553d7",
   "metadata": {},
   "outputs": [],
   "source": [
    "# h, bins = np.histogram(data_mass, bins=20, weights = wt)\n",
    "# f, ax = plt.subplots()\n",
    "# hep.histplot(h, bins, yerr=True,)\n",
    "# #ax.set_yscale('log')"
   ]
  },
  {
   "cell_type": "code",
   "execution_count": null,
   "id": "3d34891d-64e0-49e0-b10d-5c8d5484eead",
   "metadata": {},
   "outputs": [],
   "source": [
    "sideband = np.array([1.8, 2.5, 4.5, 7.])\n",
    "X_train, Y_train, Y_train_error = create_side_band_data(sideband,data_x, bin_centers, data_x_errors)"
   ]
  },
  {
   "cell_type": "code",
   "execution_count": null,
   "id": "58cd708b-8715-4431-84f7-0380aa241787",
   "metadata": {},
   "outputs": [],
   "source": [
    "sideband_kernel = C(5000.0, (1e-10, 1e15))*RBF(length_scale=5, length_scale_bounds=(1e-4, 1e15))\n",
    "\n",
    "gaussian_process = GaussianProcessRegressor(kernel=sideband_kernel, alpha=Y_train_error**2, n_restarts_optimizer=200)\n",
    "gaussian_process.fit(np.atleast_2d(X_train).T, Y_train)\n",
    "gaussian_process.kernel_\n",
    "f\"Log-likelihood: {gaussian_process.log_marginal_likelihood(gaussian_process.kernel_.theta):.3f}\""
   ]
  },
  {
   "cell_type": "code",
   "execution_count": null,
   "id": "c3a4cf4a-7c8a-4cd2-a92d-d391090a6376",
   "metadata": {},
   "outputs": [],
   "source": [
    "Y_pred, sigma = gaussian_process.predict(np.atleast_2d(bin_centers).T, return_std=True)\n",
    "Y_pred, cov_matrix = gaussian_process.predict(np.atleast_2d(bin_centers).T, return_cov=True)\n",
    "\n",
    "sigma2 = np.sum(cov_matrix, axis=0)\n",
    "gpr_error = np.sqrt(abs(sigma2))\n",
    "plot_data_gpr(bin_centers, data_x, data_x_errors, Y_pred, sigma)"
   ]
  },
  {
   "cell_type": "code",
   "execution_count": null,
   "id": "71f0a3c3-2856-4240-97cf-e35ea9ba5863",
   "metadata": {},
   "outputs": [],
   "source": [
    "data_mass_highpT=mass_norm*df_mc['mass'][pT_high_mask]\n",
    "wt_highpT = df_mc['sigWeight'][pT_high_mask]\n",
    "\n",
    "data_x_highpT, bin_centers_highpT, data_x_errors_highpT = plot_data(data_mass_highpT,wt_highpT)"
   ]
  },
  {
   "cell_type": "code",
   "execution_count": null,
   "id": "6506d07e-f0af-4d5d-a7cd-624b4c7c1a76",
   "metadata": {},
   "outputs": [],
   "source": [
    "sideband = np.array([1.8, 2.5, 4.5, 7.])\n",
    "X_train_highpT, Y_train_highpT, Y_train_error_highpT = create_side_band_data(sideband,data_x_highpT, bin_centers_highpT, data_x_errors_highpT)"
   ]
  },
  {
   "cell_type": "code",
   "execution_count": null,
   "id": "1694d66a-86d9-400c-9b63-533c7fb71751",
   "metadata": {},
   "outputs": [],
   "source": [
    "sideband_kernel_highpT = C(5000.0, (1e-10, 1e15))*RBF(length_scale=5, length_scale_bounds=(1e-4, 1e15))\n",
    "\n",
    "gaussian_process_highpT = GaussianProcessRegressor(kernel=sideband_kernel_highpT, alpha=Y_train_error_highpT**2, n_restarts_optimizer=200)\n",
    "gaussian_process_highpT.fit(np.atleast_2d(X_train_highpT).T, Y_train_highpT)\n",
    "gaussian_process_highpT.kernel_\n",
    "f\"Log-likelihood: {gaussian_process.log_marginal_likelihood(gaussian_process_highpT.kernel_.theta):.3f}\""
   ]
  },
  {
   "cell_type": "code",
   "execution_count": null,
   "id": "700a83b6-ca3c-48e5-bed5-006b83cce69f",
   "metadata": {},
   "outputs": [],
   "source": [
    "Y_pred_highpT, sigma_highpT = gaussian_process_highpT.predict(np.atleast_2d(bin_centers_highpT).T, return_std=True)\n",
    "Y_pred_highpT, cov_matrix_highpT = gaussian_process_highpT.predict(np.atleast_2d(bin_centers_highpT).T, return_cov=True)\n",
    "\n",
    "sigma2_highpT = np.sum(cov_matrix_highpT, axis=0)\n",
    "gpr_error_highpT = np.sqrt(abs(sigma2_highpT))\n",
    "plot_data_gpr(bin_centers_highpT, data_x_highpT, data_x_errors_highpT, Y_pred_highpT, sigma_highpT)"
   ]
  },
  {
   "cell_type": "code",
   "execution_count": null,
   "id": "79f3c191-7210-4c6f-bff4-08d649dbd68f",
   "metadata": {},
   "outputs": [],
   "source": []
  },
  {
   "cell_type": "code",
   "execution_count": null,
   "id": "883dca0c-eec1-4473-b3d0-2ab73fa197bd",
   "metadata": {},
   "outputs": [],
   "source": [
    "data_mass_lowxF=mass_norm*df_mc['mass'][xF_low_mask]\n",
    "wt_lowxF = df_mc['sigWeight'][xF_low_mask]\n",
    "\n",
    "data_x_lowxF, bin_centers_lowxF, data_x_errors_lowxF = plot_data(data_mass_lowxF,wt_lowxF)"
   ]
  },
  {
   "cell_type": "code",
   "execution_count": null,
   "id": "0cd4e702-d826-499d-8685-063a3ae29f55",
   "metadata": {},
   "outputs": [],
   "source": [
    "sideband = np.array([1.8, 2.5, 4.5, 6.5])\n",
    "X_train_lowxF, Y_train_lowxF, Y_train_error_lowxF = create_side_band_data(sideband,data_x_lowxF, bin_centers_lowxF, data_x_errors_lowxF)"
   ]
  },
  {
   "cell_type": "code",
   "execution_count": null,
   "id": "842a1254-2b6c-4eff-8acf-52b543d7680c",
   "metadata": {},
   "outputs": [],
   "source": [
    "sideband_kernel_lowxF = C(50000.0, (1e-10, 1e15))*RBF(length_scale=5, length_scale_bounds=(1e-4, 1e15))\n",
    "\n",
    "gaussian_process_lowxF = GaussianProcessRegressor(kernel=sideband_kernel_lowxF, alpha=Y_train_error_lowxF**2, n_restarts_optimizer=200)\n",
    "gaussian_process_lowxF.fit(np.atleast_2d(X_train_lowxF).T, Y_train_lowxF)\n",
    "gaussian_process_lowxF.kernel_\n",
    "f\"Log-likelihood: {gaussian_process.log_marginal_likelihood(gaussian_process_lowxF.kernel_.theta):.3f}\""
   ]
  },
  {
   "cell_type": "code",
   "execution_count": null,
   "id": "dc2b3014-c57d-4633-8dca-d2a7c284b0da",
   "metadata": {},
   "outputs": [],
   "source": [
    "Y_pred_lowxF, sigma_lowxF = gaussian_process_lowxF.predict(np.atleast_2d(bin_centers_lowxF).T, return_std=True)\n",
    "Y_pred_lowxF, cov_matrix_lowxF = gaussian_process_lowxF.predict(np.atleast_2d(bin_centers_lowxF).T, return_cov=True)\n",
    "\n",
    "sigma2_lowxF = np.sum(cov_matrix_lowxF, axis=0)\n",
    "gpr_error_lowxF = np.sqrt(abs(sigma2_lowxF))\n",
    "plot_data_gpr(bin_centers_lowxF, data_x_lowxF, data_x_errors_lowxF, Y_pred_lowxF, sigma_lowxF)"
   ]
  },
  {
   "cell_type": "code",
   "execution_count": null,
   "id": "52374c5a-544b-4d48-bedc-61571dac2f45",
   "metadata": {},
   "outputs": [],
   "source": []
  },
  {
   "cell_type": "code",
   "execution_count": null,
   "id": "79053202-df2b-47aa-9610-fdadcb0e4274",
   "metadata": {},
   "outputs": [],
   "source": [
    "data_mass_highxF=mass_norm*df_mc['mass'][xF_high_mask]\n",
    "wt_highxF = df_mc['sigWeight'][xF_high_mask]\n",
    "\n",
    "data_x_highxF, bin_centers_highxF, data_x_errors_highxF = plot_data(data_mass_highxF,wt_highxF)"
   ]
  },
  {
   "cell_type": "code",
   "execution_count": null,
   "id": "1ce3192e-47a2-40ae-ab5f-8554716682ca",
   "metadata": {},
   "outputs": [],
   "source": [
    "X_train_highxF, Y_train_highxF, Y_train_error_highxF = create_side_band_data(sideband,data_x_highxF, bin_centers_highxF, data_x_errors_highxF)"
   ]
  },
  {
   "cell_type": "code",
   "execution_count": null,
   "id": "131b7d38-d5ae-4957-bdba-b1167868acf2",
   "metadata": {},
   "outputs": [],
   "source": [
    "# sideband_kernel_highxF = C(1e5, (1e-20, 1e25))*RBF(length_scale=10000, length_scale_bounds=(1e-4, 1e35))\n",
    "# #sideband_kernel_highxF = C(50000.0, (1e-10, 1e15))*ExpSineSquared(length_scale=5, length_scale_bounds=(1e-4, 1e15))\n",
    "# gaussian_process_highxF = GaussianProcessRegressor(kernel=sideband_kernel_highxF, alpha=Y_train_error_highxF**2, n_restarts_optimizer=100000)\n",
    "sideband_kernel_highxF = C(50000.0, (1e-10, 1e15))*RBF(length_scale=5, length_scale_bounds=(1e-4, 1e15))\n",
    "\n",
    "gaussian_process_highxF = GaussianProcessRegressor(kernel=sideband_kernel_highxF, alpha=Y_train_error_highxF**2, n_restarts_optimizer=200)\n",
    "\n",
    "gaussian_process_highxF.fit(np.atleast_2d(X_train_highxF).T, Y_train_highxF)\n",
    "gaussian_process_highxF.kernel_\n",
    "\n"
   ]
  },
  {
   "cell_type": "code",
   "execution_count": null,
   "id": "cbdbcf01-7bc3-4756-b864-899acdf1023f",
   "metadata": {},
   "outputs": [],
   "source": [
    "f\"Log-likelihood: {gaussian_process.log_marginal_likelihood(gaussian_process_highxF.kernel_.theta):.3f}\""
   ]
  },
  {
   "cell_type": "code",
   "execution_count": null,
   "id": "0f433e97-55ae-4023-8f6d-057b501b686f",
   "metadata": {},
   "outputs": [],
   "source": [
    "Y_pred_highxF, sigma_highxF = gaussian_process_highxF.predict(np.atleast_2d(bin_centers_highxF).T, return_std=True)\n",
    "Y_pred_highxF, cov_matrix_highxF = gaussian_process_highxF.predict(np.atleast_2d(bin_centers_highxF).T, return_cov=True)\n",
    "\n",
    "sigma2_highxF = np.sum(cov_matrix_highxF, axis=0)\n",
    "gpr_error_highxF = np.sqrt(abs(sigma2_highxF))\n",
    "plot_data_gpr(bin_centers_highxF, data_x_highxF, data_x_errors_highxF, Y_pred_highxF, sigma_highxF)"
   ]
  },
  {
   "cell_type": "code",
   "execution_count": null,
   "id": "4a0e6a75-a8ed-4a64-a39d-c130e28ee8cf",
   "metadata": {},
   "outputs": [],
   "source": []
  }
 ],
 "metadata": {
  "kernelspec": {
   "display_name": "Python 3 (ipykernel)",
   "language": "python",
   "name": "python3"
  },
  "language_info": {
   "codemirror_mode": {
    "name": "ipython",
    "version": 3
   },
   "file_extension": ".py",
   "mimetype": "text/x-python",
   "name": "python",
   "nbconvert_exporter": "python",
   "pygments_lexer": "ipython3",
   "version": "3.9.9"
  }
 },
 "nbformat": 4,
 "nbformat_minor": 5
}
